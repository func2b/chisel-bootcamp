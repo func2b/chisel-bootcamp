{
 "cells": [
  {
   "cell_type": "markdown",
   "metadata": {},
   "source": [
    "<a name=\"top\"></a><img src=\"images/chisel_1024.png\" alt=\"Chisel logo\" style=\"width:480px;\" />"
   ]
  },
  {
   "cell_type": "markdown",
   "metadata": {},
   "source": [
    "# Module 4.4: A FIRRTL Transform Example\n",
    "\n",
    "**Prev: [Common Pass Idioms](4.3_firrtl_common_idioms.ipynb)**<br>\n",
    "\n",
    "This AnalyzeCircuit Transform walks a `firrtl.ir.Circuit`, and records the number of add ops it finds, per module.\n",
    "\n",
    "## Setup\n",
    "\n",
    "Please run the following:"
   ]
  },
  {
   "cell_type": "code",
   "execution_count": 1,
   "metadata": {},
   "outputs": [
    {
     "name": "stderr",
     "output_type": "stream",
     "text": [
      "Downloading https://repo1.maven.org/maven2/net/sourceforge/f2j/arpack_combined_all/0.1/arpack_combined_all-0.1-sources.jar\n",
      "Downloading https://repo1.maven.org/maven2/net/sourceforge/f2j/arpack_combined_all/0.1/arpack_combined_all-0.1-sources.jar.sha1\n",
      "https://repo1.maven.org/maven2/net/sourceforge/f2j/arpack_combined_all/0.1/ar… \n",
      "https://repo1.maven.org/maven2/net/sourceforge/f2j/arpack_combined_all/0.1/ar… \n",
      "\n",
      "Downloading https://repo1.maven.org/maven2/net/sourceforge/f2j/arpack_combined_all/0.1/arpack_combined_all-0.1-sources.jar\n",
      "Downloading https://repo1.maven.org/maven2/net/sourceforge/f2j/arpack_combined_all/0.1/arpack_combined_all-0.1-sources.jar.sha1\n"
     ]
    },
    {
     "name": "stdout",
     "output_type": "stream",
     "text": [
      "Compiling /home/pantao/Documents/chisel-bootcamp/Main.sc"
     ]
    },
    {
     "data": {
      "text/plain": [
       "\u001b[36mpath\u001b[39m: \u001b[32mString\u001b[39m = \u001b[32m\"/home/pantao/Documents/chisel-bootcamp/source/load-ivy.sc\"\u001b[39m"
      ]
     },
     "execution_count": 1,
     "metadata": {},
     "output_type": "execute_result"
    }
   ],
   "source": [
    "val path = System.getProperty(\"user.dir\") + \"/source/load-ivy.sc\"\n",
    "interp.load.module(ammonite.ops.Path(java.nio.file.FileSystems.getDefault().getPath(path)))"
   ]
  },
  {
   "cell_type": "code",
   "execution_count": 2,
   "metadata": {},
   "outputs": [
    {
     "data": {
      "text/plain": [
       "\u001b[32mimport \u001b[39m\u001b[36mscala.collection.mutable\n",
       "\n",
       "\u001b[39m"
      ]
     },
     "execution_count": 2,
     "metadata": {},
     "output_type": "execute_result"
    }
   ],
   "source": [
    "// Compiler Infrastructure\n",
    "\n",
    "// Firrtl IR classes\n",
    "\n",
    "// Map functions\n",
    "\n",
    "// Scala's mutable collections\n",
    "import scala.collection.mutable\n",
    "\n"
   ]
  },
  {
   "cell_type": "markdown",
   "metadata": {},
   "source": [
    "## Counting Adders Per Module\n",
    "\n",
    "As described, earlier, a Firrtl circuit is represented using a tree representation:\n",
    "  - A Firrtl `Circuit` contains a sequence of `DefModule`s.\n",
    "  - A `DefModule` contains a sequence of `Port`s, and maybe a `Statement`.\n",
    "  - A `Statement` can contain other `Statement`s, or `Expression`s.\n",
    "  - A `Expression` can contain other `Expression`s.\n",
    "\n",
    "To visit all Firrtl IR nodes in a circuit, we write functions that recursively walk down this tree. To record statistics, we will pass along a `Ledger` class and use it when we come across an add op:"
   ]
  },
  {
   "cell_type": "code",
   "execution_count": 3,
   "metadata": {},
   "outputs": [
    {
     "data": {
      "text/plain": [
       "defined \u001b[32mclass\u001b[39m \u001b[36mLedger\u001b[39m"
      ]
     },
     "execution_count": 3,
     "metadata": {},
     "output_type": "execute_result"
    }
   ],
   "source": [
    "class Ledger {\n",
    "  import firrtl.Utils\n",
    "  private var moduleName: Option[String] = None\n",
    "  private val modules = mutable.Set[String]()\n",
    "  private val moduleAddMap = mutable.Map[String, Int]()\n",
    "  def foundAdd(): Unit = moduleName match {\n",
    "    case None => sys.error(\"Module name not defined in Ledger!\")\n",
    "    case Some(name) => moduleAddMap(name) = moduleAddMap.getOrElse(name, 0) + 1\n",
    "  }\n",
    "  def getModuleName: String = moduleName match {\n",
    "    case None => Utils.error(\"Module name not defined in Ledger!\")\n",
    "    case Some(name) => name\n",
    "  }\n",
    "  def setModuleName(myName: String): Unit = {\n",
    "    modules += myName\n",
    "    moduleName = Some(myName)\n",
    "  }\n",
    "  def serialize: String = {\n",
    "    modules map { myName =>\n",
    "      s\"$myName => ${moduleAddMap.getOrElse(myName, 0)} add ops!\"\n",
    "    } mkString \"\\n\"\n",
    "  }\n",
    "}"
   ]
  },
  {
   "cell_type": "markdown",
   "metadata": {},
   "source": [
    "Now, let's define a FIRRTL Transform that walks the circuit and updates our `Ledger` whenever it comes across an adder (`DoPrim` with op argument `Add`). Don't worry about `inputForm` or `outputForm` for now.\n",
    "\n",
    "Take some time to understand how `walkModule`, `walkStatement`, and `walkExpression` enable traversing all `DefModule`, `Statement`, and `Expression` nodes in the FIRRTL AST.\n",
    "\n",
    "Questions to answer:\n",
    "  - **Why doesn't walkModule call walkExpression?**\n",
    "  - **Why does walkExpression do a post-order traversal?**\n",
    "  - **Can you modify walkExpression to do a pre-order traversal of Expressions?**"
   ]
  },
  {
   "cell_type": "code",
   "execution_count": 4,
   "metadata": {},
   "outputs": [
    {
     "data": {
      "text/plain": [
       "defined \u001b[32mclass\u001b[39m \u001b[36mAnalyzeCircuit\u001b[39m"
      ]
     },
     "execution_count": 4,
     "metadata": {},
     "output_type": "execute_result"
    }
   ],
   "source": [
    "class AnalyzeCircuit extends firrtl.Transform {\n",
    "  import firrtl._\n",
    "  import firrtl.ir._\n",
    "  import firrtl.Mappers._\n",
    "  import firrtl.Parser._\n",
    "  import firrtl.annotations._\n",
    "  import firrtl.PrimOps._\n",
    "    \n",
    "  // Requires the [[Circuit]] form to be \"low\"\n",
    "  def inputForm = LowForm\n",
    "  // Indicates the output [[Circuit]] form to be \"low\"\n",
    "  def outputForm = LowForm\n",
    "\n",
    "  // Called by [[Compiler]] to run your pass. [[CircuitState]] contains\n",
    "  // the circuit and its form, as well as other related data.\n",
    "  def execute(state: CircuitState): CircuitState = {\n",
    "    val ledger = new Ledger()\n",
    "    val circuit = state.circuit\n",
    "\n",
    "    // Execute the function walkModule(ledger) on every [[DefModule]] in\n",
    "    // circuit, returning a new [[Circuit]] with new [[Seq]] of [[DefModule]].\n",
    "    //   - \"higher order functions\" - using a function as an object\n",
    "    //   - \"function currying\" - partial argument notation\n",
    "    //   - \"infix notation\" - fancy function calling syntax\n",
    "    //   - \"map\" - classic functional programming concept\n",
    "    //   - discard the returned new [[Circuit]] because circuit is unmodified\n",
    "    circuit map walkModule(ledger)\n",
    "\n",
    "    // Print our ledger\n",
    "    println(ledger.serialize)\n",
    "\n",
    "    // Return an unchanged [[CircuitState]]\n",
    "    state\n",
    "  }\n",
    "\n",
    "  // Deeply visits every [[Statement]] in m.\n",
    "  def walkModule(ledger: Ledger)(m: DefModule): DefModule = {\n",
    "    // Set ledger to current module name\n",
    "    ledger.setModuleName(m.name)\n",
    "\n",
    "    // Execute the function walkStatement(ledger) on every [[Statement]] in m.\n",
    "    //   - return the new [[DefModule]] (in this case, its identical to m)\n",
    "    //   - if m does not contain [[Statement]], map returns m.\n",
    "    m map walkStatement(ledger)\n",
    "  }\n",
    "\n",
    "  // Deeply visits every [[Statement]] and [[Expression]] in s.\n",
    "  def walkStatement(ledger: Ledger)(s: Statement): Statement = {\n",
    "\n",
    "    // Execute the function walkExpression(ledger) on every [[Expression]] in s.\n",
    "    //   - discard the new [[Statement]] (in this case, its identical to s)\n",
    "    //   - if s does not contain [[Expression]], map returns s.\n",
    "    s map walkExpression(ledger)\n",
    "\n",
    "    // Execute the function walkStatement(ledger) on every [[Statement]] in s.\n",
    "    //   - return the new [[Statement]] (in this case, its identical to s)\n",
    "    //   - if s does not contain [[Statement]], map returns s.\n",
    "    s map walkStatement(ledger)\n",
    "  }\n",
    "\n",
    "  // Deeply visits every [[Expression]] in e.\n",
    "  //   - \"post-order traversal\" - handle e's children [[Expression]] before e\n",
    "  def walkExpression(ledger: Ledger)(e: Expression): Expression = {\n",
    "\n",
    "    // Execute the function walkExpression(ledger) on every [[Expression]] in e.\n",
    "    //   - return the new [[Expression]] (in this case, its identical to e)\n",
    "    //   - if s does not contain [[Expression]], map returns e.\n",
    "    val visited = e map walkExpression(ledger)\n",
    "\n",
    "    visited match {\n",
    "      // If e is an adder, increment our ledger and return e.\n",
    "      case DoPrim(Add, _, _, _) =>\n",
    "        ledger.foundAdd\n",
    "        e\n",
    "      // If e is not an adder, return e.\n",
    "      case notadd => notadd\n",
    "    }\n",
    "  }\n",
    "}"
   ]
  },
  {
   "cell_type": "markdown",
   "metadata": {},
   "source": [
    "## Running our Transform\n",
    "\n",
    "Now that we've defined it, let's run it on a Chisel design! First, let's define a Chisel module."
   ]
  },
  {
   "cell_type": "code",
   "execution_count": 5,
   "metadata": {},
   "outputs": [
    {
     "data": {
      "text/plain": [
       "\u001b[32mimport \u001b[39m\u001b[36mchisel3._\n",
       "\u001b[39m\n",
       "\u001b[32mimport \u001b[39m\u001b[36mchisel3.util._\n",
       "\n",
       "\u001b[39m\n",
       "defined \u001b[32mclass\u001b[39m \u001b[36mAddMe\u001b[39m"
      ]
     },
     "execution_count": 5,
     "metadata": {},
     "output_type": "execute_result"
    }
   ],
   "source": [
    "// Chisel stuff\n",
    "import chisel3._\n",
    "import chisel3.util._\n",
    "\n",
    "class AddMe(nInputs: Int, width: Int) extends Module {\n",
    "  val io = IO(new Bundle {\n",
    "    val in  = Input(Vec(nInputs, UInt(width.W)))\n",
    "    val out = Output(UInt(width.W))\n",
    "  })\n",
    "  io.out := io.in.reduce(_ +& _)\n",
    "}"
   ]
  },
  {
   "cell_type": "markdown",
   "metadata": {},
   "source": [
    "Next, let's elaborate it into FIRRTL AST syntax."
   ]
  },
  {
   "cell_type": "code",
   "execution_count": 6,
   "metadata": {},
   "outputs": [
    {
     "name": "stdout",
     "output_type": "stream",
     "text": [
      "[\u001b[35minfo\u001b[0m] [0.003] Elaborating design...\n",
      "[\u001b[35minfo\u001b[0m] [1.499] Done elaborating.\n"
     ]
    },
    {
     "data": {
      "text/plain": [
       "\u001b[36mfirrtlSerialization\u001b[39m: \u001b[32mString\u001b[39m = \u001b[32m\"\"\";buildInfoPackage: chisel3, version: 3.1.0, scalaVersion: 2.11.12, sbtVersion: 1.1.1, builtAtString: 2018-04-17 19:22:56.455, builtAtMillis: 1523992976455\n",
       "circuit cmd4HelperAddMe : \n",
       "  module cmd4HelperAddMe : \n",
       "    input clock : Clock\n",
       "    input reset : UInt<1>\n",
       "    output io : {flip in : UInt<4>[8], out : UInt<4>}\n",
       "    \n",
       "    node _T_33 = add(io.in[0], io.in[1]) @[cmd4.sc 9:28]\n",
       "    node _T_34 = add(_T_33, io.in[2]) @[cmd4.sc 9:28]\n",
       "    node _T_35 = add(_T_34, io.in[3]) @[cmd4.sc 9:28]\n",
       "    node _T_36 = add(_T_35, io.in[4]) @[cmd4.sc 9:28]\n",
       "    node _T_37 = add(_T_36, io.in[5]) @[cmd4.sc 9:28]\n",
       "    node _T_38 = add(_T_37, io.in[6]) @[cmd4.sc 9:28]\n",
       "    node _T_39 = add(_T_38, io.in[7]) @[cmd4.sc 9:28]\n",
       "    io.out <= _T_39 @[cmd4.sc 9:10]\n",
       "    \n",
       "\"\"\"\u001b[39m"
      ]
     },
     "execution_count": 6,
     "metadata": {},
     "output_type": "execute_result"
    }
   ],
   "source": [
    "val firrtlSerialization = chisel3.Driver.emit(() => new AddMe(8, 4))"
   ]
  },
  {
   "cell_type": "markdown",
   "metadata": {},
   "source": [
    "Finally, let's compile our FIRRTL into Verilog, but include our custom transform into the compilation. Note that it prints out the number of add ops it found!"
   ]
  },
  {
   "cell_type": "code",
   "execution_count": 7,
   "metadata": {},
   "outputs": [
    {
     "name": "stdout",
     "output_type": "stream",
     "text": [
      "cmd4HelperAddMe => 7 add ops!\n",
      "Total FIRRTL Compile Time: 1128.0 ms\n"
     ]
    },
    {
     "data": {
      "text/plain": [
       "\u001b[36mverilog\u001b[39m: \u001b[32mString\u001b[39m = \u001b[32m\"\"\"module cmd4HelperAddMe(\n",
       "  input        clock,\n",
       "  input        reset,\n",
       "  input  [3:0] io_in_0,\n",
       "  input  [3:0] io_in_1,\n",
       "  input  [3:0] io_in_2,\n",
       "  input  [3:0] io_in_3,\n",
       "  input  [3:0] io_in_4,\n",
       "  input  [3:0] io_in_5,\n",
       "  input  [3:0] io_in_6,\n",
       "  input  [3:0] io_in_7,\n",
       "  output [3:0] io_out\n",
       ");\n",
       "  wire [4:0] _T_33;\n",
       "  wire [4:0] _GEN_0;\n",
       "  wire [5:0] _T_34;\n",
       "  wire [5:0] _GEN_1;\n",
       "  wire [6:0] _T_35;\n",
       "  wire [6:0] _GEN_2;\n",
       "  wire [7:0] _T_36;\n",
       "  wire [7:0] _GEN_3;\n",
       "  wire [8:0] _T_37;\n",
       "  wire [8:0] _GEN_4;\n",
       "  wire [9:0] _T_38;\n",
       "  wire [9:0] _GEN_5;\n",
       "  wire [10:0] _T_39;\n",
       "  assign _T_33 = io_in_0 + io_in_1;\n",
       "  assign _GEN_0 = {{1'd0}, io_in_2};\n",
       "  assign _T_34 = _T_33 + _GEN_0;\n",
       "  assign _GEN_1 = {{2'd0}, io_in_3};\n",
       "  assign _T_35 = _T_34 + _GEN_1;\n",
       "  assign _GEN_2 = {{3'd0}, io_in_4};\n",
       "  assign _T_36 = _T_35 + _GEN_2;\n",
       "  assign _GEN_3 = {{4'd0}, io_in_5};\n",
       "  assign _T_37 = _T_36 + _GEN_3;\n",
       "  assign _GEN_4 = {{5'd0}, io_in_6};\n",
       "  assign _T_38 = _T_37 + _GEN_4;\n",
       "  assign _GEN_5 = {{6'd0}, io_in_7};\n",
       "  assign _T_39 = _T_38 + _GEN_5;\n",
       "\u001b[39m..."
      ]
     },
     "execution_count": 7,
     "metadata": {},
     "output_type": "execute_result"
    }
   ],
   "source": [
    "val verilog = compileFIRRTL(firrtlSerialization, new firrtl.VerilogCompiler(), Seq(new AnalyzeCircuit()))"
   ]
  },
  {
   "cell_type": "markdown",
   "metadata": {},
   "source": [
    "The `compileFIRRTL` function is defined only in this tutorial - in a future section, we will describe how the process of inserting customTransforms.\n",
    "\n",
    "That's it for this section!"
   ]
  },
  {
   "cell_type": "code",
   "execution_count": null,
   "metadata": {
    "collapsed": true
   },
   "outputs": [],
   "source": []
  }
 ],
 "metadata": {
  "kernelspec": {
   "display_name": "Scala",
   "language": "scala",
   "name": "scala"
  },
  "language_info": {
   "codemirror_mode": "text/x-scala",
   "file_extension": ".scala",
   "mimetype": "text/x-scala",
   "name": "scala",
   "nbconvert_exporter": "script",
   "version": "2.11.12"
  }
 },
 "nbformat": 4,
 "nbformat_minor": 2
}
