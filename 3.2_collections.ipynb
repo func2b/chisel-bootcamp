{
 "cells": [
  {
   "cell_type": "markdown",
   "metadata": {},
   "source": [
    "<a name=\"top\"></a><img src=\"images/chisel_1024.png\" alt=\"Chisel logo\" style=\"width:480px;\" />"
   ]
  },
  {
   "cell_type": "markdown",
   "metadata": {},
   "source": [
    "# Module 3.2: Generators: Collections\n",
    "**Prev: [Generators: Parameters](3.1_parameters.ipynb)**<br>\n",
    "**Next: [Interlude: Chisel Standard Library](3.2_interlude.ipynb)**\n",
    "\n",
    "\n",
    "## Motivation\n",
    "Generators will frequently have to deal with variable numbers of objects, whether they are IOs, modules, or test vectors.\n",
    "Collections are important building blocks for dealing with situations like this.\n",
    "This module will introduce Scala collections and how to use them with Chisel generators.\n",
    "\n",
    "## Setup"
   ]
  },
  {
   "cell_type": "code",
   "execution_count": 1,
   "metadata": {},
   "outputs": [
    {
     "name": "stderr",
     "output_type": "stream",
     "text": [
      "Downloading https://repo1.maven.org/maven2/net/sourceforge/f2j/arpack_combined_all/0.1/arpack_combined_all-0.1-sources.jar.sha1\n",
      "Downloading https://repo1.maven.org/maven2/net/sourceforge/f2j/arpack_combined_all/0.1/arpack_combined_all-0.1-sources.jar\n",
      "https://repo1.maven.org/maven2/net/sourceforge/f2j/arpack_combined_all/0.1/ar… \n",
      "https://repo1.maven.org/maven2/net/sourceforge/f2j/arpack_combined_all/0.1/ar… \n",
      "\n",
      "Downloading https://repo1.maven.org/maven2/net/sourceforge/f2j/arpack_combined_all/0.1/arpack_combined_all-0.1-sources.jar\n",
      "Downloading https://repo1.maven.org/maven2/net/sourceforge/f2j/arpack_combined_all/0.1/arpack_combined_all-0.1-sources.jar.sha1\n"
     ]
    },
    {
     "name": "stdout",
     "output_type": "stream",
     "text": [
      "Compiling /home/pantao/Documents/chisel-bootcamp/Main.sc"
     ]
    },
    {
     "data": {
      "text/plain": [
       "\u001b[36mpath\u001b[39m: \u001b[32mString\u001b[39m = \u001b[32m\"/home/pantao/Documents/chisel-bootcamp/source/load-ivy.sc\"\u001b[39m"
      ]
     },
     "execution_count": 1,
     "metadata": {},
     "output_type": "execute_result"
    }
   ],
   "source": [
    "val path = System.getProperty(\"user.dir\") + \"/source/load-ivy.sc\"\n",
    "interp.load.module(ammonite.ops.Path(java.nio.file.FileSystems.getDefault().getPath(path)))"
   ]
  },
  {
   "cell_type": "markdown",
   "metadata": {},
   "source": [
    "Note we add a new import here because `mutable.ArrayBuffer` lives in `scala.collections`."
   ]
  },
  {
   "cell_type": "code",
   "execution_count": 2,
   "metadata": {},
   "outputs": [
    {
     "data": {
      "text/plain": [
       "\u001b[32mimport \u001b[39m\u001b[36mchisel3._\n",
       "\u001b[39m\n",
       "\u001b[32mimport \u001b[39m\u001b[36mchisel3.util._\n",
       "\u001b[39m\n",
       "\u001b[32mimport \u001b[39m\u001b[36mchisel3.iotesters.{ChiselFlatSpec, Driver, PeekPokeTester}\n",
       "\u001b[39m\n",
       "\u001b[32mimport \u001b[39m\u001b[36mscala.collection._\u001b[39m"
      ]
     },
     "execution_count": 2,
     "metadata": {},
     "output_type": "execute_result"
    }
   ],
   "source": [
    "import chisel3._\n",
    "import chisel3.util._\n",
    "import chisel3.iotesters.{ChiselFlatSpec, Driver, PeekPokeTester}\n",
    "import scala.collection._"
   ]
  },
  {
   "cell_type": "markdown",
   "metadata": {},
   "source": [
    "---\n",
    "# Generators and Collections<a name=\"generators-and-collections\"></a> \n",
    "In this section, we will focus on the concept of *generators* and the use of Scala collections as a tool to implement them.\n",
    "Instead of looking at Chisel code as an *instance* of a circuit, i.e. a description of a particular circuit, \n",
    "we will instead consider it to be a generator of a circuit.\n",
    "\n",
    "We will start by considering the FIR filter from previous exercises.  "
   ]
  },
  {
   "cell_type": "code",
   "execution_count": 3,
   "metadata": {},
   "outputs": [
    {
     "data": {
      "text/plain": [
       "defined \u001b[32mclass\u001b[39m \u001b[36mMy4ElementFir\u001b[39m"
      ]
     },
     "execution_count": 3,
     "metadata": {},
     "output_type": "execute_result"
    }
   ],
   "source": [
    "class My4ElementFir(b0: Int, b1: Int, b2: Int, b3: Int) extends Module {\n",
    "  val io = IO(new Bundle {\n",
    "    val in = Input(UInt(8.W))\n",
    "    val out = Output(UInt(8.W))\n",
    "  })\n",
    "\n",
    "  val x_n1 = RegNext(io.in, 0.U)\n",
    "  val x_n2 = RegNext(x_n1, 0.U)\n",
    "  val x_n3 = RegNext(x_n2, 0.U)\n",
    "  io.out := io.in * b0.U(8.W) + x_n1 * b1.U(8.W) +\n",
    "    x_n2 * b2.U(8.W) + x_n3 * b3.U(8.W)\n",
    "}\n"
   ]
  },
  {
   "cell_type": "markdown",
   "metadata": {},
   "source": [
    "This circuit is a simple case of a generator because it can generate versions of this 4-tap filter with\n",
    "different coefficients.  But what if we want the circuit to have more taps?  We are going to do this in several steps.\n",
    "\n",
    "- Build a software *Golden Model* of a tap configurable FIR.\n",
    "- Redesign our test to use this model, and confirm that it works.\n",
    "- Refactor our My4ElementFir to allow an configurable number of taps.\n",
    "- Test the new circuit using our new test harness.\n",
    "\n",
    "<span style=\"color:blue\">**Example: FIR Golden Model**</span><br><a name=\"fir-golden-model\"></a> \n",
    "Below is a Scala software implementation of a FIR circuit.  "
   ]
  },
  {
   "cell_type": "code",
   "execution_count": 4,
   "metadata": {},
   "outputs": [
    {
     "data": {
      "text/plain": [
       "defined \u001b[32mclass\u001b[39m \u001b[36mScalaFirFilter\u001b[39m"
      ]
     },
     "execution_count": 4,
     "metadata": {},
     "output_type": "execute_result"
    }
   ],
   "source": [
    "/**\n",
    "  * A naive implementation of an FIR filter with an arbitrary number of taps.\n",
    "  */\n",
    "class ScalaFirFilter(taps: Seq[Int]) {\n",
    "  var pseudoRegisters = List.fill(taps.length)(0)\n",
    "\n",
    "  def poke(value: Int): Int = {\n",
    "    pseudoRegisters = value :: pseudoRegisters.take(taps.length - 1)\n",
    "    var accumulator = 0\n",
    "    for(i <- taps.indices) {\n",
    "      accumulator += taps(i) * pseudoRegisters(i)\n",
    "    }\n",
    "    accumulator\n",
    "  }\n",
    "}"
   ]
  },
  {
   "cell_type": "markdown",
   "metadata": {},
   "source": [
    "### Seq\n",
    "Note that `taps` has become a `Seq[Int]` which means that the user of the class can pass an arbitrarily-long sequence of `Int`s when constructing the class.\n",
    "### Registers\n",
    "With `  var pseudoRegisters = List.fill(taps.length)(0)` we create a `List` that will hold values from previous cycles.  `List` was chosen because its syntax of adding an element to the head and removing the last element is very simple. Just about any member of the scala collections family could be used.  We are also initializing this list to contain all zeros.\n",
    "### Poke\n",
    "Our class adds a poke function/method that emulates putting a new input into the filter and cycling the clock.\n",
    "### Updating the registers\n",
    "The line `pseudoRegisters = value :: pseudoRegisters.take(taps.length - 1)` first uses the `take` method of list to keep the all but the last element of the list, then uses the `::` list concatentation operator to add `value` to the head of the reduced version of the list.\n",
    "### Computing the output\n",
    "A simple for loop with an accumulator sums each element of the list times its corresponding tap coefficient. The line with just `accumulator` returns that value as the function result.\n",
    "## Adapting our previous test for testing our golden model\n",
    "We will now use our previous work to confirm that our golden model works.  A bit of editing magic takes our previous tests harness and morphs it into..."
   ]
  },
  {
   "cell_type": "code",
   "execution_count": 5,
   "metadata": {
    "scrolled": true
   },
   "outputs": [
    {
     "name": "stdout",
     "output_type": "stream",
     "text": [
      "out = 1\n",
      "out = 5\n",
      "out = 8\n",
      "out = 10\n",
      "out = 16\n",
      "out = 12\n"
     ]
    },
    {
     "data": {
      "text/plain": [
       "\u001b[36mfilter\u001b[39m: \u001b[32mScalaFirFilter\u001b[39m = ammonite.$sess.cmd3$Helper$ScalaFirFilter@43fe9dec\n",
       "\u001b[36mout\u001b[39m: \u001b[32mInt\u001b[39m = \u001b[32m12\u001b[39m"
      ]
     },
     "execution_count": 5,
     "metadata": {},
     "output_type": "execute_result"
    }
   ],
   "source": [
    "val filter = new ScalaFirFilter(Seq(1, 1, 1, 1))\n",
    "\n",
    "var out = 0\n",
    "\n",
    "out = filter.poke(1)\n",
    "println(s\"out = $out\")\n",
    "assert(out == 1)  // 1, 0, 0, 0\n",
    "\n",
    "out = filter.poke(4)\n",
    "assert(out == 5)  // 4, 1, 0, 0\n",
    "println(s\"out = $out\")\n",
    "\n",
    "out = filter.poke(3)\n",
    "assert(out == 8)  // 3, 4, 1, 0\n",
    "println(s\"out = $out\")\n",
    "\n",
    "out = filter.poke(2)\n",
    "assert(out == 10)  // 2, 3, 4, 1\n",
    "println(s\"out = $out\")\n",
    "\n",
    "out = filter.poke(7)\n",
    "assert(out == 16)  // 7, 2, 3, 4\n",
    "println(s\"out = $out\")\n",
    "\n",
    "out = filter.poke(0)\n",
    "assert(out == 12)  // 0, 7, 2, 3\n",
    "println(s\"out = $out\")"
   ]
  },
  {
   "cell_type": "markdown",
   "metadata": {},
   "source": [
    "Executing the previous block demonstrates that our software model returns the same results as My4ElementFir did.\n"
   ]
  },
  {
   "cell_type": "markdown",
   "metadata": {},
   "source": [
    "## Test circuit using the golden model.<a name=\"use-golden-model-as-test\"></a> \n",
    "Now that we are reasonably confident about our golden model, we re-write our test to compare the circuit outputs with the output of the golden model, instead of using laboriously hand-crafted examples.\n",
    "What follows is a quick first pass to do it."
   ]
  },
  {
   "cell_type": "code",
   "execution_count": 6,
   "metadata": {},
   "outputs": [
    {
     "name": "stdout",
     "output_type": "stream",
     "text": [
      "[\u001b[35minfo\u001b[0m] [0.001] Elaborating design...\n",
      "[\u001b[35minfo\u001b[0m] [0.719] Done elaborating.\n",
      "Total FIRRTL Compile Time: 343.8 ms\n",
      "Total FIRRTL Compile Time: 50.4 ms\n",
      "End of dependency graph\n",
      "Circuit state created\n",
      "[\u001b[35minfo\u001b[0m] [0.004] SEED 1543567070597\n",
      "test cmd2HelperMy4ElementFir Success: 100 tests passed in 105 cycles taking 0.152637 seconds\n",
      "[\u001b[35minfo\u001b[0m] [0.121] RAN 100 CYCLES PASSED\n"
     ]
    },
    {
     "data": {
      "text/plain": [
       "\u001b[36mgoldenModel\u001b[39m: \u001b[32mScalaFirFilter\u001b[39m = ammonite.$sess.cmd3$Helper$ScalaFirFilter@735f67ca\n",
       "\u001b[36mres5_1\u001b[39m: \u001b[32mBoolean\u001b[39m = true"
      ]
     },
     "execution_count": 6,
     "metadata": {},
     "output_type": "execute_result"
    }
   ],
   "source": [
    "val goldenModel = new ScalaFirFilter(Seq(1, 1, 1, 1))\n",
    "\n",
    "Driver(() => new My4ElementFir(1, 1, 1, 1)) {\n",
    "  c => new PeekPokeTester(c) {\n",
    "    for(i <- 0 until 100) {\n",
    "      val input = scala.util.Random.nextInt(8)\n",
    "\n",
    "      val goldenModelResult = goldenModel.poke(input)\n",
    "\n",
    "      poke(c.io.in, input)\n",
    "\n",
    "      expect(c.io.out, goldenModelResult, s\"i $i, input $input, gm $goldenModelResult, ${peek(c.io.out)}\")\n",
    "\n",
    "      step(1)\n",
    "    }\n",
    "  }\n",
    "}"
   ]
  },
  {
   "cell_type": "markdown",
   "metadata": {},
   "source": [
    "Our test runs for 100 cycles, and checks that the two different methods, hardware and software, are in sync at each step.\n",
    "\n",
    "### Things to watch out for\n",
    "(i.e., mistakes we actually committed while writing this.)\n",
    "\n",
    "1. Getting the step in the right place. Software and hardware execute differently; it's easy to get this wrong.\n",
    "1. This test is weak because it is very sensitive to how the IOs and registers are sized. Implementing a software golden model that observes wrapping behavior at arbitrary data bit widths can be complicated.  Here we just make sure that we only pass in values that fit."
   ]
  },
  {
   "cell_type": "markdown",
   "metadata": {},
   "source": [
    "<span style=\"color:blue\">**Example: Parameterized FIR Generator**</span><br><a name=\"fir-golden-model\"></a> \n",
    "Below we have created a new Filter class, `MyManyElementsFilter` that takes a `Seq` of constants to use for taps.  This list can be any number of elements.\n",
    "For good measure a `bitWidth` has been added that allows us to control the sizes of numbers that can be handled by our circuit.\n",
    "In response the variable length we have had to refactor the creation of registers and how they are connected.\n",
    "The methodology used below uses a simple subset of the available library of collection functions.\n",
    "Later sections show how to more succinctly express the behavior in a way that also makes what is happening clearer."
   ]
  },
  {
   "cell_type": "code",
   "execution_count": 7,
   "metadata": {},
   "outputs": [
    {
     "name": "stdout",
     "output_type": "stream",
     "text": [
      "[\u001b[35minfo\u001b[0m] [0.000] Elaborating design...\n",
      "[\u001b[35minfo\u001b[0m] [0.011] Done elaborating.\n",
      "Total FIRRTL Compile Time: 212.6 ms\n",
      "module cmd6HelperMyManyElementFir( // @[:@3.2]\n",
      "  input         clock, // @[:@4.4]\n",
      "  input         reset, // @[:@5.4]\n",
      "  input  [15:0] io_in, // @[:@6.4]\n",
      "  output [15:0] io_out // @[:@6.4]\n",
      ");\n",
      "  reg [15:0] regs_1; // @[cmd6.sc 10:33:@8.4]\n",
      "  reg [31:0] _RAND_0;\n",
      "  reg [15:0] regs_2; // @[cmd6.sc 10:33:@10.4]\n",
      "  reg [31:0] _RAND_1;\n",
      "  reg [15:0] regs_3; // @[cmd6.sc 10:33:@12.4]\n",
      "  reg [31:0] _RAND_2;\n",
      "  wire [17:0] muls_0; // @[cmd6.sc 15:23:@14.4]\n",
      "  wire [17:0] muls_1; // @[cmd6.sc 15:23:@15.4]\n",
      "  wire [18:0] muls_2; // @[cmd6.sc 15:23:@16.4]\n",
      "  wire [18:0] muls_3; // @[cmd6.sc 15:23:@17.4]\n",
      "  wire [18:0] _T_19; // @[cmd6.sc 21:28:@18.4]\n",
      "  wire [17:0] scan_1; // @[cmd6.sc 21:28:@19.4]\n",
      "  wire [18:0] _GEN_0; // @[cmd6.sc 21:28:@20.4]\n",
      "  wire [19:0] _T_20; // @[cmd6.sc 21:28:@20.4]\n",
      "  wire [18:0] scan_2; // @[cmd6.sc 21:28:@21.4]\n",
      "  wire [19:0] _T_21; // @[cmd6.sc 21:28:@22.4]\n",
      "  wire [18:0] scan_3; // @[cmd6.sc 21:28:@23.4]\n",
      "  assign muls_0 = io_in * 16'h2; // @[cmd6.sc 15:23:@14.4]\n",
      "  assign muls_1 = regs_1 * 16'h3; // @[cmd6.sc 15:23:@15.4]\n",
      "  assign muls_2 = regs_2 * 16'h5; // @[cmd6.sc 15:23:@16.4]\n",
      "  assign muls_3 = regs_3 * 16'h6; // @[cmd6.sc 15:23:@17.4]\n",
      "  assign _T_19 = muls_1 + muls_0; // @[cmd6.sc 21:28:@18.4]\n",
      "  assign scan_1 = _T_19[17:0]; // @[cmd6.sc 21:28:@19.4]\n",
      "  assign _GEN_0 = {{1'd0}, scan_1}; // @[cmd6.sc 21:28:@20.4]\n",
      "  assign _T_20 = muls_2 + _GEN_0; // @[cmd6.sc 21:28:@20.4]\n",
      "  assign scan_2 = _T_20[18:0]; // @[cmd6.sc 21:28:@21.4]\n",
      "  assign _T_21 = muls_3 + scan_2; // @[cmd6.sc 21:28:@22.4]\n",
      "  assign scan_3 = _T_21[18:0]; // @[cmd6.sc 21:28:@23.4]\n",
      "  assign io_out = scan_3[15:0];\n",
      "`ifdef RANDOMIZE_GARBAGE_ASSIGN\n",
      "`define RANDOMIZE\n",
      "`endif\n",
      "`ifdef RANDOMIZE_INVALID_ASSIGN\n",
      "`define RANDOMIZE\n",
      "`endif\n",
      "`ifdef RANDOMIZE_REG_INIT\n",
      "`define RANDOMIZE\n",
      "`endif\n",
      "`ifdef RANDOMIZE_MEM_INIT\n",
      "`define RANDOMIZE\n",
      "`endif\n",
      "`ifdef RANDOMIZE\n",
      "  integer initvar;\n",
      "  initial begin\n",
      "    `ifndef verilator\n",
      "      #0.002 begin end\n",
      "    `endif\n",
      "  `ifdef RANDOMIZE_REG_INIT\n",
      "  _RAND_0 = {1{$random}};\n",
      "  regs_1 = _RAND_0[15:0];\n",
      "  `endif // RANDOMIZE_REG_INIT\n",
      "  `ifdef RANDOMIZE_REG_INIT\n",
      "  _RAND_1 = {1{$random}};\n",
      "  regs_2 = _RAND_1[15:0];\n",
      "  `endif // RANDOMIZE_REG_INIT\n",
      "  `ifdef RANDOMIZE_REG_INIT\n",
      "  _RAND_2 = {1{$random}};\n",
      "  regs_3 = _RAND_2[15:0];\n",
      "  `endif // RANDOMIZE_REG_INIT\n",
      "  end\n",
      "`endif // RANDOMIZE\n",
      "  always @(posedge clock) begin\n",
      "    if (reset) begin\n",
      "      regs_1 <= 16'h0;\n",
      "    end else begin\n",
      "      regs_1 <= io_in;\n",
      "    end\n",
      "    if (reset) begin\n",
      "      regs_2 <= 16'h0;\n",
      "    end else begin\n",
      "      regs_2 <= regs_1;\n",
      "    end\n",
      "    if (reset) begin\n",
      "      regs_3 <= 16'h0;\n",
      "    end else begin\n",
      "      regs_3 <= regs_2;\n",
      "    end\n",
      "  end\n",
      "endmodule\n",
      "\n"
     ]
    },
    {
     "data": {
      "text/plain": [
       "defined \u001b[32mclass\u001b[39m \u001b[36mMyManyElementFir\u001b[39m"
      ]
     },
     "execution_count": 7,
     "metadata": {},
     "output_type": "execute_result"
    }
   ],
   "source": [
    "class MyManyElementFir(consts: Seq[Int], bitWidth: Int) extends Module {\n",
    "  val io = IO(new Bundle {\n",
    "    val in = Input(UInt(bitWidth.W))\n",
    "    val out = Output(UInt(bitWidth.W))\n",
    "  })\n",
    "\n",
    "  val regs = mutable.ArrayBuffer[UInt]()\n",
    "  for(i <- 0 until consts.length) {\n",
    "      if(i == 0) regs += io.in\n",
    "      else       regs += RegNext(regs(i - 1), 0.U)\n",
    "  }\n",
    "  \n",
    "  val muls = mutable.ArrayBuffer[UInt]()\n",
    "  for(i <- 0 until consts.length) {\n",
    "      muls += regs(i) * consts(i).U\n",
    "  }\n",
    "\n",
    "  val scan = mutable.ArrayBuffer[UInt]()\n",
    "  for(i <- 0 until consts.length) {\n",
    "      if(i == 0) scan += muls(i)\n",
    "      else scan += muls(i) + scan(i - 1)\n",
    "  }\n",
    "\n",
    "  io.out := scan.last\n",
    "}\n",
    "\n",
    "println(getVerilog(new MyManyElementFir(Seq(2,3,5,6),16)))"
   ]
  },
  {
   "cell_type": "markdown",
   "metadata": {},
   "source": [
    "#### How we did it\n",
    "There are three parallel sections starting at lines 7, 13, and 18.\n",
    "We are using a Scala collection type called `ArrayBuffer`.\n",
    "`ArrayBuffer` allows you to append elements using the `+=` operator (also insert and delete, but we don't need this).\n",
    "First, we create an ArrayBuffer `regs` whose elements will be `UInt`s.\n",
    "Then iterate over the taps, adding the input as the first element followed by creating registers using RegNext which connect the input of the register to the previous element (`regs(i-1)`) and initializes it to unsigned zero (`0.U`).\n",
    "These registers will hold the previous values of inputs as they are needed.\n",
    "\n",
    "Next, we create another ArrayBuffer `muls` of `UInt`s.\n",
    "Each element of muls will be a node whose i-th element is the product of the `regs(i)` and `const(i)`.\n",
    "\n",
    "Note the use of the `scan.last` method.\n",
    "It takes the last element of a collection, and is a more elegant alternative to `regs(i - 1)` used during the `regs` construction."
   ]
  },
  {
   "cell_type": "markdown",
   "metadata": {},
   "source": [
    "### Does it behave the same as `My4ElementFir`?\n",
    "A good first test of our new version is to see if it can pass the test we just applied to the\n",
    "`My4ElementFir`.\n",
    "We create an instance of `MyManyElementFir` and run even more data through it."
   ]
  },
  {
   "cell_type": "code",
   "execution_count": 8,
   "metadata": {},
   "outputs": [
    {
     "name": "stdout",
     "output_type": "stream",
     "text": [
      "[\u001b[35minfo\u001b[0m] [0.000] Elaborating design...\n",
      "[\u001b[35minfo\u001b[0m] [0.015] Done elaborating.\n",
      "Total FIRRTL Compile Time: 67.5 ms\n",
      "Total FIRRTL Compile Time: 20.2 ms\n",
      "End of dependency graph\n",
      "Circuit state created\n",
      "[\u001b[35minfo\u001b[0m] [0.000] SEED 1543567081434\n",
      "test cmd6HelperMyManyElementFir Success: 100 tests passed in 105 cycles taking 0.129166 seconds\n",
      "[\u001b[35minfo\u001b[0m] [0.127] RAN 100 CYCLES PASSED\n"
     ]
    },
    {
     "data": {
      "text/plain": [
       "\u001b[36mgoldenModel\u001b[39m: \u001b[32mScalaFirFilter\u001b[39m = ammonite.$sess.cmd3$Helper$ScalaFirFilter@1baffd66\n",
       "\u001b[36mres7_1\u001b[39m: \u001b[32mBoolean\u001b[39m = true"
      ]
     },
     "execution_count": 8,
     "metadata": {},
     "output_type": "execute_result"
    }
   ],
   "source": [
    "val goldenModel = new ScalaFirFilter(Seq(1, 1, 1, 1))\n",
    "\n",
    "Driver(() => new MyManyElementFir(Seq(1, 1, 1, 1), 8)) {\n",
    "  c => new PeekPokeTester(c) {\n",
    "    for(i <- 0 until 100) {\n",
    "      val input = scala.util.Random.nextInt(8)\n",
    "\n",
    "      val goldenModelResult = goldenModel.poke(input)\n",
    "\n",
    "      poke(c.io.in, input)\n",
    "\n",
    "      expect(c.io.out, goldenModelResult, s\"i $i, input $input, gm $goldenModelResult, ${peek(c.io.out)}\")\n",
    "\n",
    "      step(1)\n",
    "    }\n",
    "  }\n",
    "}"
   ]
  },
  {
   "cell_type": "markdown",
   "metadata": {},
   "source": [
    "### Now let's test a bunch of different sized FIR filters\n",
    "We create some helper functions: `r` which gets a random number; `runOneTest` which creates a golden model and a hardware simulation of a filter for a particular set of taps, and then runs at least twice the number of taps worth of data through the filter."
   ]
  },
  {
   "cell_type": "code",
   "execution_count": 9,
   "metadata": {},
   "outputs": [
    {
     "name": "stdout",
     "output_type": "stream",
     "text": [
      "[\u001b[35minfo\u001b[0m] [0.000] Elaborating design...\n",
      "[\u001b[35minfo\u001b[0m] [0.100] Done elaborating.\n",
      "Total FIRRTL Compile Time: 14.5 ms\n",
      "Total FIRRTL Compile Time: 24.6 ms\n",
      "End of dependency graph\n",
      "Circuit state created\n",
      "[\u001b[35minfo\u001b[0m] [0.000] SEED 1543567084080\n",
      "test cmd6HelperMyManyElementFir Success: 4 tests passed in 9 cycles taking 0.012849 seconds\n",
      "[\u001b[35minfo\u001b[0m] [0.012] RAN 4 CYCLES PASSED\n",
      "[\u001b[35minfo\u001b[0m] [0.001] Elaborating design...\n",
      "[\u001b[35minfo\u001b[0m] [0.015] Done elaborating.\n",
      "Total FIRRTL Compile Time: 59.0 ms\n",
      "Total FIRRTL Compile Time: 47.9 ms\n",
      "End of dependency graph\n",
      "Circuit state created\n",
      "[\u001b[35minfo\u001b[0m] [0.000] SEED 1543567084253\n",
      "test cmd6HelperMyManyElementFir Success: 24 tests passed in 29 cycles taking 0.020695 seconds\n",
      "[\u001b[35minfo\u001b[0m] [0.022] RAN 24 CYCLES PASSED\n",
      "[\u001b[35minfo\u001b[0m] [0.000] Elaborating design...\n",
      "[\u001b[35minfo\u001b[0m] [0.009] Done elaborating.\n",
      "Total FIRRTL Compile Time: 78.6 ms\n",
      "Total FIRRTL Compile Time: 59.4 ms\n",
      "End of dependency graph\n",
      "Circuit state created\n",
      "[\u001b[35minfo\u001b[0m] [0.000] SEED 1543567084478\n",
      "test cmd6HelperMyManyElementFir Success: 44 tests passed in 49 cycles taking 0.081976 seconds\n",
      "[\u001b[35minfo\u001b[0m] [0.079] RAN 44 CYCLES PASSED\n",
      "[\u001b[35minfo\u001b[0m] [0.000] Elaborating design...\n",
      "[\u001b[35minfo\u001b[0m] [0.023] Done elaborating.\n",
      "Total FIRRTL Compile Time: 159.1 ms\n",
      "Total FIRRTL Compile Time: 84.2 ms\n",
      "End of dependency graph\n",
      "Circuit state created\n",
      "[\u001b[35minfo\u001b[0m] [0.000] SEED 1543567084772\n",
      "test cmd6HelperMyManyElementFir Success: 64 tests passed in 69 cycles taking 0.104159 seconds\n",
      "[\u001b[35minfo\u001b[0m] [0.110] RAN 64 CYCLES PASSED\n",
      "[\u001b[35minfo\u001b[0m] [0.000] Elaborating design...\n",
      "[\u001b[35minfo\u001b[0m] [0.022] Done elaborating.\n",
      "Total FIRRTL Compile Time: 141.8 ms\n",
      "Total FIRRTL Compile Time: 137.9 ms\n",
      "End of dependency graph\n",
      "Circuit state created\n",
      "[\u001b[35minfo\u001b[0m] [0.000] SEED 1543567085253\n",
      "test cmd6HelperMyManyElementFir Success: 84 tests passed in 89 cycles taking 0.168860 seconds\n",
      "[\u001b[35minfo\u001b[0m] [0.164] RAN 84 CYCLES PASSED\n",
      "[\u001b[35minfo\u001b[0m] [0.000] Elaborating design...\n",
      "[\u001b[35minfo\u001b[0m] [0.012] Done elaborating.\n",
      "Total FIRRTL Compile Time: 114.3 ms\n",
      "Total FIRRTL Compile Time: 87.3 ms\n",
      "End of dependency graph\n",
      "Circuit state created\n",
      "[\u001b[35minfo\u001b[0m] [0.000] SEED 1543567085851\n",
      "test cmd6HelperMyManyElementFir Success: 104 tests passed in 109 cycles taking 0.217036 seconds\n",
      "[\u001b[35minfo\u001b[0m] [0.204] RAN 104 CYCLES PASSED\n",
      "[\u001b[35minfo\u001b[0m] [0.000] Elaborating design...\n",
      "[\u001b[35minfo\u001b[0m] [0.018] Done elaborating.\n",
      "Total FIRRTL Compile Time: 117.3 ms\n",
      "Total FIRRTL Compile Time: 90.7 ms\n",
      "End of dependency graph\n",
      "Circuit state created\n",
      "[\u001b[35minfo\u001b[0m] [0.000] SEED 1543567086354\n",
      "test cmd6HelperMyManyElementFir Success: 124 tests passed in 129 cycles taking 0.215457 seconds\n",
      "[\u001b[35minfo\u001b[0m] [0.210] RAN 124 CYCLES PASSED\n",
      "[\u001b[35minfo\u001b[0m] [0.000] Elaborating design...\n",
      "[\u001b[35minfo\u001b[0m] [0.009] Done elaborating.\n",
      "Total FIRRTL Compile Time: 150.3 ms\n",
      "Total FIRRTL Compile Time: 85.8 ms\n",
      "End of dependency graph\n",
      "Circuit state created\n",
      "[\u001b[35minfo\u001b[0m] [0.000] SEED 1543567086867\n",
      "test cmd6HelperMyManyElementFir Success: 144 tests passed in 149 cycles taking 0.378236 seconds\n",
      "[\u001b[35minfo\u001b[0m] [0.370] RAN 144 CYCLES PASSED\n",
      "[\u001b[35minfo\u001b[0m] [0.000] Elaborating design...\n",
      "[\u001b[35minfo\u001b[0m] [0.137] Done elaborating.\n",
      "Total FIRRTL Compile Time: 116.8 ms\n",
      "Total FIRRTL Compile Time: 90.6 ms\n",
      "End of dependency graph\n",
      "Circuit state created\n",
      "[\u001b[35minfo\u001b[0m] [0.000] SEED 1543567087566\n",
      "test cmd6HelperMyManyElementFir Success: 164 tests passed in 169 cycles taking 0.455052 seconds\n",
      "[\u001b[35minfo\u001b[0m] [0.447] RAN 164 CYCLES PASSED\n",
      "[\u001b[35minfo\u001b[0m] [0.000] Elaborating design...\n",
      "[\u001b[35minfo\u001b[0m] [0.013] Done elaborating.\n",
      "Total FIRRTL Compile Time: 120.8 ms\n",
      "Total FIRRTL Compile Time: 69.3 ms\n",
      "End of dependency graph\n",
      "Circuit state created\n",
      "[\u001b[35minfo\u001b[0m] [0.000] SEED 1543567088413\n",
      "test cmd6HelperMyManyElementFir Success: 184 tests passed in 189 cycles taking 0.331976 seconds\n",
      "[\u001b[35minfo\u001b[0m] [0.320] RAN 184 CYCLES PASSED\n"
     ]
    },
    {
     "data": {
      "text/plain": [
       "defined \u001b[32mfunction\u001b[39m \u001b[36mr\u001b[39m\n",
       "defined \u001b[32mfunction\u001b[39m \u001b[36mrunOneTest\u001b[39m"
      ]
     },
     "execution_count": 9,
     "metadata": {},
     "output_type": "execute_result"
    }
   ],
   "source": [
    "/** a convenience method to get a random integer\n",
    "  */\n",
    "def r(): Int = {\n",
    "  scala.util.Random.nextInt(1024)\n",
    "}\n",
    "\n",
    "/**\n",
    "  * run a test comparing software and hardware filters\n",
    "  * run for at least twice as many samples as taps\n",
    "  */\n",
    "def runOneTest(taps: Seq[Int]) {\n",
    "  val goldenModel = new ScalaFirFilter(taps)\n",
    "\n",
    "  Driver(() => new MyManyElementFir(taps, 32)) {\n",
    "    c => new PeekPokeTester(c) {\n",
    "      for(i <- 0 until 2 * taps.length) {\n",
    "        val input = r()\n",
    "\n",
    "        val goldenModelResult = goldenModel.poke(input)\n",
    "\n",
    "        poke(c.io.in, input)\n",
    "\n",
    "        expect(c.io.out, goldenModelResult, s\"i $i, input $input, gm $goldenModelResult, ${peek(c.io.out)}\")\n",
    "\n",
    "        step(1)\n",
    "      }\n",
    "    }\n",
    "  }\n",
    "}\n",
    "\n",
    "for(tapSize <- 2 until 100 by 10) {\n",
    "  val taps = Seq.fill(tapSize)(r())  // create a sequence of random coefficients\n",
    "\n",
    "  runOneTest(taps)\n",
    "}"
   ]
  },
  {
   "cell_type": "markdown",
   "metadata": {},
   "source": [
    "### Just for fun, let's make a bigger one\n",
    "The following will run a single test on a 500 tap\n",
    "FIR filter.  It can take a minute or so to run.\n",
    "(Hint: Watch for the Scala ● to change to Scala ○ on the Toolbar when the execution completes.)"
   ]
  },
  {
   "cell_type": "code",
   "execution_count": 10,
   "metadata": {},
   "outputs": [
    {
     "name": "stdout",
     "output_type": "stream",
     "text": [
      "[\u001b[35minfo\u001b[0m] [0.000] Elaborating design...\n",
      "[\u001b[35minfo\u001b[0m] [0.028] Done elaborating.\n",
      "Total FIRRTL Compile Time: 385.8 ms\n",
      "Total FIRRTL Compile Time: 436.0 ms\n",
      "End of dependency graph\n",
      "Circuit state created\n",
      "[\u001b[35minfo\u001b[0m] [0.000] SEED 1543567090998\n",
      "test cmd6HelperMyManyElementFir Success: 1000 tests passed in 1005 cycles taking 10.378326 seconds\n",
      "[\u001b[35minfo\u001b[0m] [10.315] RAN 1000 CYCLES PASSED\n"
     ]
    }
   ],
   "source": [
    "runOneTest(Seq.fill(500)(r()))"
   ]
  },
  {
   "cell_type": "code",
   "execution_count": 11,
   "metadata": {},
   "outputs": [
    {
     "name": "stdout",
     "output_type": "stream",
     "text": [
      "[\u001b[35minfo\u001b[0m] [0.000] Elaborating design...\n",
      "[\u001b[35minfo\u001b[0m] [0.125] Done elaborating.\n",
      "Total FIRRTL Compile Time: 517.0 ms\n",
      "Total FIRRTL Compile Time: 244.0 ms\n",
      "End of dependency graph\n",
      "Circuit state created\n",
      "[\u001b[35minfo\u001b[0m] [0.000] SEED 1543567106490\n",
      "test cmd6HelperMyManyElementFir Success: 100 tests passed in 105 cycles taking 1.551148 seconds\n",
      "[\u001b[35minfo\u001b[0m] [1.479] RAN 100 CYCLES PASSED\n"
     ]
    },
    {
     "data": {
      "text/plain": [
       "\u001b[36mtaps\u001b[39m: \u001b[32mSeq\u001b[39m[\u001b[32mInt\u001b[39m] = \u001b[33mList\u001b[39m(\n",
       "  \u001b[32m142\u001b[39m,\n",
       "  \u001b[32m889\u001b[39m,\n",
       "  \u001b[32m87\u001b[39m,\n",
       "  \u001b[32m859\u001b[39m,\n",
       "  \u001b[32m526\u001b[39m,\n",
       "  \u001b[32m874\u001b[39m,\n",
       "  \u001b[32m699\u001b[39m,\n",
       "  \u001b[32m1012\u001b[39m,\n",
       "  \u001b[32m630\u001b[39m,\n",
       "  \u001b[32m246\u001b[39m,\n",
       "  \u001b[32m293\u001b[39m,\n",
       "  \u001b[32m353\u001b[39m,\n",
       "  \u001b[32m83\u001b[39m,\n",
       "  \u001b[32m684\u001b[39m,\n",
       "  \u001b[32m203\u001b[39m,\n",
       "  \u001b[32m273\u001b[39m,\n",
       "  \u001b[32m256\u001b[39m,\n",
       "  \u001b[32m357\u001b[39m,\n",
       "  \u001b[32m588\u001b[39m,\n",
       "  \u001b[32m1014\u001b[39m,\n",
       "  \u001b[32m268\u001b[39m,\n",
       "  \u001b[32m228\u001b[39m,\n",
       "  \u001b[32m569\u001b[39m,\n",
       "  \u001b[32m876\u001b[39m,\n",
       "  \u001b[32m613\u001b[39m,\n",
       "  \u001b[32m504\u001b[39m,\n",
       "  \u001b[32m766\u001b[39m,\n",
       "  \u001b[32m686\u001b[39m,\n",
       "  \u001b[32m262\u001b[39m,\n",
       "  \u001b[32m391\u001b[39m,\n",
       "  \u001b[32m107\u001b[39m,\n",
       "  \u001b[32m65\u001b[39m,\n",
       "  \u001b[32m708\u001b[39m,\n",
       "  \u001b[32m275\u001b[39m,\n",
       "  \u001b[32m605\u001b[39m,\n",
       "  \u001b[32m865\u001b[39m,\n",
       "  \u001b[32m384\u001b[39m,\n",
       "  \u001b[32m326\u001b[39m,\n",
       "...\n",
       "\u001b[36mgoldenModel\u001b[39m: \u001b[32mScalaFirFilter\u001b[39m = ammonite.$sess.cmd3$Helper$ScalaFirFilter@177dffc3\n",
       "\u001b[36mres10_2\u001b[39m: \u001b[32mBoolean\u001b[39m = true"
      ]
     },
     "execution_count": 11,
     "metadata": {},
     "output_type": "execute_result"
    }
   ],
   "source": [
    "val taps = Seq.fill(500)(r())\n",
    "\n",
    "val goldenModel = new ScalaFirFilter(taps)\n",
    "\n",
    "Driver(() => new MyManyElementFir(taps, 32)) {\n",
    "  c => new PeekPokeTester(c) {\n",
    "    for(i <- 0 until 100) {\n",
    "      val input = r()\n",
    "\n",
    "      val goldenModelResult = goldenModel.poke(input)\n",
    "\n",
    "      poke(c.io.in, input)\n",
    "\n",
    "      expect(c.io.out, goldenModelResult, s\"i $i, input $input, gm $goldenModelResult, ${peek(c.io.out)}\")\n",
    "\n",
    "      step(1)\n",
    "    }\n",
    "  }\n",
    "}"
   ]
  },
  {
   "cell_type": "markdown",
   "metadata": {},
   "source": [
    "---\n",
    "# Hardware Collections\n",
    "\n",
    "<span style=\"color:blue\">**Example: Add run-time configurable taps to our FIR**</span><br>\n",
    "The following code adds an additional `consts` vector to the IO of our FIR generator which allows the coefficients to be changed externally after circuit generation.\n",
    "This is done with the Chisel collection type `Vec`.\n",
    "`Vec` supports many of the scala collection methods but it can only contain Chisel hardware elements.\n",
    "`Vec` should only be used in situations where ordinary Scala collections won't work.  \n",
    "Basically this is in one of two situations.\n",
    "1. You need a collection of elements in a Bundle, typically a Bundle that will be used as IO.\n",
    "1. You need to access the collection via an index that is part of the hardware (think Register File).\n"
   ]
  },
  {
   "cell_type": "code",
   "execution_count": 12,
   "metadata": {},
   "outputs": [
    {
     "data": {
      "text/plain": [
       "defined \u001b[32mclass\u001b[39m \u001b[36mMyManyDynamicElementVecFir\u001b[39m"
      ]
     },
     "execution_count": 12,
     "metadata": {},
     "output_type": "execute_result"
    }
   ],
   "source": [
    "class MyManyDynamicElementVecFir(length: Int) extends Module {\n",
    "  val io = IO(new Bundle {\n",
    "    val in = Input(UInt(8.W))\n",
    "    val out = Output(UInt(8.W))\n",
    "    val consts = Input(Vec(length, UInt(8.W)))\n",
    "  })\n",
    "\n",
    "  // Reference solution\n",
    "  val regs = RegInit(Vec.fill(length - 1)(0.U(8.W)))\n",
    "  for(i <- 0 until length - 1) {\n",
    "      if(i == 0) regs(i) := io.in\n",
    "      else       regs(i) := regs(i - 1)\n",
    "  }\n",
    "  \n",
    "  val muls = Wire(Vec(length, UInt(8.W)))\n",
    "  for(i <- 0 until length) {\n",
    "      if(i == 0) muls(i) := io.in * io.consts(i)\n",
    "      else       muls(i) := regs(i - 1) * io.consts(i)\n",
    "  }\n",
    "\n",
    "  val scan = Wire(Vec(length, UInt(8.W)))\n",
    "  for(i <- 0 until length) {\n",
    "      if(i == 0) scan(i) := muls(i)\n",
    "      else scan(i) := muls(i) + scan(i - 1)\n",
    "  }\n",
    "\n",
    "  io.out := scan(length - 1)\n",
    "}"
   ]
  },
  {
   "cell_type": "code",
   "execution_count": 13,
   "metadata": {},
   "outputs": [
    {
     "name": "stdout",
     "output_type": "stream",
     "text": [
      "[\u001b[35minfo\u001b[0m] [0.000] Elaborating design...\n",
      "[\u001b[34mdeprecated\u001b[0m] cmd11.sc:9 (1 calls): fill is deprecated: \"Vec.fill(n)(gen) is deprecated, use VecInit(Seq.fill(n)(gen)) instead\"\n",
      "[\u001b[34mdeprecated\u001b[0m] cmd11.sc:9 (1 calls): do_apply is deprecated: \"Vec(elts) is deprecated, use VecInit(elts) instead\"\n",
      "[\u001b[33mwarn\u001b[0m] \u001b[33mThere were 2 deprecated function(s) used. These may stop compiling in a future release, you are encouraged to fix these issues.\u001b[0m\n",
      "[\u001b[33mwarn\u001b[0m] Line numbers for deprecations reported by Chisel may be inaccurate, enable scalac compiler deprecation warnings by either:\n",
      "[\u001b[33mwarn\u001b[0m]   In the sbt interactive console, enter:\n",
      "[\u001b[33mwarn\u001b[0m]     set scalacOptions in ThisBuild ++= Seq(\"-unchecked\", \"-deprecation\")\n",
      "[\u001b[33mwarn\u001b[0m]   or, in your build.sbt, add the line:\n",
      "[\u001b[33mwarn\u001b[0m]     scalacOptions := Seq(\"-unchecked\", \"-deprecation\")\n",
      "[\u001b[35minfo\u001b[0m] [0.125] Done elaborating.\n",
      "Total FIRRTL Compile Time: 45.6 ms\n",
      "Total FIRRTL Compile Time: 36.3 ms\n",
      "End of dependency graph\n",
      "Circuit state created\n",
      "[\u001b[35minfo\u001b[0m] [0.000] SEED 1543567116346\n",
      "test cmd11HelperMyManyDynamicElementVecFir Success: 100 tests passed in 105 cycles taking 0.071766 seconds\n",
      "[\u001b[35minfo\u001b[0m] [0.077] RAN 100 CYCLES PASSED\n"
     ]
    },
    {
     "data": {
      "text/plain": [
       "\u001b[36mgoldenModel\u001b[39m: \u001b[32mScalaFirFilter\u001b[39m = ammonite.$sess.cmd3$Helper$ScalaFirFilter@1d5ef381\n",
       "\u001b[36mres12_1\u001b[39m: \u001b[32mBoolean\u001b[39m = true"
      ]
     },
     "execution_count": 13,
     "metadata": {},
     "output_type": "execute_result"
    }
   ],
   "source": [
    "val goldenModel = new ScalaFirFilter(Seq(1, 1, 1, 1))\n",
    "\n",
    "Driver(() => new MyManyDynamicElementVecFir(4)) {\n",
    "  c => new PeekPokeTester(c) {\n",
    "    poke(c.io.consts(0), 1)\n",
    "    poke(c.io.consts(1), 1)\n",
    "    poke(c.io.consts(2), 1)\n",
    "    poke(c.io.consts(3), 1)\n",
    "    for(i <- 0 until 100) {\n",
    "      val input = scala.util.Random.nextInt(8)\n",
    "\n",
    "      val goldenModelResult = goldenModel.poke(input)\n",
    "\n",
    "      poke(c.io.in, input)\n",
    "\n",
    "      expect(c.io.out, goldenModelResult, s\"i $i, input $input, gm $goldenModelResult, ${peek(c.io.out)}\")\n",
    "\n",
    "      step(1)\n",
    "    }\n",
    "  }\n",
    "}"
   ]
  },
  {
   "cell_type": "markdown",
   "metadata": {},
   "source": [
    "<span style=\"color:red\">**Exercise: 32-bit RISC-V Processor**</span><br><a name=\"fir-golden-model\"></a>\n",
    "\n",
    "A [register file](https://en.wikipedia.org/wiki/Register_file) is an important building block for making a processor.\n",
    "A register file is an array of registers that can be read from or written to via a number of read or write ports.\n",
    "Each port consists of an address and data field.\n",
    "\n",
    "The [RISC-V instruction set architecture](https://riscv.org/specifications/) defines several variants, the simplest of which is called RV32I.\n",
    "RV32I has a size-32 array of 32-bit registers.\n",
    "**The register at index 0 (the first register) is always zero when you read from it, regardless of what you write to it** (it's often useful to have 0 handy).\n",
    "\n",
    "Implement a register file for RV32I with a single write port and a paramterized number of read ports.\n",
    "Writes will only be performed when `wen` (write enable) is asserted."
   ]
  },
  {
   "cell_type": "code",
   "execution_count": 22,
   "metadata": {},
   "outputs": [
    {
     "data": {
      "text/plain": [
       "defined \u001b[32mclass\u001b[39m \u001b[36mRegisterFile\u001b[39m"
      ]
     },
     "execution_count": 22,
     "metadata": {},
     "output_type": "execute_result"
    }
   ],
   "source": [
    "class RegisterFile(readPorts: Int) extends Module {\n",
    "    require(readPorts >= 0)\n",
    "    val io = IO(new Bundle {\n",
    "        val wen   = Input(Bool())\n",
    "        val waddr = Input(UInt(5.W))\n",
    "        val wdata = Input(UInt(32.W))\n",
    "        val raddr = Input(Vec(readPorts, UInt(5.W)))\n",
    "        val rdata = Output(Vec(readPorts, UInt(32.W)))\n",
    "        //val raddr = Input(VecInit(Seq.fill(readPorts)(0.U(5.W))))\n",
    "        //val rdata = Output(VecInit(Seq.fill(readPorts)(0.U(32.W))))\n",
    "    })\n",
    "    \n",
    "    // A Register of a vector of UInts\n",
    "    // fromBits(0.U) is a bit of a hack to have reg reset to zero\n",
    "    //val reg = RegInit( Vec(32, UInt(32.W)).fromBits(0.U) )\n",
    "    //fromBits is deprecated, so I change it.\n",
    "    val reg = RegInit( VecInit( Seq.fill(32)( 0.U(32.W) ) ) )\n",
    "    when(io.wen){\n",
    "        reg(io.waddr) := io.wdata\n",
    "    }\n",
    "    for(p <- 0 until readPorts){\n",
    "        when(io.raddr(p) === 0.U){\n",
    "            io.rdata(p) := 0.U\n",
    "        }.otherwise{\n",
    "            io.rdata(p) := reg(io.raddr(p))\n",
    "        }\n",
    "    }\n",
    "}"
   ]
  },
  {
   "cell_type": "code",
   "execution_count": 23,
   "metadata": {},
   "outputs": [
    {
     "name": "stdout",
     "output_type": "stream",
     "text": [
      "[\u001b[35minfo\u001b[0m] [0.000] Elaborating design...\n",
      "[\u001b[35minfo\u001b[0m] [0.012] Done elaborating.\n",
      "Total FIRRTL Compile Time: 68.8 ms\n",
      "Total FIRRTL Compile Time: 70.4 ms\n",
      "End of dependency graph\n",
      "Circuit state created\n",
      "[\u001b[35minfo\u001b[0m] [0.000] SEED 1543567814277\n",
      "test cmd21HelperRegisterFile Success: 96 tests passed in 37 cycles taking 0.082285 seconds\n",
      "[\u001b[35minfo\u001b[0m] [0.075] RAN 32 CYCLES PASSED\n"
     ]
    },
    {
     "data": {
      "text/plain": [
       "\u001b[36mres22\u001b[39m: \u001b[32mBoolean\u001b[39m = true"
      ]
     },
     "execution_count": 23,
     "metadata": {},
     "output_type": "execute_result"
    }
   ],
   "source": [
    "chisel3.iotesters.Driver(() => new RegisterFile(2) ) { c => new PeekPokeTester(c) {\n",
    "    def readExpect(addr: Int, value: Int, port: Int = 0): Unit = {\n",
    "        poke(c.io.raddr(port), addr)\n",
    "        expect(c.io.rdata(port), value)\n",
    "    }\n",
    "    def write(addr: Int, value: Int): Unit = {\n",
    "        poke(c.io.wen, 1)\n",
    "        poke(c.io.wdata, value)\n",
    "        poke(c.io.waddr, addr)\n",
    "        step(1)\n",
    "        poke(c.io.wen, 0)\n",
    "    }\n",
    "    // everything should be 0 on init\n",
    "    for (i <- 0 until 32) {\n",
    "        readExpect(i, 0, port = 0)\n",
    "        readExpect(i, 0, port = 1)\n",
    "    }\n",
    "\n",
    "    // write 5 * addr + 3\n",
    "    for (i <- 0 until 32) {\n",
    "        write(i, 5 * i + 3)\n",
    "    }\n",
    "\n",
    "    // check that the writes worked\n",
    "    for (i <- 0 until 32) {\n",
    "        readExpect(i, if (i == 0) 0 else 5 * i + 3, port = i % 2)\n",
    "    }\n",
    "\n",
    "}}"
   ]
  },
  {
   "cell_type": "markdown",
   "metadata": {},
   "source": [
    "<div id=\"container\"><section id=\"accordion\"><div>\n",
    "<input type=\"checkbox\" id=\"check-1\" />\n",
    "<label for=\"check-1\"><strong>Solution</strong></label>\n",
    "<article>\n",
    "<pre style=\"background-color:#f7f7f7\">\n",
    "    when (io.wen) {\n",
    "        reg(io.waddr) := io.wdata\n",
    "    }\n",
    "    for (i &lt;- 0 until readPorts) {\n",
    "        when (io.raddr(i) === 0.U) {\n",
    "            io.rdata(i) := 0.U\n",
    "        } .otherwise {\n",
    "            io.rdata(i) := reg(io.raddr(i))\n",
    "        }\n",
    "    }\n",
    "\n",
    "</pre></article></div></section></div>"
   ]
  },
  {
   "cell_type": "markdown",
   "metadata": {},
   "source": [
    "---\n",
    "# You're done!\n",
    "\n",
    "[Return to the top.](#top)"
   ]
  }
 ],
 "metadata": {
  "kernelspec": {
   "display_name": "Scala",
   "language": "scala",
   "name": "scala"
  },
  "language_info": {
   "codemirror_mode": "text/x-scala",
   "file_extension": ".scala",
   "mimetype": "text/x-scala",
   "name": "scala",
   "nbconvert_exporter": "script",
   "version": "2.11.12"
  }
 },
 "nbformat": 4,
 "nbformat_minor": 2
}
