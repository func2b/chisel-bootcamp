{
 "cells": [
  {
   "cell_type": "markdown",
   "metadata": {},
   "source": [
    "<a name=\"top\"></a><img src=\"images/chisel_1024.png\" alt=\"Chisel logo\" style=\"width:480px;\" />"
   ]
  },
  {
   "cell_type": "markdown",
   "metadata": {},
   "source": [
    "# Module 3 Interlude: Chisel Standard Library\n",
    "**Prev: [Generators: Collections](3.2_collections.ipynb)**<br>\n",
    "**Next: [Higher-Order Functions](3.3_higher-order_functions.ipynb)**\n",
    "\n",
    "## Motivation\n",
    "Chisel is all about re-use, so it only makes sense to provide a standard library of interfaces (encouraging interoperability of RTL) and generators for commonly-used hardware blocks.\n",
    "\n",
    "## Setup"
   ]
  },
  {
   "cell_type": "code",
   "execution_count": 1,
   "metadata": {},
   "outputs": [
    {
     "name": "stderr",
     "output_type": "stream",
     "text": [
      "Downloading https://repo1.maven.org/maven2/net/sourceforge/f2j/arpack_combined_all/0.1/arpack_combined_all-0.1-sources.jar\n",
      "Downloading https://repo1.maven.org/maven2/net/sourceforge/f2j/arpack_combined_all/0.1/arpack_combined_all-0.1-sources.jar.sha1\n",
      "https://repo1.maven.org/maven2/net/sourceforge/f2j/arpack_combined_all/0.1/ar… \n",
      "https://repo1.maven.org/maven2/net/sourceforge/f2j/arpack_combined_all/0.1/ar… \n",
      "\n",
      "Downloading https://repo1.maven.org/maven2/net/sourceforge/f2j/arpack_combined_all/0.1/arpack_combined_all-0.1-sources.jar.sha1\n",
      "Downloading https://repo1.maven.org/maven2/net/sourceforge/f2j/arpack_combined_all/0.1/arpack_combined_all-0.1-sources.jar\n"
     ]
    },
    {
     "name": "stdout",
     "output_type": "stream",
     "text": [
      "Compiling /home/pantao/Documents/chisel-bootcamp/Main.sc"
     ]
    },
    {
     "data": {
      "text/plain": [
       "\u001b[36mpath\u001b[39m: \u001b[32mString\u001b[39m = \u001b[32m\"/home/pantao/Documents/chisel-bootcamp/source/load-ivy.sc\"\u001b[39m"
      ]
     },
     "execution_count": 1,
     "metadata": {},
     "output_type": "execute_result"
    }
   ],
   "source": [
    "val path = System.getProperty(\"user.dir\") + \"/source/load-ivy.sc\"\n",
    "interp.load.module(ammonite.ops.Path(java.nio.file.FileSystems.getDefault().getPath(path)))"
   ]
  },
  {
   "cell_type": "code",
   "execution_count": 2,
   "metadata": {},
   "outputs": [
    {
     "data": {
      "text/plain": [
       "\u001b[32mimport \u001b[39m\u001b[36mchisel3._\n",
       "\u001b[39m\n",
       "\u001b[32mimport \u001b[39m\u001b[36mchisel3.util._\n",
       "\u001b[39m\n",
       "\u001b[32mimport \u001b[39m\u001b[36mchisel3.iotesters.{ChiselFlatSpec, Driver, PeekPokeTester}\u001b[39m"
      ]
     },
     "execution_count": 2,
     "metadata": {},
     "output_type": "execute_result"
    }
   ],
   "source": [
    "import chisel3._\n",
    "import chisel3.util._\n",
    "import chisel3.iotesters.{ChiselFlatSpec, Driver, PeekPokeTester}"
   ]
  },
  {
   "cell_type": "markdown",
   "metadata": {},
   "source": [
    "---\n",
    "# The Cheatsheet\n",
    "The [Chisel3 cheatsheet](https://chisel.eecs.berkeley.edu/doc/chisel-cheatsheet3.pdf) contains a summary of all the major hardware construction APIs, including some of the standard library utilities that we'll introduce below.\n",
    "\n",
    "# Decoupled: A Standard Ready-Valid Interface\n",
    "One of the commonly used interfaces provided by Chisel is `DecoupledIO`, providing a ready-valid interface for transferring data. The idea is that the source drives the `bits` signal with the data to be transferred and the `valid` signal when there is data to be transferred. The sink drives the `ready` signal when it is ready to accept data, and data is considered transferred when both `ready` and `valid` are asserted on a cycle.\n",
    "\n",
    "This provides a flow control mechanism in both directions for data transfer, including a backpressure mechanism.\n",
    "\n",
    "Note: `ready` and `valid` should not be combinationally coupled, otherwise this may result in unsynthesizable combinational loops. `ready` should only be dependent on whether the sink is able to receive data, and `valid` should only be dependent on whether the source has data. Only after the transaction (on the next clock cycle) should the values update.\n",
    "\n",
    "Any Chisel data can be wrapped in a `DecoupledIO` (used as the `bits` field) as follows:\n",
    "\n",
    "```scala\n",
    "val myChiselData = UInt(8.W)\n",
    "// or any Chisel data type, such as Bool(), SInt(...), or even custom Bundles\n",
    "val myDecoupled = Decoupled(myChiselData)\n",
    "```\n",
    "\n",
    "The above creates a new `DecoupledIO` Bundle with fields\n",
    "- `valid`: Output(Bool)\n",
    "- `ready`: Input(Bool)\n",
    "- `bits`: Output(UInt(8.W))\n",
    "___\n",
    "\n",
    "The rest of the section will be structured somewhat differently from the ones before: instead of giving you coding exercises, we're going to give some code examples and testcases that print the circuit state. Try to predict what will be printed before just running the tests.\n",
    "\n",
    "## Queues\n",
    "\n",
    "`Queue` creates a FIFO (first-in, first-out) queue with Decoupled interfaces on both sides, allowing backpressure. Both the data type and number of elements are configurable.\n",
    "\n",
    "`Filipped` 参考 https://stackoverflow.com/questions/48343073/what-does-flipped-do-in-chisel3\n",
    "\n",
    "Decoupled defaults to being an output, that is its argument, in this case the UInt(8.W) will bring data into the module. Decoupled adds ready and valid handshaking signals to in. The Flipped() changes the direction of all fields of it's argument. So out is suitable for communicating information out of the module. The code here is equivalent to\n",
    "\n",
    "``` scala\n",
    "val io = IO(new Bundle {\n",
    "  val in = new Bundle {\n",
    "    val valid = Input(Bool())\n",
    "    val ready = Output(Bool())\n",
    "    val bits  = Input(UInt(8.W))\n",
    "  }\n",
    "  val out = new Bundle {\n",
    "    val valid = Output(Bool())\n",
    "    val ready = Input(Bool())\n",
    "    val bits  = Output(UInt(8.W))\n",
    "  }\n",
    "}\n",
    "```"
   ]
  },
  {
   "cell_type": "code",
   "execution_count": 3,
   "metadata": {},
   "outputs": [
    {
     "name": "stdout",
     "output_type": "stream",
     "text": [
      "[\u001b[35minfo\u001b[0m] [0.001] Elaborating design...\n",
      "[\u001b[35minfo\u001b[0m] [1.532] Done elaborating.\n",
      "Total FIRRTL Compile Time: 376.7 ms\n",
      "Total FIRRTL Compile Time: 78.7 ms\n",
      "End of dependency graph\n",
      "Circuit state created\n",
      "[\u001b[35minfo\u001b[0m] [0.001] SEED 1543804947613\n",
      "[\u001b[35minfo\u001b[0m] [0.003] Starting:\n",
      "[\u001b[35minfo\u001b[0m] [0.010] \tio.in: ready=1\n",
      "[\u001b[35minfo\u001b[0m] [0.011] \tio.out: valid=0, bits=137\n",
      "[\u001b[35minfo\u001b[0m] [0.014] After first enqueue:\n",
      "[\u001b[35minfo\u001b[0m] [0.016] \tio.in: ready=1\n",
      "[\u001b[35minfo\u001b[0m] [0.035] \tio.out: valid=1, bits=42\n",
      "[\u001b[35minfo\u001b[0m] [0.038] On first read:\n",
      "[\u001b[35minfo\u001b[0m] [0.040] \tio.in: ready=0\n",
      "[\u001b[35minfo\u001b[0m] [0.041] \tio.out: valid=1, bits=42\n",
      "[\u001b[35minfo\u001b[0m] [0.080] On second read:\n",
      "[\u001b[35minfo\u001b[0m] [0.082] \tio.in: ready=1\n",
      "[\u001b[35minfo\u001b[0m] [0.083] \tio.out: valid=1, bits=43\n",
      "[\u001b[35minfo\u001b[0m] [0.094] On third read:\n",
      "[\u001b[35minfo\u001b[0m] [0.098] \tio.in: ready=1\n",
      "[\u001b[35minfo\u001b[0m] [0.105] \tio.out: valid=0, bits=42\n",
      "test cmd2Helperanonfun1anon2 Success: 0 tests passed in 10 cycles taking 0.141795 seconds\n",
      "[\u001b[35minfo\u001b[0m] [0.109] RAN 5 CYCLES PASSED\n"
     ]
    },
    {
     "data": {
      "text/plain": [
       "\u001b[36mres2\u001b[39m: \u001b[32mBoolean\u001b[39m = true"
      ]
     },
     "execution_count": 3,
     "metadata": {},
     "output_type": "execute_result"
    }
   ],
   "source": [
    "Driver(() => new Module {\n",
    "    // Example circuit using a Queue\n",
    "    val io = IO(new Bundle {\n",
    "      val in = Flipped(Decoupled(UInt(8.W)))\n",
    "      val out = Decoupled(UInt(8.W))\n",
    "    })\n",
    "    val queue = Queue(io.in, 2)  // 2-element queue\n",
    "    io.out <> queue\n",
    "  }) { c => new PeekPokeTester(c) {\n",
    "    // Example testsequence showing the use and behavior of Queue\n",
    "    poke(c.io.out.ready, 0)\n",
    "    poke(c.io.in.valid, 1)  // Enqueue an element\n",
    "    poke(c.io.in.bits, 42)\n",
    "    println(s\"Starting:\")\n",
    "    println(s\"\\tio.in: ready=${peek(c.io.in.ready)}\")\n",
    "    println(s\"\\tio.out: valid=${peek(c.io.out.valid)}, bits=${peek(c.io.out.bits)}\")\n",
    "    step(1)\n",
    "  \n",
    "    poke(c.io.in.valid, 1)  // Enqueue another element\n",
    "    poke(c.io.in.bits, 43)\n",
    "    // What do you think io.out.valid and io.out.bits will be?\n",
    "    println(s\"After first enqueue:\")\n",
    "    println(s\"\\tio.in: ready=${peek(c.io.in.ready)}\")\n",
    "    println(s\"\\tio.out: valid=${peek(c.io.out.valid)}, bits=${peek(c.io.out.bits)}\")\n",
    "    step(1)\n",
    "  \n",
    "    poke(c.io.in.valid, 1)  // Read a element, attempt to enqueue\n",
    "    poke(c.io.in.bits, 44)\n",
    "    poke(c.io.out.ready, 1)\n",
    "    // What do you think io.in.ready will be, and will this enqueue succeed, and what will be read?\n",
    "    println(s\"On first read:\")\n",
    "    println(s\"\\tio.in: ready=${peek(c.io.in.ready)}\")\n",
    "    println(s\"\\tio.out: valid=${peek(c.io.out.valid)}, bits=${peek(c.io.out.bits)}\")\n",
    "    step(1)\n",
    "  \n",
    "    poke(c.io.in.valid, 0)  // Read elements out\n",
    "    poke(c.io.out.ready, 1)\n",
    "    // What do you think will be read here?\n",
    "    println(s\"On second read:\")\n",
    "    println(s\"\\tio.in: ready=${peek(c.io.in.ready)}\")\n",
    "    println(s\"\\tio.out: valid=${peek(c.io.out.valid)}, bits=${peek(c.io.out.bits)}\")\n",
    "    step(1)\n",
    "  \n",
    "    // Will a third read produce anything?\n",
    "    println(s\"On third read:\")\n",
    "    println(s\"\\tio.in: ready=${peek(c.io.in.ready)}\")\n",
    "    println(s\"\\tio.out: valid=${peek(c.io.out.valid)}, bits=${peek(c.io.out.bits)}\")\n",
    "    step(1)\n",
    "} }"
   ]
  },
  {
   "cell_type": "code",
   "execution_count": 4,
   "metadata": {},
   "outputs": [
    {
     "name": "stdout",
     "output_type": "stream",
     "text": [
      "[\u001b[35minfo\u001b[0m] [0.000] Elaborating design...\n",
      "[\u001b[35minfo\u001b[0m] [0.046] Done elaborating.\n",
      "Total FIRRTL Compile Time: 122.4 ms\n",
      "Total FIRRTL Compile Time: 73.2 ms\n",
      "End of dependency graph\n",
      "Circuit state created\n",
      "[\u001b[35minfo\u001b[0m] [0.000] SEED 1543804954671\n",
      "[\u001b[35minfo\u001b[0m] [0.002] Starting:\n",
      "[\u001b[35minfo\u001b[0m] [0.004] \tio.in: ready=1\n",
      "[\u001b[35minfo\u001b[0m] [0.004] \tio.out: valid=0, bits=0\n",
      "[\u001b[35minfo\u001b[0m] [0.006] After first enqueue:\n",
      "[\u001b[35minfo\u001b[0m] [0.008] \tio.in: ready=1\n",
      "[\u001b[35minfo\u001b[0m] [0.009] \tio.out: valid=1, bits=42\n",
      "[\u001b[35minfo\u001b[0m] [0.010] On first read:\n",
      "[\u001b[35minfo\u001b[0m] [0.016] \tio.in: ready=0\n",
      "[\u001b[35minfo\u001b[0m] [0.017] \tio.out: valid=1, bits=42\n",
      "[\u001b[35minfo\u001b[0m] [0.019] On second read:\n",
      "[\u001b[35minfo\u001b[0m] [0.021] \tio.in: ready=1\n",
      "[\u001b[35minfo\u001b[0m] [0.022] \tio.out: valid=1, bits=43\n",
      "[\u001b[35minfo\u001b[0m] [0.024] On third read:\n",
      "[\u001b[35minfo\u001b[0m] [0.024] \tio.in: ready=1\n",
      "[\u001b[35minfo\u001b[0m] [0.026] \tio.out: valid=0, bits=42\n",
      "test cmd3HelperFifoTest Success: 0 tests passed in 10 cycles taking 0.040938 seconds\n",
      "[\u001b[35minfo\u001b[0m] [0.029] RAN 5 CYCLES PASSED\n",
      "[\u001b[35minfo\u001b[0m] [0.000] Elaborating design...\n",
      "[\u001b[35minfo\u001b[0m] [0.039] Done elaborating.\n",
      "Total FIRRTL Compile Time: 333.8 ms\n",
      "module Queue( // @[:@3.2]\n",
      "  input        clock, // @[:@4.4]\n",
      "  input        reset, // @[:@5.4]\n",
      "  output       io_enq_ready, // @[:@6.4]\n",
      "  input        io_enq_valid, // @[:@6.4]\n",
      "  input  [7:0] io_enq_bits, // @[:@6.4]\n",
      "  input        io_deq_ready, // @[:@6.4]\n",
      "  output       io_deq_valid, // @[:@6.4]\n",
      "  output [7:0] io_deq_bits // @[:@6.4]\n",
      ");\n",
      "  reg [7:0] ram [0:1]; // @[Decoupled.scala 214:24:@8.4]\n",
      "  reg [31:0] _RAND_0;\n",
      "  wire [7:0] ram__T_63_data; // @[Decoupled.scala 214:24:@8.4]\n",
      "  wire  ram__T_63_addr; // @[Decoupled.scala 214:24:@8.4]\n",
      "  wire [7:0] ram__T_49_data; // @[Decoupled.scala 214:24:@8.4]\n",
      "  wire  ram__T_49_addr; // @[Decoupled.scala 214:24:@8.4]\n",
      "  wire  ram__T_49_mask; // @[Decoupled.scala 214:24:@8.4]\n",
      "  wire  ram__T_49_en; // @[Decoupled.scala 214:24:@8.4]\n",
      "  reg  value; // @[Counter.scala 26:33:@9.4]\n",
      "  reg [31:0] _RAND_1;\n",
      "  reg  value_1; // @[Counter.scala 26:33:@10.4]\n",
      "  reg [31:0] _RAND_2;\n",
      "  reg  maybe_full; // @[Decoupled.scala 217:35:@11.4]\n",
      "  reg [31:0] _RAND_3;\n",
      "  wire  _T_41; // @[Decoupled.scala 219:41:@12.4]\n",
      "  wire  _T_43; // @[Decoupled.scala 220:36:@13.4]\n",
      "  wire  empty; // @[Decoupled.scala 220:33:@14.4]\n",
      "  wire  _T_44; // @[Decoupled.scala 221:32:@15.4]\n",
      "  wire  do_enq; // @[Decoupled.scala 37:37:@16.4]\n",
      "  wire  do_deq; // @[Decoupled.scala 37:37:@19.4]\n",
      "  wire [1:0] _T_52; // @[Counter.scala 35:22:@26.6]\n",
      "  wire  _T_53; // @[Counter.scala 35:22:@27.6]\n",
      "  wire  _GEN_4; // @[Decoupled.scala 225:17:@22.4]\n",
      "  wire [1:0] _T_56; // @[Counter.scala 35:22:@32.6]\n",
      "  wire  _T_57; // @[Counter.scala 35:22:@33.6]\n",
      "  wire  _GEN_5; // @[Decoupled.scala 229:17:@30.4]\n",
      "  wire  _T_58; // @[Decoupled.scala 232:16:@36.4]\n",
      "  wire  _GEN_6; // @[Decoupled.scala 232:28:@37.4]\n",
      "  wire  _T_60; // @[Decoupled.scala 236:19:@40.4]\n",
      "  wire  _T_62; // @[Decoupled.scala 237:19:@42.4]\n",
      "  assign ram__T_63_addr = value_1;\n",
      "  assign ram__T_63_data = ram[ram__T_63_addr]; // @[Decoupled.scala 214:24:@8.4]\n",
      "  assign ram__T_49_data = io_enq_bits;\n",
      "  assign ram__T_49_addr = value;\n",
      "  assign ram__T_49_mask = do_enq;\n",
      "  assign ram__T_49_en = do_enq;\n",
      "  assign _T_41 = value == value_1; // @[Decoupled.scala 219:41:@12.4]\n",
      "  assign _T_43 = maybe_full == 1'h0; // @[Decoupled.scala 220:36:@13.4]\n",
      "  assign empty = _T_41 & _T_43; // @[Decoupled.scala 220:33:@14.4]\n",
      "  assign _T_44 = _T_41 & maybe_full; // @[Decoupled.scala 221:32:@15.4]\n",
      "  assign do_enq = io_enq_ready & io_enq_valid; // @[Decoupled.scala 37:37:@16.4]\n",
      "  assign do_deq = io_deq_ready & io_deq_valid; // @[Decoupled.scala 37:37:@19.4]\n",
      "  assign _T_52 = value + 1'h1; // @[Counter.scala 35:22:@26.6]\n",
      "  assign _T_53 = _T_52[0:0]; // @[Counter.scala 35:22:@27.6]\n",
      "  assign _GEN_4 = do_enq ? _T_53 : value; // @[Decoupled.scala 225:17:@22.4]\n",
      "  assign _T_56 = value_1 + 1'h1; // @[Counter.scala 35:22:@32.6]\n",
      "  assign _T_57 = _T_56[0:0]; // @[Counter.scala 35:22:@33.6]\n",
      "  assign _GEN_5 = do_deq ? _T_57 : value_1; // @[Decoupled.scala 229:17:@30.4]\n",
      "  assign _T_58 = do_enq != do_deq; // @[Decoupled.scala 232:16:@36.4]\n",
      "  assign _GEN_6 = _T_58 ? do_enq : maybe_full; // @[Decoupled.scala 232:28:@37.4]\n",
      "  assign _T_60 = empty == 1'h0; // @[Decoupled.scala 236:19:@40.4]\n",
      "  assign _T_62 = _T_44 == 1'h0; // @[Decoupled.scala 237:19:@42.4]\n",
      "  assign io_enq_ready = _T_62;\n",
      "  assign io_deq_valid = _T_60;\n",
      "  assign io_deq_bits = ram__T_63_data;\n",
      "`ifdef RANDOMIZE_GARBAGE_ASSIGN\n",
      "`define RANDOMIZE\n",
      "`endif\n",
      "`ifdef RANDOMIZE_INVALID_ASSIGN\n",
      "`define RANDOMIZE\n",
      "`endif\n",
      "`ifdef RANDOMIZE_REG_INIT\n",
      "`define RANDOMIZE\n",
      "`endif\n",
      "`ifdef RANDOMIZE_MEM_INIT\n",
      "`define RANDOMIZE\n",
      "`endif\n",
      "`ifdef RANDOMIZE\n",
      "  integer initvar;\n",
      "  initial begin\n",
      "    `ifndef verilator\n",
      "      #0.002 begin end\n",
      "    `endif\n",
      "  _RAND_0 = {1{$random}};\n",
      "  `ifdef RANDOMIZE_MEM_INIT\n",
      "  for (initvar = 0; initvar < 2; initvar = initvar+1)\n",
      "    ram[initvar] = _RAND_0[7:0];\n",
      "  `endif // RANDOMIZE_MEM_INIT\n",
      "  `ifdef RANDOMIZE_REG_INIT\n",
      "  _RAND_1 = {1{$random}};\n",
      "  value = _RAND_1[0:0];\n",
      "  `endif // RANDOMIZE_REG_INIT\n",
      "  `ifdef RANDOMIZE_REG_INIT\n",
      "  _RAND_2 = {1{$random}};\n",
      "  value_1 = _RAND_2[0:0];\n",
      "  `endif // RANDOMIZE_REG_INIT\n",
      "  `ifdef RANDOMIZE_REG_INIT\n",
      "  _RAND_3 = {1{$random}};\n",
      "  maybe_full = _RAND_3[0:0];\n",
      "  `endif // RANDOMIZE_REG_INIT\n",
      "  end\n",
      "`endif // RANDOMIZE\n",
      "  always @(posedge clock) begin\n",
      "    if(ram__T_49_en & ram__T_49_mask) begin\n",
      "      ram[ram__T_49_addr] <= ram__T_49_data; // @[Decoupled.scala 214:24:@8.4]\n",
      "    end\n",
      "    if (reset) begin\n",
      "      value <= 1'h0;\n",
      "    end else begin\n",
      "      if (do_enq) begin\n",
      "        value <= _T_53;\n",
      "      end\n",
      "    end\n",
      "    if (reset) begin\n",
      "      value_1 <= 1'h0;\n",
      "    end else begin\n",
      "      if (do_deq) begin\n",
      "        value_1 <= _T_57;\n",
      "      end\n",
      "    end\n",
      "    if (reset) begin\n",
      "      maybe_full <= 1'h0;\n",
      "    end else begin\n",
      "      if (_T_58) begin\n",
      "        maybe_full <= do_enq;\n",
      "      end\n",
      "    end\n",
      "  end\n",
      "endmodule\n",
      "module cmd3HelperFifoTest( // @[:@53.2]\n",
      "  input        clock, // @[:@54.4]\n",
      "  input        reset, // @[:@55.4]\n",
      "  output       io_in_ready, // @[:@56.4]\n",
      "  input        io_in_valid, // @[:@56.4]\n",
      "  input  [7:0] io_in_bits, // @[:@56.4]\n",
      "  input        io_out_ready, // @[:@56.4]\n",
      "  output       io_out_valid, // @[:@56.4]\n",
      "  output [7:0] io_out_bits // @[:@56.4]\n",
      ");\n",
      "  wire  queue_clock; // @[Decoupled.scala 293:21:@58.4]\n",
      "  wire  queue_reset; // @[Decoupled.scala 293:21:@58.4]\n",
      "  wire  queue_io_enq_ready; // @[Decoupled.scala 293:21:@58.4]\n",
      "  wire  queue_io_enq_valid; // @[Decoupled.scala 293:21:@58.4]\n",
      "  wire [7:0] queue_io_enq_bits; // @[Decoupled.scala 293:21:@58.4]\n",
      "  wire  queue_io_deq_ready; // @[Decoupled.scala 293:21:@58.4]\n",
      "  wire  queue_io_deq_valid; // @[Decoupled.scala 293:21:@58.4]\n",
      "  wire [7:0] queue_io_deq_bits; // @[Decoupled.scala 293:21:@58.4]\n",
      "  Queue queue ( // @[Decoupled.scala 293:21:@58.4]\n",
      "    .clock(queue_clock),\n",
      "    .reset(queue_reset),\n",
      "    .io_enq_ready(queue_io_enq_ready),\n",
      "    .io_enq_valid(queue_io_enq_valid),\n",
      "    .io_enq_bits(queue_io_enq_bits),\n",
      "    .io_deq_ready(queue_io_deq_ready),\n",
      "    .io_deq_valid(queue_io_deq_valid),\n",
      "    .io_deq_bits(queue_io_deq_bits)\n",
      "  );\n",
      "  assign io_in_ready = queue_io_enq_ready;\n",
      "  assign io_out_valid = queue_io_deq_valid;\n",
      "  assign io_out_bits = queue_io_deq_bits;\n",
      "  assign queue_clock = clock;\n",
      "  assign queue_reset = reset;\n",
      "  assign queue_io_enq_valid = io_in_valid;\n",
      "  assign queue_io_enq_bits = io_in_bits;\n",
      "  assign queue_io_deq_ready = io_out_ready;\n",
      "endmodule\n",
      "\n"
     ]
    },
    {
     "data": {
      "text/plain": [
       "defined \u001b[32mclass\u001b[39m \u001b[36mFifoTest\u001b[39m\n",
       "\u001b[36mres3_1\u001b[39m: \u001b[32mBoolean\u001b[39m = true"
      ]
     },
     "execution_count": 4,
     "metadata": {},
     "output_type": "execute_result"
    }
   ],
   "source": [
    "class FifoTest extends Module {\n",
    "    // Example circuit using a Queue\n",
    "    val io = IO(new Bundle {\n",
    "      val in = Flipped(Decoupled(UInt(8.W)))\n",
    "      val out = Decoupled(UInt(8.W))\n",
    "    })\n",
    "    val queue = Queue(io.in, 2)  // 2-element queue\n",
    "    io.out <> queue\n",
    "}\n",
    "\n",
    "Driver(() => new FifoTest) { c => new PeekPokeTester(c) {\n",
    "    // Example testsequence showing the use and behavior of Queue\n",
    "    poke(c.io.out.ready, 0)\n",
    "    poke(c.io.in.valid, 1)  // Enqueue an element\n",
    "    poke(c.io.in.bits, 42)\n",
    "    println(s\"Starting:\")\n",
    "    println(s\"\\tio.in: ready=${peek(c.io.in.ready)}\")\n",
    "    println(s\"\\tio.out: valid=${peek(c.io.out.valid)}, bits=${peek(c.io.out.bits)}\")\n",
    "    step(1)\n",
    "  \n",
    "    poke(c.io.in.valid, 1)  // Enqueue another element\n",
    "    poke(c.io.in.bits, 43)\n",
    "    // What do you think io.out.valid and io.out.bits will be?\n",
    "    println(s\"After first enqueue:\")\n",
    "    println(s\"\\tio.in: ready=${peek(c.io.in.ready)}\")\n",
    "    println(s\"\\tio.out: valid=${peek(c.io.out.valid)}, bits=${peek(c.io.out.bits)}\")\n",
    "    step(1)\n",
    "  \n",
    "    poke(c.io.in.valid, 1)  // Read a element, attempt to enqueue\n",
    "    poke(c.io.in.bits, 44)\n",
    "    poke(c.io.out.ready, 1)\n",
    "    // What do you think io.in.ready will be, and will this enqueue succeed, and what will be read?\n",
    "    println(s\"On first read:\")\n",
    "    println(s\"\\tio.in: ready=${peek(c.io.in.ready)}\")\n",
    "    println(s\"\\tio.out: valid=${peek(c.io.out.valid)}, bits=${peek(c.io.out.bits)}\")\n",
    "    step(1)\n",
    "  \n",
    "    poke(c.io.in.valid, 0)  // Read elements out\n",
    "    poke(c.io.out.ready, 1)\n",
    "    // What do you think will be read here?\n",
    "    println(s\"On second read:\")\n",
    "    println(s\"\\tio.in: ready=${peek(c.io.in.ready)}\")\n",
    "    println(s\"\\tio.out: valid=${peek(c.io.out.valid)}, bits=${peek(c.io.out.bits)}\")\n",
    "    step(1)\n",
    "  \n",
    "    // Will a third read produce anything?\n",
    "    println(s\"On third read:\")\n",
    "    println(s\"\\tio.in: ready=${peek(c.io.in.ready)}\")\n",
    "    println(s\"\\tio.out: valid=${peek(c.io.out.valid)}, bits=${peek(c.io.out.bits)}\")\n",
    "    step(1)\n",
    "} }\n",
    "\n",
    "println(getVerilog(new FifoTest))"
   ]
  },
  {
   "cell_type": "markdown",
   "metadata": {},
   "source": [
    "## Arbiters\n",
    "Arbiters routes data from _n_ `DecoupledIO` sources to one `DecoupledIO` sink, given a prioritization.\n",
    "There are two types included in Chisel:\n",
    "- `Arbiter`: prioritizes lower-index producers\n",
    "- `RRArbiter`: runs in round-robin order\n",
    "\n",
    "Note that Arbiter routing is implemented in combinational logic.\n",
    "\n",
    "The below example will demonstrate the use of the priority arbiter (which you will also implement in the next section):\n",
    "\n",
    "<span style=\"color:#f00\">Note that in(0) has a higher priority.</span>"
   ]
  },
  {
   "cell_type": "code",
   "execution_count": 5,
   "metadata": {},
   "outputs": [
    {
     "name": "stdout",
     "output_type": "stream",
     "text": [
      "[\u001b[35minfo\u001b[0m] [0.000] Elaborating design...\n",
      "[\u001b[35minfo\u001b[0m] [0.065] Done elaborating.\n",
      "Total FIRRTL Compile Time: 74.8 ms\n",
      "Total FIRRTL Compile Time: 43.7 ms\n",
      "End of dependency graph\n",
      "Circuit state created\n",
      "[\u001b[35minfo\u001b[0m] [0.001] SEED 1543804958794\n",
      "[\u001b[35minfo\u001b[0m] [0.005] Start:\n",
      "[\u001b[35minfo\u001b[0m] [0.031] \tin(0).ready=1, in(1).ready=1\n",
      "[\u001b[35minfo\u001b[0m] [0.033] \tout.valid=0, out.bits=154\n",
      "[\u001b[35minfo\u001b[0m] [0.036] valid input 1:\n",
      "[\u001b[35minfo\u001b[0m] [0.056] \tin(0).ready=1, in(1).ready=1\n",
      "[\u001b[35minfo\u001b[0m] [0.057] \tout.valid=1, out.bits=42\n",
      "[\u001b[35minfo\u001b[0m] [0.062] valid inputs 0 and 1:\n",
      "[\u001b[35minfo\u001b[0m] [0.075] \tin(0).ready=1, in(1).ready=0\n",
      "[\u001b[35minfo\u001b[0m] [0.076] \tout.valid=1, out.bits=43\n",
      "[\u001b[35minfo\u001b[0m] [0.076] valid input 0:\n",
      "[\u001b[35minfo\u001b[0m] [0.082] \tin(0).ready=1, in(1).ready=0\n",
      "[\u001b[35minfo\u001b[0m] [0.084] \tout.valid=1, out.bits=43\n",
      "test cmd4Helperanonfun1anon2 Success: 0 tests passed in 5 cycles taking 0.101563 seconds\n",
      "[\u001b[35minfo\u001b[0m] [0.097] RAN 0 CYCLES PASSED\n"
     ]
    },
    {
     "data": {
      "text/plain": [
       "\u001b[36mres4\u001b[39m: \u001b[32mBoolean\u001b[39m = true"
      ]
     },
     "execution_count": 5,
     "metadata": {},
     "output_type": "execute_result"
    }
   ],
   "source": [
    "Driver(() => new Module {\n",
    "    // Example circuit using a priority arbiter\n",
    "    val io = IO(new Bundle {\n",
    "      val in = Flipped(Vec(2, Decoupled(UInt(8.W))))\n",
    "      val out = Decoupled(UInt(8.W))\n",
    "    })\n",
    "    // Arbiter doesn't have a convenience constructor, so it's built like any Module\n",
    "    val arbiter = Module(new Arbiter(UInt(8.W), 2))  // 2 to 1 Priority Arbiter\n",
    "    arbiter.io.in <> io.in\n",
    "    io.out <> arbiter.io.out\n",
    "  }) { c => new PeekPokeTester(c) {\n",
    "    poke(c.io.in(0).valid, 0)\n",
    "    poke(c.io.in(1).valid, 0)\n",
    "    println(s\"Start:\")\n",
    "    println(s\"\\tin(0).ready=${peek(c.io.in(0).ready)}, in(1).ready=${peek(c.io.in(1).ready)}\")\n",
    "    println(s\"\\tout.valid=${peek(c.io.out.valid)}, out.bits=${peek(c.io.out.bits)}\")\n",
    "    poke(c.io.in(1).valid, 1)  // Valid input 1\n",
    "    poke(c.io.in(1).bits, 42)\n",
    "    // What do you think the output will be?\n",
    "    println(s\"valid input 1:\")\n",
    "    println(s\"\\tin(0).ready=${peek(c.io.in(0).ready)}, in(1).ready=${peek(c.io.in(1).ready)}\")\n",
    "    println(s\"\\tout.valid=${peek(c.io.out.valid)}, out.bits=${peek(c.io.out.bits)}\")\n",
    "    poke(c.io.in(0).valid, 1)  // Valid inputs 0 and 1\n",
    "    poke(c.io.in(0).bits, 43)\n",
    "    // What do you think the output will be? Which inputs will be ready?\n",
    "    println(s\"valid inputs 0 and 1:\")\n",
    "    println(s\"\\tin(0).ready=${peek(c.io.in(0).ready)}, in(1).ready=${peek(c.io.in(1).ready)}\")\n",
    "    println(s\"\\tout.valid=${peek(c.io.out.valid)}, out.bits=${peek(c.io.out.bits)}\")\n",
    "    poke(c.io.in(1).valid, 0)  // Valid input 0\n",
    "    // What do you think the output will be?\n",
    "    println(s\"valid input 0:\")\n",
    "    println(s\"\\tin(0).ready=${peek(c.io.in(0).ready)}, in(1).ready=${peek(c.io.in(1).ready)}\")\n",
    "    println(s\"\\tout.valid=${peek(c.io.out.valid)}, out.bits=${peek(c.io.out.bits)}\")\n",
    "} }"
   ]
  },
  {
   "cell_type": "markdown",
   "metadata": {},
   "source": [
    "# Misc Function Blocks\n",
    "Chisel Utils has some helpers that perform stateless functions.\n",
    "\n",
    "## Bitwise Utilities\n",
    "### PopCount\n",
    "PopCount returns the number of high (1) bits in the input as a `UInt`.\n",
    "\n",
    "### Reverse\n",
    "Reverse returns the bit-reversed input."
   ]
  },
  {
   "cell_type": "code",
   "execution_count": 6,
   "metadata": {},
   "outputs": [
    {
     "name": "stdout",
     "output_type": "stream",
     "text": [
      "[\u001b[35minfo\u001b[0m] [0.000] Elaborating design...\n",
      "[\u001b[35minfo\u001b[0m] [0.116] Done elaborating.\n",
      "Total FIRRTL Compile Time: 25.2 ms\n",
      "Total FIRRTL Compile Time: 30.5 ms\n",
      "End of dependency graph\n",
      "Circuit state created\n",
      "[\u001b[35minfo\u001b[0m] [0.000] SEED 1543805196402\n",
      "[\u001b[35minfo\u001b[0m] [0.001] in=0b0, out=0\n",
      "[\u001b[35minfo\u001b[0m] [0.006] in=0b1111, out=4\n",
      "[\u001b[35minfo\u001b[0m] [0.007] in=0b11001010, out=4\n",
      "[\u001b[35minfo\u001b[0m] [0.012] in=0b11111111, out=8\n",
      "test cmd5Helperanonfun1anon2 Success: 0 tests passed in 5 cycles taking 0.018947 seconds\n",
      "[\u001b[35minfo\u001b[0m] [0.013] RAN 0 CYCLES PASSED\n"
     ]
    },
    {
     "data": {
      "text/plain": [
       "\u001b[36mres5\u001b[39m: \u001b[32mBoolean\u001b[39m = true"
      ]
     },
     "execution_count": 6,
     "metadata": {},
     "output_type": "execute_result"
    }
   ],
   "source": [
    "Driver(() => new Module {\n",
    "    // Example circuit using Reverse\n",
    "    val io = IO(new Bundle {\n",
    "      val in = Input(UInt(8.W))\n",
    "      val out = Output(UInt(8.W))\n",
    "    })\n",
    "    io.out := PopCount(io.in)\n",
    "  }) { c => new PeekPokeTester(c) {\n",
    "    // Integer.parseInt is used create an Integer from a binary specification\n",
    "    poke(c.io.in, Integer.parseInt(\"00000000\", 2))\n",
    "    println(s\"in=0b${peek(c.io.in).toInt.toBinaryString}, out=${peek(c.io.out)}\")\n",
    "  \n",
    "    poke(c.io.in, Integer.parseInt(\"00001111\", 2))\n",
    "    println(s\"in=0b${peek(c.io.in).toInt.toBinaryString}, out=${peek(c.io.out)}\")\n",
    "  \n",
    "    poke(c.io.in, Integer.parseInt(\"11001010\", 2))\n",
    "    println(s\"in=0b${peek(c.io.in).toInt.toBinaryString}, out=${peek(c.io.out)}\")\n",
    "  \n",
    "    poke(c.io.in, Integer.parseInt(\"11111111\", 2))\n",
    "    println(s\"in=0b${peek(c.io.in).toInt.toBinaryString}, out=${peek(c.io.out)}\")\n",
    "} }"
   ]
  },
  {
   "cell_type": "code",
   "execution_count": 7,
   "metadata": {},
   "outputs": [
    {
     "name": "stdout",
     "output_type": "stream",
     "text": [
      "[\u001b[35minfo\u001b[0m] [0.000] Elaborating design...\n",
      "[\u001b[35minfo\u001b[0m] [0.022] Done elaborating.\n",
      "Total FIRRTL Compile Time: 32.4 ms\n",
      "Total FIRRTL Compile Time: 19.4 ms\n",
      "End of dependency graph\n",
      "Circuit state created\n",
      "[\u001b[35minfo\u001b[0m] [0.000] SEED 1543805411026\n",
      "[\u001b[35minfo\u001b[0m] [0.004] in=0b1010101, out=0b10101010\n",
      "[\u001b[35minfo\u001b[0m] [0.005] in=0b1111, out=0b11110000\n",
      "[\u001b[35minfo\u001b[0m] [0.006] in=0b11110000, out=0b1111\n",
      "[\u001b[35minfo\u001b[0m] [0.007] in=0b11001010, out=0b1010011\n",
      "test cmd6Helperanonfun1anon2 Success: 0 tests passed in 5 cycles taking 0.020612 seconds\n",
      "[\u001b[35minfo\u001b[0m] [0.016] RAN 0 CYCLES PASSED\n"
     ]
    },
    {
     "data": {
      "text/plain": [
       "\u001b[36mres6\u001b[39m: \u001b[32mBoolean\u001b[39m = true"
      ]
     },
     "execution_count": 7,
     "metadata": {},
     "output_type": "execute_result"
    }
   ],
   "source": [
    "Driver(() => new Module {\n",
    "    // Example circuit using Reverse\n",
    "    val io = IO(new Bundle {\n",
    "      val in = Input(UInt(8.W))\n",
    "      val out = Output(UInt(8.W))\n",
    "    })\n",
    "    io.out := Reverse(io.in)\n",
    "  }) { c => new PeekPokeTester(c) {\n",
    "    // Integer.parseInt is used create an Integer from a binary specification\n",
    "    poke(c.io.in, Integer.parseInt(\"01010101\", 2))\n",
    "    println(s\"in=0b${peek(c.io.in).toInt.toBinaryString}, out=0b${peek(c.io.out).toInt.toBinaryString}\")\n",
    "  \n",
    "    poke(c.io.in, Integer.parseInt(\"00001111\", 2))\n",
    "    println(s\"in=0b${peek(c.io.in).toInt.toBinaryString}, out=0b${peek(c.io.out).toInt.toBinaryString}\")\n",
    "  \n",
    "    poke(c.io.in, Integer.parseInt(\"11110000\", 2))\n",
    "    println(s\"in=0b${peek(c.io.in).toInt.toBinaryString}, out=0b${peek(c.io.out).toInt.toBinaryString}\")\n",
    "  \n",
    "    poke(c.io.in, Integer.parseInt(\"11001010\", 2))\n",
    "    println(s\"in=0b${peek(c.io.in).toInt.toBinaryString}, out=0b${peek(c.io.out).toInt.toBinaryString}\")\n",
    "} }"
   ]
  },
  {
   "cell_type": "markdown",
   "metadata": {},
   "source": [
    "## OneHot encoding utilities\n",
    "OneHot is an encoding of integers where there is one wire for each value, and exactly one wire is high. This allows the efficient creation of some functions, for example muxes. However, behavior may be undefined if the one-wire-high condition is not held.\n",
    "\n",
    "The below two functions provide conversion between binary (`UInt`) and OneHot encodings, and are inverses of each other:\n",
    "- UInt to OneHot: `UIntToOH`\n",
    "- OneHot to UInt: `OHToUInt`"
   ]
  },
  {
   "cell_type": "code",
   "execution_count": 8,
   "metadata": {},
   "outputs": [
    {
     "name": "stdout",
     "output_type": "stream",
     "text": [
      "[\u001b[35minfo\u001b[0m] [0.000] Elaborating design...\n",
      "[\u001b[35minfo\u001b[0m] [0.016] Done elaborating.\n",
      "Total FIRRTL Compile Time: 9.3 ms\n",
      "Total FIRRTL Compile Time: 7.1 ms\n",
      "End of dependency graph\n",
      "Circuit state created\n",
      "[\u001b[35minfo\u001b[0m] [0.000] SEED 1543805780958\n",
      "[\u001b[35minfo\u001b[0m] [0.008] in=0, out=0b1\n",
      "[\u001b[35minfo\u001b[0m] [0.016] in=1, out=0b10\n",
      "[\u001b[35minfo\u001b[0m] [0.020] in=8, out=0b100000000\n",
      "[\u001b[35minfo\u001b[0m] [0.031] in=15, out=0b1000000000000000\n",
      "test cmd7Helperanonfun1anon2 Success: 0 tests passed in 5 cycles taking 0.033412 seconds\n",
      "[\u001b[35minfo\u001b[0m] [0.032] RAN 0 CYCLES PASSED\n"
     ]
    },
    {
     "data": {
      "text/plain": [
       "\u001b[36mres7\u001b[39m: \u001b[32mBoolean\u001b[39m = true"
      ]
     },
     "execution_count": 8,
     "metadata": {},
     "output_type": "execute_result"
    }
   ],
   "source": [
    "Driver(() => new Module {\n",
    "    // Example circuit using UIntToOH\n",
    "    val io = IO(new Bundle {\n",
    "      val in = Input(UInt(4.W))\n",
    "      val out = Output(UInt(16.W))\n",
    "    })\n",
    "    io.out := UIntToOH(io.in)\n",
    "  }) { c => new PeekPokeTester(c) {\n",
    "    poke(c.io.in, 0)\n",
    "    println(s\"in=${peek(c.io.in)}, out=0b${peek(c.io.out).toInt.toBinaryString}\")\n",
    "\n",
    "    poke(c.io.in, 1)\n",
    "    println(s\"in=${peek(c.io.in)}, out=0b${peek(c.io.out).toInt.toBinaryString}\")\n",
    "  \n",
    "    poke(c.io.in, 8)\n",
    "    println(s\"in=${peek(c.io.in)}, out=0b${peek(c.io.out).toInt.toBinaryString}\")\n",
    "  \n",
    "    poke(c.io.in, 15)\n",
    "    println(s\"in=${peek(c.io.in)}, out=0b${peek(c.io.out).toInt.toBinaryString}\")\n",
    "} }"
   ]
  },
  {
   "cell_type": "code",
   "execution_count": 9,
   "metadata": {},
   "outputs": [
    {
     "name": "stdout",
     "output_type": "stream",
     "text": [
      "[\u001b[35minfo\u001b[0m] [0.000] Elaborating design...\n",
      "[\u001b[35minfo\u001b[0m] [0.014] Done elaborating.\n",
      "Total FIRRTL Compile Time: 45.7 ms\n",
      "Total FIRRTL Compile Time: 13.4 ms\n",
      "End of dependency graph\n",
      "Circuit state created\n",
      "[\u001b[35minfo\u001b[0m] [0.001] SEED 1543805949148\n",
      "[\u001b[35minfo\u001b[0m] [0.002] in=0b1, out=0\n",
      "[\u001b[35minfo\u001b[0m] [0.004] in=0b10000000, out=7\n",
      "[\u001b[35minfo\u001b[0m] [0.019] in=0b1000000000000001, out=15\n",
      "[\u001b[35minfo\u001b[0m] [0.023] in=0b0, out=0\n",
      "[\u001b[35minfo\u001b[0m] [0.028] in=0b1010000100000, out=15\n",
      "test cmd8Helperanonfun1anon2 Success: 0 tests passed in 5 cycles taking 0.030496 seconds\n",
      "[\u001b[35minfo\u001b[0m] [0.029] RAN 0 CYCLES PASSED\n"
     ]
    },
    {
     "data": {
      "text/plain": [
       "\u001b[36mres8\u001b[39m: \u001b[32mBoolean\u001b[39m = true"
      ]
     },
     "execution_count": 9,
     "metadata": {},
     "output_type": "execute_result"
    }
   ],
   "source": [
    "Driver(() => new Module {\n",
    "    // Example circuit using OHToUInt\n",
    "    val io = IO(new Bundle {\n",
    "      val in = Input(UInt(16.W))\n",
    "      val out = Output(UInt(4.W))\n",
    "    })\n",
    "    io.out := OHToUInt(io.in)\n",
    "  }) { c => new PeekPokeTester(c) {\n",
    "    poke(c.io.in, Integer.parseInt(\"0000 0000 0000 0001\".replace(\" \", \"\"), 2))\n",
    "    println(s\"in=0b${peek(c.io.in).toInt.toBinaryString}, out=${peek(c.io.out)}\")\n",
    "\n",
    "    poke(c.io.in, Integer.parseInt(\"0000 0000 1000 0000\".replace(\" \", \"\"), 2))\n",
    "    println(s\"in=0b${peek(c.io.in).toInt.toBinaryString}, out=${peek(c.io.out)}\")\n",
    "  \n",
    "    poke(c.io.in, Integer.parseInt(\"1000 0000 0000 0001\".replace(\" \", \"\"), 2))\n",
    "    println(s\"in=0b${peek(c.io.in).toInt.toBinaryString}, out=${peek(c.io.out)}\")\n",
    "  \n",
    "    // Some invalid inputs:\n",
    "    // None high\n",
    "    poke(c.io.in, Integer.parseInt(\"0000 0000 0000 0000\".replace(\" \", \"\"), 2))\n",
    "    println(s\"in=0b${peek(c.io.in).toInt.toBinaryString}, out=${peek(c.io.out)}\")\n",
    "  \n",
    "    // Multiple high\n",
    "    poke(c.io.in, Integer.parseInt(\"0001 0100 0010 0000\".replace(\" \", \"\"), 2))\n",
    "    println(s\"in=0b${peek(c.io.in).toInt.toBinaryString}, out=${peek(c.io.out)}\")\n",
    "} }"
   ]
  },
  {
   "cell_type": "markdown",
   "metadata": {},
   "source": [
    "## Muxes\n",
    "These muxes take in a list of values with select signals, and output the value associated with the lowest-index select signal.\n",
    "\n",
    "These can either take a list of (select: Bool, value: Data) tuples, or corresponding lists of selects and values as arguments. For simplicity, the examples below only demonstrate the second form.\n",
    "\n",
    "### Priority Mux\n",
    "A `PriorityMux` outputs the value associated with the lowest-index asserted select signal.\n",
    "\n",
    "### OneHot Mux\n",
    "An `Mux1H` provides an efficient implementation when it is guaranteed that exactly one of the select signals will be high. Behavior is undefined if the assumption is not true."
   ]
  },
  {
   "cell_type": "code",
   "execution_count": 10,
   "metadata": {},
   "outputs": [
    {
     "name": "stdout",
     "output_type": "stream",
     "text": [
      "[\u001b[35minfo\u001b[0m] [0.000] Elaborating design...\n",
      "[\u001b[35minfo\u001b[0m] [0.019] Done elaborating.\n",
      "Total FIRRTL Compile Time: 25.2 ms\n",
      "Total FIRRTL Compile Time: 23.4 ms\n",
      "End of dependency graph\n",
      "Circuit state created\n",
      "[\u001b[35minfo\u001b[0m] [0.000] SEED 1543806278814\n",
      "[\u001b[35minfo\u001b[0m] [0.004] in_sels=Vector(0, 1), out=20\n",
      "[\u001b[35minfo\u001b[0m] [0.005] in_sels=Vector(1, 1), out=10\n",
      "[\u001b[35minfo\u001b[0m] [0.007] in_sels=Vector(1, 0), out=10\n",
      "test cmd9Helperanonfun1anon2 Success: 0 tests passed in 5 cycles taking 0.012594 seconds\n",
      "[\u001b[35minfo\u001b[0m] [0.008] RAN 0 CYCLES PASSED\n"
     ]
    },
    {
     "data": {
      "text/plain": [
       "\u001b[36mres9\u001b[39m: \u001b[32mBoolean\u001b[39m = true"
      ]
     },
     "execution_count": 10,
     "metadata": {},
     "output_type": "execute_result"
    }
   ],
   "source": [
    "Driver(() => new Module {\n",
    "    // Example circuit using PriorityMux\n",
    "    val io = IO(new Bundle {\n",
    "      val in_sels = Input(Vec(2, Bool()))\n",
    "      val in_bits = Input(Vec(2, UInt(8.W)))\n",
    "      val out = Output(UInt(8.W))\n",
    "    })\n",
    "    io.out := PriorityMux(io.in_sels, io.in_bits)\n",
    "  }) { c => new PeekPokeTester(c) {\n",
    "    poke(c.io.in_bits(0), 10)\n",
    "    poke(c.io.in_bits(1), 20)\n",
    "  \n",
    "    // Select higher index only\n",
    "    poke(c.io.in_sels(0), 0)\n",
    "    poke(c.io.in_sels(1), 1)\n",
    "    println(s\"in_sels=${peek(c.io.in_sels)}, out=${peek(c.io.out)}\")\n",
    "  \n",
    "    // Select both - arbitration needed\n",
    "    poke(c.io.in_sels(0), 1)\n",
    "    poke(c.io.in_sels(1), 1)\n",
    "    println(s\"in_sels=${peek(c.io.in_sels)}, out=${peek(c.io.out)}\")\n",
    "  \n",
    "    // Select lower index only\n",
    "    poke(c.io.in_sels(0), 1)\n",
    "    poke(c.io.in_sels(1), 0)\n",
    "    println(s\"in_sels=${peek(c.io.in_sels)}, out=${peek(c.io.out)}\")\n",
    "} }"
   ]
  },
  {
   "cell_type": "code",
   "execution_count": 11,
   "metadata": {},
   "outputs": [
    {
     "name": "stdout",
     "output_type": "stream",
     "text": [
      "[\u001b[35minfo\u001b[0m] [0.000] Elaborating design...\n",
      "[\u001b[35minfo\u001b[0m] [0.013] Done elaborating.\n",
      "Total FIRRTL Compile Time: 8.8 ms\n",
      "Total FIRRTL Compile Time: 12.7 ms\n",
      "End of dependency graph\n",
      "Circuit state created\n",
      "[\u001b[35minfo\u001b[0m] [0.000] SEED 1543806367954\n",
      "[\u001b[35minfo\u001b[0m] [0.004] in_sels=Vector(0, 1), out=20\n",
      "[\u001b[35minfo\u001b[0m] [0.016] in_sels=Vector(1, 0), out=10\n",
      "[\u001b[35minfo\u001b[0m] [0.017] in_sels=Vector(0, 0), out=0\n",
      "[\u001b[35minfo\u001b[0m] [0.018] in_sels=Vector(1, 1), out=30\n",
      "test cmd10Helperanonfun1anon2 Success: 0 tests passed in 5 cycles taking 0.020399 seconds\n",
      "[\u001b[35minfo\u001b[0m] [0.019] RAN 0 CYCLES PASSED\n"
     ]
    },
    {
     "data": {
      "text/plain": [
       "\u001b[36mres10\u001b[39m: \u001b[32mBoolean\u001b[39m = true"
      ]
     },
     "execution_count": 11,
     "metadata": {},
     "output_type": "execute_result"
    }
   ],
   "source": [
    "Driver(() => new Module {\n",
    "    // Example circuit using Mux1H\n",
    "    val io = IO(new Bundle {\n",
    "      val in_sels = Input(Vec(2, Bool()))\n",
    "      val in_bits = Input(Vec(2, UInt(8.W)))\n",
    "      val out = Output(UInt(8.W))\n",
    "    })\n",
    "    io.out := Mux1H(io.in_sels, io.in_bits)\n",
    "  }) { c => new PeekPokeTester(c) {\n",
    "    poke(c.io.in_bits(0), 10)\n",
    "    poke(c.io.in_bits(1), 20)\n",
    "  \n",
    "    // Select index 1\n",
    "    poke(c.io.in_sels(0), 0)\n",
    "    poke(c.io.in_sels(1), 1)\n",
    "    println(s\"in_sels=${peek(c.io.in_sels)}, out=${peek(c.io.out)}\")\n",
    "  \n",
    "    // Select index 0\n",
    "    poke(c.io.in_sels(0), 1)\n",
    "    poke(c.io.in_sels(1), 0)\n",
    "    println(s\"in_sels=${peek(c.io.in_sels)}, out=${peek(c.io.out)}\")\n",
    "  \n",
    "    // Select none (invalid)\n",
    "    poke(c.io.in_sels(0), 0)\n",
    "    poke(c.io.in_sels(1), 0)\n",
    "    println(s\"in_sels=${peek(c.io.in_sels)}, out=${peek(c.io.out)}\")\n",
    "  \n",
    "    // Select both (invalid)\n",
    "    poke(c.io.in_sels(0), 1)\n",
    "    poke(c.io.in_sels(1), 1)\n",
    "    println(s\"in_sels=${peek(c.io.in_sels)}, out=${peek(c.io.out)}\")\n",
    "} }"
   ]
  },
  {
   "cell_type": "markdown",
   "metadata": {
    "collapsed": true
   },
   "source": [
    "## Counter\n",
    "`Counter` is a counter that can be incremented once every cycle, up to some specified limit, at which point it overflows. Note that it is **not** a Module, and its value is accessible."
   ]
  },
  {
   "cell_type": "code",
   "execution_count": 12,
   "metadata": {},
   "outputs": [
    {
     "name": "stdout",
     "output_type": "stream",
     "text": [
      "[\u001b[35minfo\u001b[0m] [0.000] Elaborating design...\n",
      "[\u001b[35minfo\u001b[0m] [0.010] Done elaborating.\n",
      "Total FIRRTL Compile Time: 11.7 ms\n",
      "Total FIRRTL Compile Time: 12.9 ms\n",
      "End of dependency graph\n",
      "Circuit state created\n",
      "[\u001b[35minfo\u001b[0m] [0.000] SEED 1543806463751\n",
      "[\u001b[35minfo\u001b[0m] [0.010] start: counter value=0\n",
      "[\u001b[35minfo\u001b[0m] [0.016] step 1: counter value=1\n",
      "[\u001b[35minfo\u001b[0m] [0.022] step 2: counter value=2\n",
      "[\u001b[35minfo\u001b[0m] [0.032] step without increment: counter value=2\n",
      "[\u001b[35minfo\u001b[0m] [0.039] step again: counter value=0\n",
      "test cmd11Helperanonfun2anon2 Success: 0 tests passed in 9 cycles taking 0.051159 seconds\n",
      "[\u001b[35minfo\u001b[0m] [0.051] RAN 4 CYCLES PASSED\n"
     ]
    },
    {
     "data": {
      "text/plain": [
       "\u001b[36mres11\u001b[39m: \u001b[32mBoolean\u001b[39m = true"
      ]
     },
     "execution_count": 12,
     "metadata": {},
     "output_type": "execute_result"
    }
   ],
   "source": [
    "Driver(() => new Module {\n",
    "    // Example circuit using Mux1H\n",
    "    val io = IO(new Bundle {\n",
    "      val count = Input(Bool())\n",
    "      val out = Output(UInt(2.W))\n",
    "    })\n",
    "    val counter = Counter(3)  // 3-count Counter (outputs range [0...2])\n",
    "    when(io.count) {\n",
    "      counter.inc()\n",
    "    }\n",
    "    io.out := counter.value\n",
    "  }) { c => new PeekPokeTester(c) {\n",
    "    poke(c.io.count, 1)\n",
    "    println(s\"start: counter value=${peek(c.io.out)}\")\n",
    "  \n",
    "    step(1)\n",
    "    println(s\"step 1: counter value=${peek(c.io.out)}\")\n",
    "  \n",
    "    step(1)\n",
    "    println(s\"step 2: counter value=${peek(c.io.out)}\")\n",
    "  \n",
    "    poke(c.io.count, 0)\n",
    "    step(1)\n",
    "    println(s\"step without increment: counter value=${peek(c.io.out)}\")\n",
    "  \n",
    "    poke(c.io.count, 1)\n",
    "    step(1)\n",
    "    println(s\"step again: counter value=${peek(c.io.out)}\")\n",
    "} }"
   ]
  },
  {
   "cell_type": "markdown",
   "metadata": {},
   "source": [
    "---\n",
    "# You're done!\n",
    "\n",
    "[Return to the top.](#top)"
   ]
  }
 ],
 "metadata": {
  "anaconda-cloud": {},
  "kernelspec": {
   "display_name": "Scala",
   "language": "scala",
   "name": "scala"
  },
  "language_info": {
   "codemirror_mode": "text/x-scala",
   "file_extension": ".scala",
   "mimetype": "text/x-scala",
   "name": "scala",
   "nbconvert_exporter": "script",
   "version": "2.11.12"
  }
 },
 "nbformat": 4,
 "nbformat_minor": 1
}
