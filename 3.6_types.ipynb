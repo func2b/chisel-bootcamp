{
 "cells": [
  {
   "cell_type": "markdown",
   "metadata": {},
   "source": [
    "<a name=\"top\"></a><img src=\"images/chisel_1024.png\" alt=\"Chisel logo\" style=\"width:480px;\" />"
   ]
  },
  {
   "cell_type": "markdown",
   "metadata": {},
   "source": [
    "# Module 3.6: Generators: Types\n",
    "**Prev: [Object Oriented Programming](3.5_object_oriented_programming.ipynb)**<br>\n",
    "**Next: [Introduction to FIRRTL](4.1_firrtl_ast.ipynb)**\n",
    "\n",
    "## Motivation\n",
    "Scala is a strongly-typed programming language.\n",
    "This is a two-edged sword; on one hand, many programs that would compile and execute in Python (a dynamically-typed language) would fail at compile time in Scala.\n",
    "On the other hand, programs that compile in Scala will contain many fewer runtime errors than a similar Python program.\n",
    "\n",
    "In this section, our goal is to familiarize you with types as a first class citizen in Scala.\n",
    "While initially you may feel you have limited productivity, you will soon learn to understand compile-time error messages and how to architect your programs with the type system in mind to catch more errors for you. \n",
    "\n",
    "\n",
    "## Setup"
   ]
  },
  {
   "cell_type": "code",
   "execution_count": 1,
   "metadata": {},
   "outputs": [
    {
     "name": "stderr",
     "output_type": "stream",
     "text": [
      "Downloading https://repo1.maven.org/maven2/net/sourceforge/f2j/arpack_combined_all/0.1/arpack_combined_all-0.1-sources.jar\n",
      "Downloading https://repo1.maven.org/maven2/net/sourceforge/f2j/arpack_combined_all/0.1/arpack_combined_all-0.1-sources.jar.sha1\n",
      "https://repo1.maven.org/maven2/net/sourceforge/f2j/arpack_combined_all/0.1/ar… \n",
      "https://repo1.maven.org/maven2/net/sourceforge/f2j/arpack_combined_all/0.1/ar… \n",
      "\n",
      "Downloading https://repo1.maven.org/maven2/net/sourceforge/f2j/arpack_combined_all/0.1/arpack_combined_all-0.1-sources.jar.sha1\n",
      "Downloading https://repo1.maven.org/maven2/net/sourceforge/f2j/arpack_combined_all/0.1/arpack_combined_all-0.1-sources.jar\n"
     ]
    },
    {
     "name": "stdout",
     "output_type": "stream",
     "text": [
      "Compiling /home/pantao/Documents/chisel-bootcamp/Main.sc"
     ]
    },
    {
     "data": {
      "text/plain": [
       "\u001b[36mpath\u001b[39m: \u001b[32mString\u001b[39m = \u001b[32m\"/home/pantao/Documents/chisel-bootcamp/source/load-ivy.sc\"\u001b[39m"
      ]
     },
     "execution_count": 1,
     "metadata": {},
     "output_type": "execute_result"
    }
   ],
   "source": [
    "val path = System.getProperty(\"user.dir\") + \"/source/load-ivy.sc\"\n",
    "interp.load.module(ammonite.ops.Path(java.nio.file.FileSystems.getDefault().getPath(path)))"
   ]
  },
  {
   "cell_type": "code",
   "execution_count": 2,
   "metadata": {},
   "outputs": [
    {
     "data": {
      "text/plain": [
       "\u001b[32mimport \u001b[39m\u001b[36mchisel3._\n",
       "\u001b[39m\n",
       "\u001b[32mimport \u001b[39m\u001b[36mchisel3.util._\n",
       "\u001b[39m\n",
       "\u001b[32mimport \u001b[39m\u001b[36mchisel3.iotesters.{ChiselFlatSpec, Driver, PeekPokeTester}\u001b[39m"
      ]
     },
     "execution_count": 2,
     "metadata": {},
     "output_type": "execute_result"
    }
   ],
   "source": [
    "import chisel3._\n",
    "import chisel3.util._\n",
    "import chisel3.iotesters.{ChiselFlatSpec, Driver, PeekPokeTester}"
   ]
  },
  {
   "cell_type": "markdown",
   "metadata": {},
   "source": [
    "---\n",
    "# Static Types<a name=\"types-in-scala\"></a>\n",
    "\n",
    "## Types in Scala\n",
    "\n",
    "All objects in Scala have a type, which is usually the object's class.\n",
    "Let's see some:"
   ]
  },
  {
   "cell_type": "code",
   "execution_count": 3,
   "metadata": {},
   "outputs": [
    {
     "name": "stdout",
     "output_type": "stream",
     "text": [
      "int\n",
      "double\n",
      "class java.lang.String\n"
     ]
    }
   ],
   "source": [
    "println(10.getClass)\n",
    "println(10.0.getClass)\n",
    "println(\"ten\".getClass)"
   ]
  },
  {
   "cell_type": "markdown",
   "metadata": {},
   "source": [
    "When you declare your own class, it has an associated type."
   ]
  },
  {
   "cell_type": "code",
   "execution_count": 4,
   "metadata": {},
   "outputs": [
    {
     "name": "stdout",
     "output_type": "stream",
     "text": [
      "class ammonite.$sess.cmd3$Helper$MyClass\n"
     ]
    },
    {
     "data": {
      "text/plain": [
       "defined \u001b[32mclass\u001b[39m \u001b[36mMyClass\u001b[39m"
      ]
     },
     "execution_count": 4,
     "metadata": {},
     "output_type": "execute_result"
    }
   ],
   "source": [
    "class MyClass {\n",
    "    def myMethod = ???\n",
    "}\n",
    "println(new MyClass().getClass)"
   ]
  },
  {
   "cell_type": "markdown",
   "metadata": {},
   "source": [
    "While not required, it is HIGHLY recommended that you **define input and output types for all function declarations**.\n",
    "This will let the Scala compiler catch improper use of a function."
   ]
  },
  {
   "cell_type": "code",
   "execution_count": 5,
   "metadata": {},
   "outputs": [
    {
     "data": {
      "text/plain": [
       "defined \u001b[32mfunction\u001b[39m \u001b[36mdouble\u001b[39m"
      ]
     },
     "execution_count": 5,
     "metadata": {},
     "output_type": "execute_result"
    }
   ],
   "source": [
    "def double(s: String): String = s + s\n",
    "// Uncomment the code below to test it\n",
    "// double(\"hi\")      // Proper use of double\n",
    "// double(10)        // Bad input argument!\n",
    "// double(\"hi\") / 10 // Inproper use of double's output!"
   ]
  },
  {
   "cell_type": "markdown",
   "metadata": {},
   "source": [
    "Functions that don't return anything return type `Unit`."
   ]
  },
  {
   "cell_type": "code",
   "execution_count": 6,
   "metadata": {},
   "outputs": [
    {
     "data": {
      "text/plain": [
       "\u001b[36mcounter\u001b[39m: \u001b[32mInt\u001b[39m = \u001b[32m1\u001b[39m\n",
       "defined \u001b[32mfunction\u001b[39m \u001b[36mincrement\u001b[39m"
      ]
     },
     "execution_count": 6,
     "metadata": {},
     "output_type": "execute_result"
    }
   ],
   "source": [
    "var counter = 0\n",
    "def increment(): Unit = {\n",
    "    counter += 1\n",
    "}\n",
    "increment()"
   ]
  },
  {
   "cell_type": "markdown",
   "metadata": {},
   "source": [
    "## Scala vs. Chisel Types<a name=\"scala-vs-chisel-types\"></a>\n",
    "\n",
    "Recap: Module 2.2 discussed the difference between Chisel types and Scala types, for example the fact that\n",
    "```scala\n",
    "val a = Wire(UInt(4.W))\n",
    "a := 0.U\n",
    "```\n",
    "is legal because `0.U` is of type `UInt` (a Chisel type), whereas\n",
    "```scala\n",
    "val a = Wire(UInt(4.W))\n",
    "a := 0\n",
    "```\n",
    "is illegal because 0 is type `Int` (a Scala type).\n",
    "\n",
    "This is also true of `Bool`, a Chisel type which is distinct from `Boolean`.\n",
    "```scala\n",
    "val bool = Wire(Bool())\n",
    "val boolean: Boolean = false\n",
    "// legal\n",
    "when (bool) { ... }\n",
    "if (boolean) { ... }\n",
    "// illegal\n",
    "if (bool) { ... }\n",
    "when (boolean) { ... }\n",
    "```\n",
    "\n",
    "If you make a mistake and mix up `UInt` and `Int` or `Bool` and `Boolean`, the Scala compiler will generally catch it for you.\n",
    "This is because of Scala's static typing.\n",
    "At compile time, the compiler is able to distinguish between Chisel and Scala types and understand that `if ()` expects a `Boolean` and `when ()` expects a `Bool`.\n"
   ]
  },
  {
   "cell_type": "markdown",
   "metadata": {},
   "source": [
    "## Scala Type Coercion<a name=\"type-coercion\"></a>\n",
    "\n",
    "<!-- typeOf. Scala has a function called `typeOf[T]` which returns a type object for `T`. -->\n",
    "<!-- This doesn't actually seem useful to Chisel users... -->"
   ]
  },
  {
   "cell_type": "markdown",
   "metadata": {
    "collapsed": true
   },
   "source": [
    "### asInstanceOf\n",
    "\n",
    "`x.asInstanceOf[T]` casts the object `x` to the type `T`. It throws an exception if the given object cannot be cast to type `T`."
   ]
  },
  {
   "cell_type": "code",
   "execution_count": 7,
   "metadata": {},
   "outputs": [
    {
     "name": "stdout",
     "output_type": "stream",
     "text": [
      "As expected, we can't cast UInt to Int\n",
      "chisel3.core.UInt@0\n"
     ]
    },
    {
     "data": {
      "text/plain": [
       "\u001b[36mx\u001b[39m: \u001b[32mUInt\u001b[39m = chisel3.core.UInt@0"
      ]
     },
     "execution_count": 7,
     "metadata": {},
     "output_type": "execute_result"
    }
   ],
   "source": [
    "val x: UInt = 3.U\n",
    "try {\n",
    "  println(x.asInstanceOf[Int])\n",
    "} catch {\n",
    "  case e: java.lang.ClassCastException => println(\"As expected, we can't cast UInt to Int\")\n",
    "}\n",
    "\n",
    "// But we can cast UInt to Data since UInt inherits from Data.\n",
    "println(x.asInstanceOf[Data])"
   ]
  },
  {
   "cell_type": "markdown",
   "metadata": {},
   "source": [
    "\n",
    "### Type Casting in Chisel <span style=\"color:red;\">类型转换</span>\n",
    "\n",
    "The code below will give an error if you try to run it without removing the comment.\n",
    "What's the problem?\n",
    "It is trying to assign a `UInt` to an `SInt`, which is illegal.\n",
    "\n",
    "Chisel has a set of type casting functions.\n",
    "The most general is `asTypeOf()`, which is shown below.\n",
    "Some chisel objects also define `asUInt()` and `asSInt()` as well as some others.\n",
    "\n",
    "If you remove the `//` from the code block below, the example should work for you.\n"
   ]
  },
  {
   "cell_type": "code",
   "execution_count": 9,
   "metadata": {},
   "outputs": [
    {
     "name": "stdout",
     "output_type": "stream",
     "text": [
      "[\u001b[35minfo\u001b[0m] [0.000] Elaborating design...\n",
      "[\u001b[35minfo\u001b[0m] [0.030] Done elaborating.\n",
      "Total FIRRTL Compile Time: 275.6 ms\n",
      "Total FIRRTL Compile Time: 21.0 ms\n",
      "End of dependency graph\n",
      "Circuit state created\n",
      "[\u001b[35minfo\u001b[0m] [0.002] SEED 1544407701045\n",
      "test cmd8HelperTypeConvertDemo Success: 2 tests passed in 5 cycles taking 0.051701 seconds\n",
      "[\u001b[35minfo\u001b[0m] [0.022] RAN 0 CYCLES PASSED\n"
     ]
    },
    {
     "data": {
      "text/plain": [
       "defined \u001b[32mclass\u001b[39m \u001b[36mTypeConvertDemo\u001b[39m\n",
       "\u001b[36mres8_1\u001b[39m: \u001b[32mBoolean\u001b[39m = true"
      ]
     },
     "execution_count": 9,
     "metadata": {},
     "output_type": "execute_result"
    }
   ],
   "source": [
    "class TypeConvertDemo extends Module {\n",
    "    val io = IO(new Bundle {\n",
    "        val in  = Input(UInt(4.W))\n",
    "        val out = Output(SInt(4.W))\n",
    "    })\n",
    "    io.out := io.in.asTypeOf(io.out)\n",
    "}\n",
    "\n",
    "Driver(() => new TypeConvertDemo) { c =>\n",
    "  new PeekPokeTester(c) {\n",
    "      poke(c.io.in, 3)\n",
    "      expect(c.io.out, 3)\n",
    "      poke(c.io.in, 15)\n",
    "      expect(c.io.out, -1)\n",
    "  }}"
   ]
  },
  {
   "cell_type": "markdown",
   "metadata": {},
   "source": [
    "---\n",
    "# Type Matching<a name=\"type-matching\"></a>\n",
    "\n",
    "## Match Operator\n",
    "Recall that in 3.1 the match operator was introduced.\n",
    "Type matching is especially useful when trying to write type-generic generators.\n",
    "The following example shows an example of a \"generator\" that can add two literals of type `UInt` or `SInt`.\n",
    "Later sections will talk more about writing type-generic generators.\n",
    "\n",
    "**Note: there are much better and safer ways to write type-generic generators in Scala**."
   ]
  },
  {
   "cell_type": "code",
   "execution_count": 10,
   "metadata": {},
   "outputs": [
    {
     "name": "stdout",
     "output_type": "stream",
     "text": [
      "[\u001b[35minfo\u001b[0m] [0.000] Elaborating design...\n",
      "[\u001b[35minfo\u001b[0m] [0.229] Done elaborating.\n",
      "Total FIRRTL Compile Time: 161.5 ms\n",
      "module cmd9HelperConstantSum( // @[:@3.2]\n",
      "  input        clock, // @[:@4.4]\n",
      "  input        reset, // @[:@5.4]\n",
      "  output [1:0] io_out // @[:@6.4]\n",
      ");\n",
      "  wire [3:0] _T_7; // @[cmd9.sc 6:48:@8.4]\n",
      "  wire [2:0] _T_8; // @[cmd9.sc 6:48:@9.4]\n",
      "  assign _T_7 = 3'h3 + 3'h4; // @[cmd9.sc 6:48:@8.4]\n",
      "  assign _T_8 = _T_7[2:0]; // @[cmd9.sc 6:48:@9.4]\n",
      "  assign io_out = _T_8[1:0];\n",
      "endmodule\n",
      "\n",
      "[\u001b[35minfo\u001b[0m] [0.000] Elaborating design...\n",
      "[\u001b[35minfo\u001b[0m] [0.011] Done elaborating.\n",
      "Total FIRRTL Compile Time: 42.4 ms\n",
      "module cmd9HelperConstantSum( // @[:@3.2]\n",
      "  input        clock, // @[:@4.4]\n",
      "  input        reset, // @[:@5.4]\n",
      "  output [2:0] io_out // @[:@6.4]\n",
      ");\n",
      "  wire [4:0] _T_7; // @[cmd9.sc 7:48:@8.4]\n",
      "  wire [3:0] _T_8; // @[cmd9.sc 7:48:@9.4]\n",
      "  wire [3:0] _T_9; // @[cmd9.sc 7:48:@10.4]\n",
      "  wire [2:0] _GEN_0;\n",
      "  assign _T_7 = $signed(-4'sh3) + $signed(4'sh4); // @[cmd9.sc 7:48:@8.4]\n",
      "  assign _T_8 = _T_7[3:0]; // @[cmd9.sc 7:48:@9.4]\n",
      "  assign _T_9 = $signed(_T_8); // @[cmd9.sc 7:48:@10.4]\n",
      "  assign _GEN_0 = _T_9[2:0];\n",
      "  assign io_out = $signed(_GEN_0);\n",
      "endmodule\n",
      "\n",
      "[\u001b[35minfo\u001b[0m] [0.000] Elaborating design...\n"
     ]
    },
    {
     "ename": "",
     "evalue": "",
     "output_type": "error",
     "traceback": [
      "\u001b[31mjava.lang.Exception: I give up!\u001b[39m\n  ammonite.$sess.cmd9$Helper$ConstantSum.<init>(\u001b[32mcmd9.sc\u001b[39m:\u001b[32m8\u001b[39m)\n  ammonite.$sess.cmd9$Helper$$anonfun$3.apply(\u001b[32mcmd9.sc\u001b[39m:\u001b[32m13\u001b[39m)\n  ammonite.$sess.cmd9$Helper$$anonfun$3.apply(\u001b[32mcmd9.sc\u001b[39m:\u001b[32m13\u001b[39m)\n  chisel3.core.Module$.do_apply(\u001b[32mModule.scala\u001b[39m:\u001b[32m49\u001b[39m)\n  chisel3.Driver$$anonfun$elaborate$1.apply(\u001b[32mDriver.scala\u001b[39m:\u001b[32m93\u001b[39m)\n  chisel3.Driver$$anonfun$elaborate$1.apply(\u001b[32mDriver.scala\u001b[39m:\u001b[32m93\u001b[39m)\n  chisel3.internal.Builder$$anonfun$build$1.apply(\u001b[32mBuilder.scala\u001b[39m:\u001b[32m297\u001b[39m)\n  chisel3.internal.Builder$$anonfun$build$1.apply(\u001b[32mBuilder.scala\u001b[39m:\u001b[32m295\u001b[39m)\n  scala.util.DynamicVariable.withValue(\u001b[32mDynamicVariable.scala\u001b[39m:\u001b[32m58\u001b[39m)\n  chisel3.internal.Builder$.build(\u001b[32mBuilder.scala\u001b[39m:\u001b[32m295\u001b[39m)\n  chisel3.Driver$.elaborate(\u001b[32mDriver.scala\u001b[39m:\u001b[32m93\u001b[39m)\n  chisel3.Driver$.execute(\u001b[32mDriver.scala\u001b[39m:\u001b[32m140\u001b[39m)\n  chisel3.Driver$.execute(\u001b[32mDriver.scala\u001b[39m:\u001b[32m202\u001b[39m)\n  ammonite.$file.dummy.source.load$minusivy$Helper.getVerilog(\u001b[32mMain.sc\u001b[39m:\u001b[32m9\u001b[39m)\n  ammonite.$sess.cmd9$Helper.<init>(\u001b[32mcmd9.sc\u001b[39m:\u001b[32m13\u001b[39m)\n  ammonite.$sess.cmd9$.<init>(\u001b[32mcmd9.sc\u001b[39m:\u001b[32m7\u001b[39m)\n  ammonite.$sess.cmd9$.<clinit>(\u001b[32mcmd9.sc\u001b[39m:\u001b[32m-1\u001b[39m)"
     ]
    }
   ],
   "source": [
    "class ConstantSum(in1: Data, in2: Data) extends Module {\n",
    "    val io = IO(new Bundle {\n",
    "        val out = Output(in1.cloneType)\n",
    "    })\n",
    "    (in1, in2) match {\n",
    "        case (x: UInt, y: UInt) => io.out := x + y\n",
    "        case (x: SInt, y: SInt) => io.out := x + y\n",
    "        case _ => throw new Exception(\"I give up!\")\n",
    "    }\n",
    "}\n",
    "println(getVerilog(dut = new ConstantSum(3.U, 4.U)))\n",
    "println(getVerilog(dut = new ConstantSum(-3.S, 4.S)))\n",
    "println(getVerilog(dut = new ConstantSum(3.U, 4.S)))\n"
   ]
  },
  {
   "cell_type": "markdown",
   "metadata": {},
   "source": [
    "It is good to remember that Chisel types generally should not be value matched.\n",
    "Scala's match executes during circuit elaboration, but what you probably want is an post-elaboration comparison.\n",
    "The following gives a syntax error:"
   ]
  },
  {
   "cell_type": "code",
   "execution_count": 10,
   "metadata": {},
   "outputs": [
    {
     "name": "stderr",
     "output_type": "stream",
     "text": [
      "SyntaxError: found \".U) => true.B\\n      \", expected \",\" | \")\" at index 226\n",
      "        case (0.U) => true.B\n",
      "               ^"
     ]
    },
    {
     "ename": "",
     "evalue": "",
     "output_type": "error",
     "traceback": [
      "SyntaxError: found \".U) => true.B\\n      \", expected \",\" | \")\" at index 226\n        case (0.U) => true.B\n               ^"
     ]
    }
   ],
   "source": [
    "class InputIsZero extends Module {\n",
    "    val io = IO(new Bundle {\n",
    "        val in  = Input(UInt(16.W))\n",
    "        val out = Output(Bool())\n",
    "    })\n",
    "    io.out := (io.in match {\n",
    "        // note that case 0.U is an error\n",
    "        case (0.U) => true.B\n",
    "        case _   => false.B\n",
    "    })\n",
    "}\n",
    "println(getVerilog(new InputIsZero))"
   ]
  },
  {
   "cell_type": "markdown",
   "metadata": {},
   "source": [
    "## Unapply\n",
    "What's actually going on when you do a match?\n",
    "Why can you do fancy value matching with case classes like this:\n",
    "```scala\n",
    "case class Something(a: String, b: Int)\n",
    "val a = Something(\"A\", 3)\n",
    "a match {\n",
    "    case Something(\"A\", value) => value\n",
    "    case Something(str, 3)     => 0\n",
    "}\n",
    "```\n",
    "\n",
    "As it turns out, the companion object that is created for every case class also contains an **unapply** method, in addition to an **apply** method.\n",
    "What is an **unapply** method?\n",
    "\n",
    "Scala unapply methods are another form of syntactic sugar that give match statements the ability to both match on types and **extract values** from those types during the matching.\n",
    "\n",
    "Let's look at the following example.\n",
    "For some reason, let's say that if the generator is being pipelined, the delay is `3*totalWidth`, otherwise the delay is `2*someOtherWidth`.\n",
    "Because case classes have **unapply** defined, we can match values inside the case class, like so:"
   ]
  },
  {
   "cell_type": "code",
   "execution_count": 10,
   "metadata": {},
   "outputs": [
    {
     "name": "stderr",
     "output_type": "stream",
     "text": [
      "cmd10.sc:1: not found: type SomeGeneratorParameters\n",
      "def delay(p: SomeGeneratorParameters): Int = p match {\n",
      "             ^cmd10.sc:6: not found: value SomeGeneratorParameters\n",
      "val res10_1 = println(delay(SomeGeneratorParameters(10, 10)))\n",
      "                            ^cmd10.sc:7: not found: value SomeGeneratorParameters\n",
      "val res10_2 = println(delay(SomeGeneratorParameters(10, 10, true)))\n",
      "                            ^cmd10.sc:2: not found: value SomeGeneratorParameters\n",
      "    case sg @ SomeGeneratorParameters(_, _, true) => sg.totalWidth * 3\n",
      "              ^cmd10.sc:3: not found: value SomeGeneratorParameters\n",
      "    case SomeGeneratorParameters(_, sw, false) => sw * 2\n",
      "         ^Compilation Failed"
     ]
    },
    {
     "ename": "",
     "evalue": "",
     "output_type": "error",
     "traceback": [
      "Compilation Failed"
     ]
    }
   ],
   "source": [
    "def delay(p: SomeGeneratorParameters): Int = p match {\n",
    "    case sg @ SomeGeneratorParameters(_, _, true) => sg.totalWidth * 3\n",
    "    case SomeGeneratorParameters(_, sw, false) => sw * 2\n",
    "}\n",
    "\n",
    "println(delay(SomeGeneratorParameters(10, 10)))\n",
    "println(delay(SomeGeneratorParameters(10, 10, true)))"
   ]
  },
  {
   "cell_type": "markdown",
   "metadata": {},
   "source": [
    "If you look at the `delay` function, you should note that addition to matching on the type of each character, we are also:\n",
    "- Directly reference internal values of the parameters\n",
    "- Sometimes, are matching directly on the internal values of the parameters\n",
    "\n",
    "These are possible due to the compiler implementing an `unapply` method. Note that unapplying the case is just syntactic sugar; e.g. the following two cases examples are equivalent:\n",
    "```scala\n",
    "case p: SomeGeneratorParameters => p.sw * 2\n",
    "case SomeGeneratorParameters(_, sw, _) => sw * 2\n",
    "```\n",
    "\n",
    "In addition, there are more syntaxes and styles of matching. The following two cases are also equivalent, but the second allows you to match on internal values while still reference the parent value:\n",
    "```scala\n",
    "case SomeGeneratorParameters(_, sw, true) => sw\n",
    "case sg@SomeGeneratorParameters(_, sw, true) => sw\n",
    "```\n",
    "\n",
    "Finally, you can directly embed condition checking into match statements, as demonstrated by the third of these equivalent examples:\n",
    "```scala\n",
    "case SomeGeneratorParameters(_, sw, false) => sw * 2\n",
    "case s@SomeGeneratorParameters(_, sw, false) => s.sw * 2\n",
    "case s: SomeGeneratorParameters if s.pipelineMe => s.sw * 2\n",
    "```\n",
    "\n",
    "All these syntaxes are enabled by a Scala unapply method contained in a class's companion object. If you want to unapply a class but do not want to make it a case class, you can manually implement the unapply method. The following example demonstrates how one can manually implement a class's apply and unapply methods:"
   ]
  },
  {
   "cell_type": "code",
   "execution_count": 11,
   "metadata": {},
   "outputs": [
    {
     "name": "stdout",
     "output_type": "stream",
     "text": [
      "Pinta and Nina are small boats!\n"
     ]
    },
    {
     "data": {
      "text/plain": [
       "defined \u001b[32mclass\u001b[39m \u001b[36mBoat\u001b[39m\n",
       "defined \u001b[32mobject\u001b[39m \u001b[36mBoat\u001b[39m\n",
       "defined \u001b[32mfunction\u001b[39m \u001b[36mgetSmallBoats\u001b[39m\n",
       "\u001b[36mboats\u001b[39m: \u001b[32mSeq\u001b[39m[\u001b[32mBoat\u001b[39m] = \u001b[33mList\u001b[39m(\n",
       "  ammonite.$sess.cmd10$Helper$Boat@25b2f787,\n",
       "  ammonite.$sess.cmd10$Helper$Boat@1135764,\n",
       "  ammonite.$sess.cmd10$Helper$Boat@2883af67\n",
       ")"
      ]
     },
     "execution_count": 11,
     "metadata": {},
     "output_type": "execute_result"
    }
   ],
   "source": [
    "class Boat(val name: String, val length: Int)\n",
    "object Boat {\n",
    "    def unapply(b: Boat): Option[(String, Int)] = Some((b.name, b.length))\n",
    "    def apply(name: String, length: Int): Boat = new Boat(name, length)\n",
    "}\n",
    "\n",
    "def getSmallBoats(seq: Seq[Boat]): Seq[Boat] = seq.filter { b =>\n",
    "    b match {\n",
    "        case Boat(_, length) if length < 60 => true\n",
    "        case Boat(_, _) => false\n",
    "    }\n",
    "}\n",
    "\n",
    "val boats = Seq(Boat(\"Santa Maria\", 62), Boat(\"Pinta\", 56), Boat(\"Nina\", 50))\n",
    "println(getSmallBoats(boats).map(_.name).mkString(\" and \") + \" are small boats!\")"
   ]
  },
  {
   "cell_type": "markdown",
   "metadata": {},
   "source": [
    "## Partial Functions\n",
    "This is a brief overview; [this guide](https://twitter.github.io/scala_school/pattern-matching-and-functional-composition.html#PartialFunction) has a more detailed overview.\n",
    "\n",
    "Partial functions are functions that are only defined on a subset of their inputs.\n",
    "Like an option, a partial function may not have a value for a particular input.\n",
    "This can be tested with `isDefinedAt(...)`.\n",
    "\n",
    "Partial functions can be chained together with `orElse`.\n",
    "\n",
    "Note that calling a `PartialFunction` with a undefined input will result in a runtime error. This can happen, for example, if the input to the `PartialFunction` is user-defined. To be more type-safe, we recommend writing functions that return an `Option` instead."
   ]
  },
  {
   "cell_type": "code",
   "execution_count": 12,
   "metadata": {},
   "outputs": [
    {
     "name": "stdout",
     "output_type": "stream",
     "text": [
      "partialFunc1.isDefinedAt(2) = true\n",
      "partialFunc1.isDefinedAt(5) = true\n",
      "partialFunc1.isDefinedAt(1) = false\n",
      "partialFunc1.isDefinedAt(0) = false\n",
      "partialFunc1(2) = Something\n",
      "partialFunc1(0) = can't apply PartialFunctions where they are not defined\n",
      "partialFunc2.isDefinedAt(1) = true\n",
      "partialFunc2.isDefinedAt(0) = false\n",
      "partialFunc2(1) = Something else\n",
      "partialFunc2(0) = can't apply PartialFunctions where they are not defined\n",
      "partialFunc3.isDefinedAt(0) = false\n",
      "partialFunc3.isDefinedAt(1) = true\n",
      "partialFunc3.isDefinedAt(2) = true\n",
      "partialFunc3.isDefinedAt(3) = false\n",
      "partialFunc3(1) = Something else\n",
      "partialFunc3(2) = Something\n"
     ]
    },
    {
     "data": {
      "text/plain": [
       "defined \u001b[32mfunction\u001b[39m \u001b[36mprintAndAssert\u001b[39m\n",
       "\u001b[36mpartialFunc1\u001b[39m: \u001b[32mPartialFunction\u001b[39m[\u001b[32mInt\u001b[39m, \u001b[32mString\u001b[39m] = <function1>\n",
       "\u001b[36mpartialFunc2\u001b[39m: \u001b[32mPartialFunction\u001b[39m[\u001b[32mInt\u001b[39m, \u001b[32mString\u001b[39m] = <function1>\n",
       "\u001b[36mpartialFunc3\u001b[39m: \u001b[32mPartialFunction\u001b[39m[\u001b[32mInt\u001b[39m, \u001b[32mString\u001b[39m] = <function1>"
      ]
     },
     "execution_count": 12,
     "metadata": {},
     "output_type": "execute_result"
    }
   ],
   "source": [
    "// Helper function to make this cell a bit less tedious.\n",
    "def printAndAssert(cmd: String, result: Boolean, expected: Boolean): Unit = {\n",
    "  println(s\"$cmd = $result\")\n",
    "  assert(result == expected)\n",
    "}\n",
    "\n",
    "// Defined for -1, 2, 5, etc.\n",
    "val partialFunc1: PartialFunction[Int, String] = {\n",
    "  case i if (i + 1) % 3 == 0 => \"Something\"\n",
    "}\n",
    "printAndAssert(\"partialFunc1.isDefinedAt(2)\", partialFunc1.isDefinedAt(2), true)\n",
    "printAndAssert(\"partialFunc1.isDefinedAt(5)\", partialFunc1.isDefinedAt(5), true)\n",
    "printAndAssert(\"partialFunc1.isDefinedAt(1)\", partialFunc1.isDefinedAt(1), false)\n",
    "printAndAssert(\"partialFunc1.isDefinedAt(0)\", partialFunc1.isDefinedAt(0), false)\n",
    "println(s\"partialFunc1(2) = ${partialFunc1(2)}\")\n",
    "try {\n",
    "  println(partialFunc1(0))\n",
    "} catch {\n",
    "  case e: scala.MatchError => println(\"partialFunc1(0) = can't apply PartialFunctions where they are not defined\")\n",
    "}\n",
    "\n",
    "// Defined for 1, 4, 7, etc.\n",
    "val partialFunc2: PartialFunction[Int, String] = {\n",
    "  case i if (i + 2) % 3 == 0 => \"Something else\"\n",
    "}\n",
    "printAndAssert(\"partialFunc2.isDefinedAt(1)\", partialFunc2.isDefinedAt(1), true)\n",
    "printAndAssert(\"partialFunc2.isDefinedAt(0)\", partialFunc2.isDefinedAt(0), false)\n",
    "println(s\"partialFunc2(1) = ${partialFunc2(1)}\")\n",
    "try {\n",
    "  println(partialFunc2(0))\n",
    "} catch {\n",
    "  case e: scala.MatchError => println(\"partialFunc2(0) = can't apply PartialFunctions where they are not defined\")\n",
    "}\n",
    "\n",
    "val partialFunc3 = partialFunc1 orElse partialFunc2\n",
    "printAndAssert(\"partialFunc3.isDefinedAt(0)\", partialFunc3.isDefinedAt(0), false)\n",
    "printAndAssert(\"partialFunc3.isDefinedAt(1)\", partialFunc3.isDefinedAt(1), true)\n",
    "printAndAssert(\"partialFunc3.isDefinedAt(2)\", partialFunc3.isDefinedAt(2), true)\n",
    "printAndAssert(\"partialFunc3.isDefinedAt(3)\", partialFunc3.isDefinedAt(3), false)\n",
    "println(s\"partialFunc3(1) = ${partialFunc3(1)}\")\n",
    "println(s\"partialFunc3(2) = ${partialFunc3(2)}\")"
   ]
  },
  {
   "cell_type": "markdown",
   "metadata": {},
   "source": [
    "---\n",
    "# Type Safe Connections<a name=\"type-safe-connections\"></a>\n",
    "\n",
    "Chisel can check the type for many connections, including:\n",
    "* Bool/UInt to Clock\n",
    "\n",
    "For other types, Chisel will let you connect them, but may truncate/pad bits as appropriate.\n",
    "* Bool/UInt to Bool/UInt\n",
    "* Bundle to Bundle"
   ]
  },
  {
   "cell_type": "code",
   "execution_count": 13,
   "metadata": {},
   "outputs": [
    {
     "name": "stdout",
     "output_type": "stream",
     "text": [
      "[\u001b[35minfo\u001b[0m] [0.001] Elaborating design...\n",
      "[\u001b[35minfo\u001b[0m] [0.025] Done elaborating.\n",
      "Total FIRRTL Compile Time: 19.4 ms\n",
      "module cmd12HelperBadTypeModule( // @[:@3.2]\n",
      "  input         clock, // @[:@4.4]\n",
      "  input         reset, // @[:@5.4]\n",
      "  input         io_c, // @[:@6.4]\n",
      "  input  [1:0]  io_in, // @[:@6.4]\n",
      "  output        io_out, // @[:@6.4]\n",
      "  input  [7:0]  io_bundleIn_a, // @[:@6.4]\n",
      "  input  [15:0] io_bundleIn_b, // @[:@6.4]\n",
      "  output [7:0]  io_bundleOut_a // @[:@6.4]\n",
      ");\n",
      "  assign io_out = io_in[0];\n",
      "  assign io_bundleOut_a = io_bundleIn_a;\n",
      "endmodule\n",
      "\n"
     ]
    },
    {
     "data": {
      "text/plain": [
       "defined \u001b[32mclass\u001b[39m \u001b[36mBundle1\u001b[39m\n",
       "defined \u001b[32mclass\u001b[39m \u001b[36mBundle2\u001b[39m\n",
       "defined \u001b[32mclass\u001b[39m \u001b[36mBadTypeModule\u001b[39m"
      ]
     },
     "execution_count": 13,
     "metadata": {},
     "output_type": "execute_result"
    }
   ],
   "source": [
    "class Bundle1 extends Bundle {\n",
    "  val a = UInt(8.W)\n",
    "  override def cloneType = (new Bundle1).asInstanceOf[this.type]\n",
    "}\n",
    "\n",
    "class Bundle2 extends Bundle1 {\n",
    "  val b = UInt(16.W)\n",
    "  override def cloneType = (new Bundle2).asInstanceOf[this.type]\n",
    "}\n",
    "\n",
    "class BadTypeModule extends Module {\n",
    "  val io = IO(new Bundle {\n",
    "    val c  = Input(Clock())\n",
    "    val in = Input(UInt(2.W))\n",
    "    val out = Output(Bool())\n",
    "\n",
    "    val bundleIn = Input(new Bundle2)\n",
    "    val bundleOut = Output(new Bundle1)\n",
    "  })\n",
    "  \n",
    "  //io.out := io.c // won't work due to different types\n",
    "\n",
    "  // Okay, but Chisel will truncate the input width to 1 to match the output.\n",
    "  io.out := io.in\n",
    "\n",
    "  // Compiles; Chisel will connect the common subelements of the two Bundles (in this case, 'a').\n",
    "  io.bundleOut := io.bundleIn\n",
    "}\n",
    "\n",
    "println(getVerilog(new BadTypeModule))"
   ]
  },
  {
   "cell_type": "markdown",
   "metadata": {},
   "source": [
    "---\n",
    "# Type Generics<a name=\"type-generics\"></a>\n",
    "Scala's generic types (also known as polymorphism) is very complicated, especially when coupling it with inheritance.\n",
    "\n",
    "This section will just get your toes wet; to understand more, check out [this tutorial](https://twitter.github.io/scala_school/type-basics.html).\n",
    "\n",
    "Classes can be polymorphic in their types. One good example are sequences, which require knowing what the type of the elements it contains."
   ]
  },
  {
   "cell_type": "code",
   "execution_count": 14,
   "metadata": {},
   "outputs": [
    {
     "data": {
      "text/plain": [
       "\u001b[36mseq1\u001b[39m: \u001b[32mSeq\u001b[39m[\u001b[32mString\u001b[39m] = \u001b[33mList\u001b[39m(\u001b[32m\"1\"\u001b[39m, \u001b[32m\"2\"\u001b[39m, \u001b[32m\"3\"\u001b[39m)\n",
       "\u001b[36mseq2\u001b[39m: \u001b[32mSeq\u001b[39m[\u001b[32mInt\u001b[39m] = \u001b[33mList\u001b[39m(\u001b[32m1\u001b[39m, \u001b[32m2\u001b[39m, \u001b[32m3\u001b[39m)\n",
       "\u001b[36mseq3\u001b[39m: \u001b[32mSeq\u001b[39m[\u001b[32mAny\u001b[39m] = \u001b[33mList\u001b[39m(\u001b[32m1\u001b[39m, \u001b[32m\"2\"\u001b[39m, true)"
      ]
     },
     "execution_count": 14,
     "metadata": {},
     "output_type": "execute_result"
    }
   ],
   "source": [
    "val seq1 = Seq(\"1\", \"2\", \"3\") // Type is Seq[String]\n",
    "val seq2 = Seq(1, 2, 3)       // Type is Seq[Int]\n",
    "val seq3 = Seq(1, \"2\", true)  // Type is Seq[Any]"
   ]
  },
  {
   "cell_type": "markdown",
   "metadata": {},
   "source": [
    "Sometimes, the Scala compiler needs help determining a polymorphic type, which requires the user to explicitly put the type:"
   ]
  },
  {
   "cell_type": "code",
   "execution_count": 15,
   "metadata": {},
   "outputs": [
    {
     "data": {
      "text/plain": [
       "\u001b[36mdefault\u001b[39m: \u001b[32mSeq\u001b[39m[\u001b[32mString\u001b[39m] = \u001b[33mList\u001b[39m()\n",
       "\u001b[36mres14_1\u001b[39m: \u001b[32mSeq\u001b[39m[\u001b[32mString\u001b[39m] = \u001b[33mList\u001b[39m(\u001b[32m\"2\"\u001b[39m)"
      ]
     },
     "execution_count": 15,
     "metadata": {},
     "output_type": "execute_result"
    }
   ],
   "source": [
    "//val default = Seq() // Error!\n",
    "val default = Seq[String]() // User must tell compiler that default is of type Seq[String]\n",
    "Seq(1, \"2\", true).foldLeft(default){ (strings, next) =>\n",
    "    next match {\n",
    "        case s: String => strings ++ Seq(s)\n",
    "        case _ => strings\n",
    "    }\n",
    "}"
   ]
  },
  {
   "cell_type": "markdown",
   "metadata": {},
   "source": [
    "Functions can also be polymorphic in their input or output types. The following example defines a function that times how long it takes to run a block of code. It is parameterized based on the return type of the block of code. *Note that the `=> T` syntax encodes an anonymous function that does not have an argument list, e.g. `{ ... }` versus `{ x => ... }`.*"
   ]
  },
  {
   "cell_type": "code",
   "execution_count": 16,
   "metadata": {},
   "outputs": [
    {
     "name": "stdout",
     "output_type": "stream",
     "text": [
      "Block took 43.775991 milliseconds!\n",
      "Add 1 through a million is 1784293664\n",
      "Block took 182.628573 milliseconds!\n",
      "The largest number under a million that has beef: ebeef\n"
     ]
    },
    {
     "data": {
      "text/plain": [
       "defined \u001b[32mfunction\u001b[39m \u001b[36mtime\u001b[39m\n",
       "\u001b[36mint\u001b[39m: \u001b[32mInt\u001b[39m = \u001b[32m1784293664\u001b[39m\n",
       "\u001b[36mstring\u001b[39m: \u001b[32mString\u001b[39m = \u001b[32m\"ebeef\"\u001b[39m"
      ]
     },
     "execution_count": 16,
     "metadata": {},
     "output_type": "execute_result"
    }
   ],
   "source": [
    "def time[T](block: => T): T = {\n",
    "    val t0 = System.nanoTime()\n",
    "    val result = block\n",
    "    val t1 = System.nanoTime()\n",
    "    val timeMillis = (t1 - t0) / 1000000.0\n",
    "    println(s\"Block took $timeMillis milliseconds!\")\n",
    "    result\n",
    "}\n",
    "\n",
    "// Adds 1 through a million\n",
    "val int = time { (1 to 1000000).reduce(_ + _) }\n",
    "println(s\"Add 1 through a million is $int\")\n",
    "\n",
    "// Finds the largest number under a million that, in hex, contains \"beef\"\n",
    "val string = time {\n",
    "    (1 to 1000000).map(_.toHexString).filter(_.contains(\"beef\")).last\n",
    "}\n",
    "println(s\"The largest number under a million that has beef: $string\")"
   ]
  },
  {
   "cell_type": "markdown",
   "metadata": {},
   "source": [
    "## Chisel Type Hierarchy\n",
    "To write type generic code with Chisel, it is helpful to know a bit about the type hierarchy of Chisel.\n",
    "\n",
    "`chisel3.Data` is the base class for Chisel hardware types.\n",
    "`UInt`, `SInt`, `Vec`, `Bundle`, etc. are all instances of `Data`.\n",
    "`Data` can be used in IOs and support `:=`, wires, regs, etc.\n",
    "\n",
    "Registers are a good example of polymorphic code in Chisel.\n",
    "Look at the implementation of `RegEnable` (a register with a `Bool` enable signal) [here](https://github.com/freechipsproject/chisel3/blob/v3.0.0/src/main/scala/chisel3/util/Reg.scala#L10).\n",
    "The apply function is templated for `[T <: Data]`, which means `RegEnable` will work for all Chisel hardware types.\n",
    "\n",
    "Some operations are only defined on subtypes of `Bits`, for example `+`.\n",
    "This is why you can add `UInt`s or `SInt`s but not `Bundle`s or `Vec`s."
   ]
  },
  {
   "cell_type": "markdown",
   "metadata": {},
   "source": [
    "<span style=\"color:blue\">**Example: Type Generic ShiftRegister**<a name=\"type-generic-shift-register\"></a></span><br>\n",
    "In Scala, objects and functions aren't the only things we can treat as parameters.\n",
    "We can also treat types as parameters.\n",
    "\n",
    "We usually need to provide a type constraint.\n",
    "In this case, we want to be able to put objects in a bundle, connect (:=) them, and create registers with them (RegNext).\n",
    "These operations cannot be done on arbitrary objects; for example wire := 3 is illegal because 3 is a Scala Int, not a Chisel UInt.\n",
    "If we use a type constraint to say that type T is a subclass of Data, then we can use := on any objects of type T because := is defined for all Data.\n",
    "\n",
    "Here is an implementations of a shift register that take types as a parameter.\n",
    "*gen* is an argument of type T that tells what width to use, for example new ShiftRegister(UInt(4.W)) is a shift register for 4-bit UInts.\n",
    "*gen* also allows the Scala compiler to infer the type T- you can write new ShiftRegister[UInt](UInt(4.W)) if you want to to be more specific, but the Scala compiler is smart enough to figure it out if you leave out the [UInt]."
   ]
  },
  {
   "cell_type": "code",
   "execution_count": 18,
   "metadata": {},
   "outputs": [
    {
     "name": "stdout",
     "output_type": "stream",
     "text": [
      "[\u001b[35minfo\u001b[0m] [0.000] Elaborating design...\n",
      "[\u001b[34mdeprecated\u001b[0m] class ammonite.$sess.cmd17$Helper$ShiftRegisterIO (1 calls): Unable to automatically infer cloneType on class ammonite.$sess.cmd17$Helper$ShiftRegisterIO: constructor has parameters (gen, n) that are not both immutable and accessible. Either make all parameters immutable and accessible (vals) so cloneType can be inferred, or define a custom cloneType method.\n",
      "[\u001b[33mwarn\u001b[0m] \u001b[33mThere were 1 deprecated function(s) used. These may stop compiling in a future release, you are encouraged to fix these issues.\u001b[0m\n",
      "[\u001b[33mwarn\u001b[0m] Line numbers for deprecations reported by Chisel may be inaccurate, enable scalac compiler deprecation warnings by either:\n",
      "[\u001b[33mwarn\u001b[0m]   In the sbt interactive console, enter:\n",
      "[\u001b[33mwarn\u001b[0m]     set scalacOptions in ThisBuild ++= Seq(\"-unchecked\", \"-deprecation\")\n",
      "[\u001b[33mwarn\u001b[0m]   or, in your build.sbt, add the line:\n",
      "[\u001b[33mwarn\u001b[0m]     scalacOptions := Seq(\"-unchecked\", \"-deprecation\")\n",
      "[\u001b[35minfo\u001b[0m] [0.044] Done elaborating.\n",
      "Total FIRRTL Compile Time: 90.8 ms\n",
      "Total FIRRTL Compile Time: 20.2 ms\n",
      "End of dependency graph\n",
      "Circuit state created\n",
      "[\u001b[35minfo\u001b[0m] [0.000] SEED 1544409501439\n",
      "[\u001b[35minfo\u001b[0m] [0.001] Testing ShiftRegister of type chisel3.core.UInt@a and depth 6\n",
      "[\u001b[35minfo\u001b[0m] [0.005] 0: Vector(0, 10, 10, 10, 10, 10)\n",
      "[\u001b[35minfo\u001b[0m] [0.006] 1: Vector(1, 0, 10, 10, 10, 10)\n",
      "[\u001b[35minfo\u001b[0m] [0.008] 2: Vector(2, 1, 0, 10, 10, 10)\n",
      "[\u001b[35minfo\u001b[0m] [0.009] 3: Vector(3, 2, 1, 0, 10, 10)\n",
      "[\u001b[35minfo\u001b[0m] [0.012] 4: Vector(4, 3, 2, 1, 0, 10)\n",
      "[\u001b[35minfo\u001b[0m] [0.017] 5: Vector(5, 4, 3, 2, 1, 0)\n",
      "[\u001b[35minfo\u001b[0m] [0.018] 6: Vector(6, 5, 4, 3, 2, 1)\n",
      "[\u001b[35minfo\u001b[0m] [0.023] 7: Vector(7, 6, 5, 4, 3, 2)\n",
      "[\u001b[35minfo\u001b[0m] [0.024] 8: Vector(8, 7, 6, 5, 4, 3)\n",
      "[\u001b[35minfo\u001b[0m] [0.025] 9: Vector(9, 8, 7, 6, 5, 4)\n",
      "test cmd17HelperShiftRegister Success: 0 tests passed in 15 cycles taking 0.030426 seconds\n",
      "[\u001b[35minfo\u001b[0m] [0.027] RAN 10 CYCLES PASSED\n",
      "[\u001b[35minfo\u001b[0m] [0.000] Elaborating design...\n",
      "[\u001b[34mdeprecated\u001b[0m] class ammonite.$sess.cmd17$Helper$ShiftRegisterIO (1 calls): Unable to automatically infer cloneType on class ammonite.$sess.cmd17$Helper$ShiftRegisterIO: constructor has parameters (gen, n) that are not both immutable and accessible. Either make all parameters immutable and accessible (vals) so cloneType can be inferred, or define a custom cloneType method.\n",
      "[\u001b[33mwarn\u001b[0m] \u001b[33mThere were 1 deprecated function(s) used. These may stop compiling in a future release, you are encouraged to fix these issues.\u001b[0m\n",
      "[\u001b[33mwarn\u001b[0m] Line numbers for deprecations reported by Chisel may be inaccurate, enable scalac compiler deprecation warnings by either:\n",
      "[\u001b[33mwarn\u001b[0m]   In the sbt interactive console, enter:\n",
      "[\u001b[33mwarn\u001b[0m]     set scalacOptions in ThisBuild ++= Seq(\"-unchecked\", \"-deprecation\")\n",
      "[\u001b[33mwarn\u001b[0m]   or, in your build.sbt, add the line:\n",
      "[\u001b[33mwarn\u001b[0m]     scalacOptions := Seq(\"-unchecked\", \"-deprecation\")\n",
      "[\u001b[35minfo\u001b[0m] [0.042] Done elaborating.\n",
      "Total FIRRTL Compile Time: 23.9 ms\n",
      "Total FIRRTL Compile Time: 14.8 ms\n",
      "End of dependency graph\n",
      "Circuit state created\n",
      "[\u001b[35minfo\u001b[0m] [0.000] SEED 1544409501712\n",
      "[\u001b[35minfo\u001b[0m] [0.000] Testing ShiftRegister of type chisel3.core.SInt@a and depth 4\n",
      "[\u001b[35minfo\u001b[0m] [0.001] 0: Vector(0, 11, 11, 11)\n",
      "[\u001b[35minfo\u001b[0m] [0.003] 1: Vector(1, 0, 11, 11)\n",
      "[\u001b[35minfo\u001b[0m] [0.006] 2: Vector(2, 1, 0, 11)\n",
      "[\u001b[35minfo\u001b[0m] [0.011] 3: Vector(3, 2, 1, 0)\n",
      "[\u001b[35minfo\u001b[0m] [0.012] 4: Vector(4, 3, 2, 1)\n",
      "[\u001b[35minfo\u001b[0m] [0.015] 5: Vector(5, 4, 3, 2)\n",
      "[\u001b[35minfo\u001b[0m] [0.017] 6: Vector(6, 5, 4, 3)\n",
      "[\u001b[35minfo\u001b[0m] [0.022] 7: Vector(7, 6, 5, 4)\n",
      "[\u001b[35minfo\u001b[0m] [0.023] 8: Vector(8, 7, 6, 5)\n",
      "[\u001b[35minfo\u001b[0m] [0.024] 9: Vector(9, 8, 7, 6)\n",
      "test cmd17HelperShiftRegister Success: 0 tests passed in 15 cycles taking 0.028390 seconds\n",
      "[\u001b[35minfo\u001b[0m] [0.027] RAN 10 CYCLES PASSED\n"
     ]
    },
    {
     "data": {
      "text/plain": [
       "defined \u001b[32mclass\u001b[39m \u001b[36mShiftRegisterIO\u001b[39m\n",
       "defined \u001b[32mclass\u001b[39m \u001b[36mShiftRegister\u001b[39m\n",
       "defined \u001b[32mclass\u001b[39m \u001b[36mShiftRegisterTester\u001b[39m\n",
       "\u001b[36mres17_3\u001b[39m: \u001b[32mBoolean\u001b[39m = true\n",
       "\u001b[36mres17_4\u001b[39m: \u001b[32mBoolean\u001b[39m = true"
      ]
     },
     "execution_count": 18,
     "metadata": {},
     "output_type": "execute_result"
    }
   ],
   "source": [
    "class ShiftRegisterIO[T <: Data](gen: T, n: Int) extends Bundle {\n",
    "    require (n >= 0, \"Shift register must have non-negative shift\")\n",
    "    \n",
    "    val in = Input(gen.cloneType)\n",
    "    val out = Output(Vec(n + 1, gen.cloneType)) // + 1 because in is included in out\n",
    "}\n",
    "\n",
    "class ShiftRegister[T <: Data](gen: T, n: Int) extends Module {\n",
    "    val io = IO(new ShiftRegisterIO(gen, n))\n",
    "    \n",
    "    io.out.foldLeft(io.in) { case (in, out) =>\n",
    "        out := in\n",
    "        RegNext(in)\n",
    "    }\n",
    "}\n",
    "\n",
    "class ShiftRegisterTester[T <: Bits](c: ShiftRegister[T]) extends PeekPokeTester(c) {\n",
    "    println(s\"Testing ShiftRegister of type ${c.io.in} and depth ${c.io.out.length}\")\n",
    "    for (i <- 0 until 10) {\n",
    "        poke(c.io.in, i)\n",
    "        println(s\"$i: ${peek(c.io.out)}\")\n",
    "        step(1)\n",
    "    }\n",
    "}\n",
    "\n",
    "Driver(() => new ShiftRegister(UInt(4.W), 5)) { c => new ShiftRegisterTester(c) }\n",
    "Driver(() => new ShiftRegister(SInt(6.W), 3)) { c => new ShiftRegisterTester(c) }"
   ]
  },
  {
   "cell_type": "markdown",
   "metadata": {},
   "source": [
    "We generally recommend avoiding to use inheritance with type generics.\n",
    "It can be very tricky to do properly and can get frustrating quickly."
   ]
  },
  {
   "cell_type": "markdown",
   "metadata": {},
   "source": [
    "## Type Generics with Typeclasses\n",
    "\n",
    "The example above was limited to simple operations that could be performed on any instance of `Data` such as `:=` or `RegNext()`.\n",
    "When generating DSP circuits, we would like to do mathematical operations like addition and multiplication.\n",
    "The `dsptools` library provides tools for writing type parameterized DSP generators.\n",
    "\n",
    "Here is an example of writing a multiply-accumulate module.\n",
    "It can be used to generate a multiply-accumulate (MAC) for `FixedPoint`, `SInt`, or even `DspComplex[T]` (the complex number type provided by `dsptools`).\n",
    "The syntax of the type bound is a little different because `dsptools` uses typeclasses.\n",
    "They are beyond the scope of this notebook.\n",
    "Read the `dsptools` readme and documentation for more information on using typeclasses.\n",
    "\n",
    "`T <: Data : Ring` means that `T` is a subtype of `Data` and is also a `Ring` .\n",
    "`Ring` is defined in `dsptools` as a number with `+` and `*` (among other operations).\n",
    "\n",
    "_An alternative to `Ring` would be `Real`, but that would not allow us to make a MAC for `DspComplex()` because complex numbers are not `Real`._\n",
    "\n"
   ]
  },
  {
   "cell_type": "code",
   "execution_count": 17,
   "metadata": {},
   "outputs": [
    {
     "name": "stdout",
     "output_type": "stream",
     "text": [
      "[\u001b[35minfo\u001b[0m] [0.000] Elaborating design...\n",
      "[\u001b[35minfo\u001b[0m] [0.358] Done elaborating.\n",
      "Total FIRRTL Compile Time: 64.6 ms\n",
      "module cmd16HelperMac( // @[:@3.2]\n",
      "  input        clock, // @[:@4.4]\n",
      "  input        reset, // @[:@5.4]\n",
      "  input  [3:0] io_a, // @[:@6.4]\n",
      "  input  [3:0] io_b, // @[:@6.4]\n",
      "  input  [3:0] io_c, // @[:@6.4]\n",
      "  output [5:0] io_out // @[:@6.4]\n",
      ");\n",
      "  wire [7:0] _T_13; // @[UIntTypeClass.scala 39:41:@8.4]\n",
      "  wire [7:0] _GEN_0; // @[UIntTypeClass.scala 18:40:@9.4]\n",
      "  wire [8:0] _T_14; // @[UIntTypeClass.scala 18:40:@9.4]\n",
      "  wire [7:0] _T_15; // @[UIntTypeClass.scala 18:40:@10.4]\n",
      "  assign _T_13 = io_a * io_b; // @[UIntTypeClass.scala 39:41:@8.4]\n",
      "  assign _GEN_0 = {{4'd0}, io_c}; // @[UIntTypeClass.scala 18:40:@9.4]\n",
      "  assign _T_14 = _T_13 + _GEN_0; // @[UIntTypeClass.scala 18:40:@9.4]\n",
      "  assign _T_15 = _T_14[7:0]; // @[UIntTypeClass.scala 18:40:@10.4]\n",
      "  assign io_out = _T_15[5:0];\n",
      "endmodule\n",
      "\n",
      "[\u001b[35minfo\u001b[0m] [0.000] Elaborating design...\n",
      "[\u001b[35minfo\u001b[0m] [0.021] Done elaborating.\n",
      "Total FIRRTL Compile Time: 40.8 ms\n",
      "module cmd16HelperMac( // @[:@3.2]\n",
      "  input        clock, // @[:@4.4]\n",
      "  input        reset, // @[:@5.4]\n",
      "  input  [3:0] io_a, // @[:@6.4]\n",
      "  input  [3:0] io_b, // @[:@6.4]\n",
      "  input  [3:0] io_c, // @[:@6.4]\n",
      "  output [5:0] io_out // @[:@6.4]\n",
      ");\n",
      "  wire [7:0] _T_13; // @[SIntTypeClass.scala 44:41:@8.4]\n",
      "  wire [7:0] _GEN_0; // @[SIntTypeClass.scala 18:40:@9.4]\n",
      "  wire [8:0] _T_14; // @[SIntTypeClass.scala 18:40:@9.4]\n",
      "  wire [7:0] _T_15; // @[SIntTypeClass.scala 18:40:@10.4]\n",
      "  wire [7:0] _T_16; // @[SIntTypeClass.scala 18:40:@11.4]\n",
      "  wire [5:0] _GEN_1;\n",
      "  assign _T_13 = $signed(io_a) * $signed(io_b); // @[SIntTypeClass.scala 44:41:@8.4]\n",
      "  assign _GEN_0 = {{4{io_c[3]}},io_c}; // @[SIntTypeClass.scala 18:40:@9.4]\n",
      "  assign _T_14 = $signed(_T_13) + $signed(_GEN_0); // @[SIntTypeClass.scala 18:40:@9.4]\n",
      "  assign _T_15 = _T_14[7:0]; // @[SIntTypeClass.scala 18:40:@10.4]\n",
      "  assign _T_16 = $signed(_T_15); // @[SIntTypeClass.scala 18:40:@11.4]\n",
      "  assign _GEN_1 = _T_16[5:0];\n",
      "  assign io_out = $signed(_GEN_1);\n",
      "endmodule\n",
      "\n",
      "[\u001b[35minfo\u001b[0m] [0.000] Elaborating design...\n",
      "[\u001b[35minfo\u001b[0m] [0.051] Done elaborating.\n",
      "Total FIRRTL Compile Time: 35.7 ms\n",
      "module cmd16HelperMac( // @[:@3.2]\n",
      "  input        clock, // @[:@4.4]\n",
      "  input        reset, // @[:@5.4]\n",
      "  input  [3:0] io_a, // @[:@6.4]\n",
      "  input  [3:0] io_b, // @[:@6.4]\n",
      "  input  [3:0] io_c, // @[:@6.4]\n",
      "  output [5:0] io_out // @[:@6.4]\n",
      ");\n",
      "  wire [7:0] _T_13; // @[FixedPointTypeClass.scala 43:59:@8.4]\n",
      "  wire [6:0] _GEN_0; // @[FixedPointTypeClass.scala 21:58:@9.4]\n",
      "  wire [6:0] _GEN_1; // @[FixedPointTypeClass.scala 21:58:@9.4]\n",
      "  wire [7:0] _GEN_2; // @[FixedPointTypeClass.scala 21:58:@9.4]\n",
      "  wire [8:0] _T_14; // @[FixedPointTypeClass.scala 21:58:@9.4]\n",
      "  wire [7:0] _T_15; // @[FixedPointTypeClass.scala 21:58:@10.4]\n",
      "  wire [7:0] _T_16; // @[FixedPointTypeClass.scala 21:58:@11.4]\n",
      "  assign _T_13 = $signed(io_a) * $signed(io_b); // @[FixedPointTypeClass.scala 43:59:@8.4]\n",
      "  assign _GEN_0 = {{3{io_c[3]}},io_c}; // @[FixedPointTypeClass.scala 21:58:@9.4]\n",
      "  assign _GEN_1 = $signed(_GEN_0) << 3; // @[FixedPointTypeClass.scala 21:58:@9.4]\n",
      "  assign _GEN_2 = {{1{_GEN_1[6]}},_GEN_1}; // @[FixedPointTypeClass.scala 21:58:@9.4]\n",
      "  assign _T_14 = $signed(_T_13) + $signed(_GEN_2); // @[FixedPointTypeClass.scala 21:58:@9.4]\n",
      "  assign _T_15 = _T_14[7:0]; // @[FixedPointTypeClass.scala 21:58:@10.4]\n",
      "  assign _T_16 = $signed(_T_15); // @[FixedPointTypeClass.scala 21:58:@11.4]\n",
      "  assign io_out = _T_16[7:2];\n",
      "endmodule\n",
      "\n"
     ]
    },
    {
     "data": {
      "text/plain": [
       "\u001b[32mimport \u001b[39m\u001b[36mchisel3.experimental._\n",
       "\u001b[39m\n",
       "\u001b[32mimport \u001b[39m\u001b[36mdsptools.numbers._\n",
       "\n",
       "\u001b[39m\n",
       "defined \u001b[32mclass\u001b[39m \u001b[36mMac\u001b[39m"
      ]
     },
     "execution_count": 17,
     "metadata": {},
     "output_type": "execute_result"
    }
   ],
   "source": [
    "import chisel3.experimental._\n",
    "import dsptools.numbers._\n",
    "\n",
    "class Mac[T <: Data : Ring](genIn : T, genOut: T) extends Module {\n",
    "    val io = IO(new Bundle {\n",
    "        val a = Input(genIn.cloneType)\n",
    "        val b = Input(genIn.cloneType)\n",
    "        val c = Input(genIn.cloneType)\n",
    "        val out = Output(genOut.cloneType)\n",
    "    })\n",
    "    io.out := io.a * io.b + io.c\n",
    "}\n",
    "\n",
    "println(getVerilog(new Mac(UInt(4.W), UInt(6.W)) ))\n",
    "println(getVerilog(new Mac(SInt(4.W), SInt(6.W)) ))\n",
    "println(getVerilog(new Mac(FixedPoint(4.W, 3.BP), FixedPoint(6.W, 4.BP))))\n"
   ]
  },
  {
   "cell_type": "markdown",
   "metadata": {},
   "source": [
    "<span style=\"color:red\">**Exercise: Mac as Object**</span><br>\n",
    "\n",
    "The Mac `Module` has a small number of inputs and just one output.\n",
    "It might be convenient for other Chisel generators to write code like\n",
    "```scala\n",
    "val out = Mac(a, b, c)\n",
    "```\n",
    "\n",
    "Implement an `apply` method in the `Mac` companion object below that implements the `Mac` functionality."
   ]
  },
  {
   "cell_type": "code",
   "execution_count": 22,
   "metadata": {},
   "outputs": [
    {
     "name": "stdout",
     "output_type": "stream",
     "text": [
      "[\u001b[35minfo\u001b[0m] [0.000] Elaborating design...\n",
      "[\u001b[35minfo\u001b[0m] [0.025] Done elaborating.\n",
      "Total FIRRTL Compile Time: 35.3 ms\n",
      "module cmd21HelperMacTestModule( // @[:@3.2]\n",
      "  input        clock, // @[:@4.4]\n",
      "  input        reset, // @[:@5.4]\n",
      "  input  [3:0] io_uin, // @[:@6.4]\n",
      "  output [7:0] io_uout, // @[:@6.4]\n",
      "  input  [3:0] io_sin, // @[:@6.4]\n",
      "  output [7:0] io_sout // @[:@6.4]\n",
      ");\n",
      "  wire [7:0] _T_13; // @[UIntTypeClass.scala 39:41:@8.4]\n",
      "  wire [7:0] _GEN_0; // @[UIntTypeClass.scala 18:40:@9.4]\n",
      "  wire [8:0] _T_14; // @[UIntTypeClass.scala 18:40:@9.4]\n",
      "  wire [7:0] _T_15; // @[UIntTypeClass.scala 18:40:@10.4]\n",
      "  wire [7:0] _T_16; // @[SIntTypeClass.scala 44:41:@12.4]\n",
      "  wire [7:0] _GEN_1; // @[SIntTypeClass.scala 18:40:@13.4]\n",
      "  wire [8:0] _T_17; // @[SIntTypeClass.scala 18:40:@13.4]\n",
      "  wire [7:0] _T_18; // @[SIntTypeClass.scala 18:40:@14.4]\n",
      "  wire [7:0] _T_19; // @[SIntTypeClass.scala 18:40:@15.4]\n",
      "  assign _T_13 = io_uin * io_uin; // @[UIntTypeClass.scala 39:41:@8.4]\n",
      "  assign _GEN_0 = {{4'd0}, io_uin}; // @[UIntTypeClass.scala 18:40:@9.4]\n",
      "  assign _T_14 = _T_13 + _GEN_0; // @[UIntTypeClass.scala 18:40:@9.4]\n",
      "  assign _T_15 = _T_14[7:0]; // @[UIntTypeClass.scala 18:40:@10.4]\n",
      "  assign _T_16 = $signed(io_sin) * $signed(io_sin); // @[SIntTypeClass.scala 44:41:@12.4]\n",
      "  assign _GEN_1 = {{4{io_sin[3]}},io_sin}; // @[SIntTypeClass.scala 18:40:@13.4]\n",
      "  assign _T_17 = $signed(_T_16) + $signed(_GEN_1); // @[SIntTypeClass.scala 18:40:@13.4]\n",
      "  assign _T_18 = _T_17[7:0]; // @[SIntTypeClass.scala 18:40:@14.4]\n",
      "  assign _T_19 = $signed(_T_18); // @[SIntTypeClass.scala 18:40:@15.4]\n",
      "  assign io_uout = _T_15;\n",
      "  assign io_sout = _T_19;\n",
      "endmodule\n",
      "\n"
     ]
    },
    {
     "data": {
      "text/plain": [
       "defined \u001b[32mobject\u001b[39m \u001b[36mMac\u001b[39m\n",
       "defined \u001b[32mclass\u001b[39m \u001b[36mMacTestModule\u001b[39m"
      ]
     },
     "execution_count": 22,
     "metadata": {},
     "output_type": "execute_result"
    }
   ],
   "source": [
    "object Mac {\n",
    "    def apply[T <: Data : Ring](a: T, b: T, c: T): T = {\n",
    "        a*b+c\n",
    "    }\n",
    "}\n",
    "\n",
    "class MacTestModule extends Module {\n",
    "    val io = IO(new Bundle {\n",
    "        val uin = Input(UInt(4.W))\n",
    "        val uout = Output(UInt())\n",
    "        val sin = Input(SInt(4.W))\n",
    "        val sout = Output(SInt())\n",
    "        //val fin = Input(FixedPoint(16.W, 12.BP))\n",
    "        //val fout = Output(FixedPoint())\n",
    "    })\n",
    "    // for each IO pair, do out = in * in + in\n",
    "    io.uout := Mac(io.uin, io.uin, io.uin)\n",
    "    io.sout := Mac(io.sin, io.sin, io.sin)\n",
    "    //io.fout := Mac(io.fin, io.fin, io.fin)\n",
    "}\n",
    "println(getVerilog(new MacTestModule))"
   ]
  },
  {
   "cell_type": "markdown",
   "metadata": {},
   "source": [
    "<div id=\"container\"><section id=\"accordion\"><div>\n",
    "<input type=\"checkbox\" id=\"check-1\" />\n",
    "<label for=\"check-1\"><strong>Solution</strong> (click to toggle displaying)</label>\n",
    "<article>\n",
    "<pre style=\"background-color:#f7f7f7\">\n",
    "object Mac {\n",
    "    def apply\\[T <: Data : Ring\\](a: T, b: T, c: T): T = {\n",
    "        // you can also instantiate the Mac from above and connect the IOs to arguments\n",
    "        a * b + c\n",
    "    }\n",
    "}\n",
    "\n",
    "</pre></article></div></section></div>"
   ]
  },
  {
   "cell_type": "markdown",
   "metadata": {},
   "source": [
    "<span style=\"color:red\">**Exercise: Integrator**</span><br>\n",
    "Implement an integrator as pictured below. $n_1$ is the width of `genReg` and $n_2$ is the width of `genIn`.\n",
    "\n",
    "Don't forget that `Reg`, `RegInit`, `RegNext`, `RegEnable`, etc. are templated for types `T <: Data`.\n",
    "\n",
    "<img src=\"images/integrator.svg\" alt=\"Integrator\" style=\"width: 250px;\"/>"
   ]
  },
  {
   "cell_type": "code",
   "execution_count": 23,
   "metadata": {},
   "outputs": [
    {
     "name": "stdout",
     "output_type": "stream",
     "text": [
      "[\u001b[35minfo\u001b[0m] [0.000] Elaborating design...\n",
      "[\u001b[35minfo\u001b[0m] [0.007] Done elaborating.\n",
      "Total FIRRTL Compile Time: 13.0 ms\n",
      "Total FIRRTL Compile Time: 10.3 ms\n",
      "End of dependency graph\n",
      "Circuit state created\n",
      "[\u001b[35minfo\u001b[0m] [0.000] SEED 1544411792858\n",
      "test cmd22HelperIntegrator Success: 4 tests passed in 8 cycles taking 0.006504 seconds\n",
      "[\u001b[35minfo\u001b[0m] [0.004] RAN 3 CYCLES PASSED\n"
     ]
    },
    {
     "data": {
      "text/plain": [
       "defined \u001b[32mclass\u001b[39m \u001b[36mIntegrator\u001b[39m\n",
       "defined \u001b[32mclass\u001b[39m \u001b[36mIntegratorSIntTester\u001b[39m\n",
       "\u001b[36mres22_2\u001b[39m: \u001b[32mBoolean\u001b[39m = true"
      ]
     },
     "execution_count": 23,
     "metadata": {},
     "output_type": "execute_result"
    }
   ],
   "source": [
    "class Integrator[T <: Data : Ring](genIn: T, genReg: T) extends Module {\n",
    "    val io = IO(new Bundle {\n",
    "        val in  = Input(genIn.cloneType)\n",
    "        val out = Output(genReg.cloneType)\n",
    "    })\n",
    "    \n",
    "    val reg = RegInit(genReg, Ring[T].zero) // init to zero\n",
    "    reg := reg + io.in\n",
    "    io.out := reg\n",
    "}\n",
    "\n",
    "class IntegratorSIntTester(c: Integrator[SInt]) extends PeekPokeTester(c) {\n",
    "    poke(c.io.in, 3)\n",
    "    expect(c.io.out, 0)\n",
    "    step(1)\n",
    "    poke(c.io.in, -4)\n",
    "    expect(c.io.out, 3)\n",
    "    step(1)\n",
    "    poke(c.io.in, 6)\n",
    "    expect(c.io.out, -1)\n",
    "    step(1)\n",
    "    expect(c.io.out, 5)\n",
    "}\n",
    "\n",
    "chisel3.iotesters.Driver(() => new Integrator(SInt(4.W), SInt(8.W))) { c => new IntegratorSIntTester(c) }"
   ]
  },
  {
   "cell_type": "markdown",
   "metadata": {},
   "source": [
    "<div id=\"container\"><section id=\"accordion\"><div>\n",
    "<input type=\"checkbox\" id=\"check-2\" />\n",
    "<label for=\"check-2\"><strong>Solution</strong> (click to toggle displaying)</label>\n",
    "<article>\n",
    "<pre style=\"background-color:#f7f7f7\">\n",
    "\n",
    "class Integrator\\[T <: Data : Ring\\](genIn: T, genReg: T) extends Module {\n",
    "    val io = IO(new Bundle {\n",
    "        val in  = Input(genIn.cloneType)\n",
    "        val out = Output(genReg.cloneType)\n",
    "    })\n",
    "    \n",
    "    val reg = RegInit(genReg, Ring[T].zero) // init to zero\n",
    "    reg := reg + io.in\n",
    "    io.out := reg\n",
    "}\n",
    "\n",
    "</pre></article></div></section></div>"
   ]
  },
  {
   "cell_type": "markdown",
   "metadata": {},
   "source": [
    "---\n",
    "# Creating a Custom Type<a name=\"creating-a-custom-type\"></a>\n",
    "\n",
    "One of the things that makes Chisel powerful is its extensibility.\n",
    "You can add your own types that have their own operations and representations that are tailored to your application.\n",
    "This section will introduce ways to make custom types."
   ]
  },
  {
   "cell_type": "markdown",
   "metadata": {},
   "source": [
    "<span style=\"color:blue\">**Example: DspComplex**</span><br>\n",
    "`DspComplex` is a custom data type defined in **dsptools** [here](https://github.com/ucb-bar/dsptools/blob/v1.0.0/src/main/scala/dsptools/numbers/chisel_concrete/DspComplex.scala#L59).\n",
    "The key line to understand is this:\n",
    "```scala\n",
    "class DspComplex[T <: Data:Ring](val real: T, val imag: T) extends Bundle { ... }\n",
    "```\n",
    "\n",
    "`DspComplex` is a type-generic container.\n",
    "That means the real and imaginary parts of a complex number can be any type as long as they satisfy the type constraints, given by `T <: Data : Ring`.\n",
    "\n",
    "`T <: Data` means `T` is a subtype of `chisel3.Data`, the base type for Chisel objects.\n",
    "This means that `DspComplex` only works for objects that are Chisel types and not arbitrary Scala types.\n",
    "\n",
    "`T : Ring` means that a Ring typeclass implementation for `T` exists.\n",
    "`Ring` typeclasses define `+` and `*` operators as well as additive and multiplicative identities (see [this Wikipedia article](https://en.wikipedia.org/wiki/Ring_(mathematics)) for details about rings).\n",
    "**dsptools** defines typeclasses for commonly used Chisel types [here](https://github.com/ucb-bar/dsptools/tree/v1.0.0/src/main/scala/dsptools/numbers/chisel_types).\n",
    "\n",
    "**dsptools** also defines a `Ring` typeclass for `DspComplex`, so we can reuse our MAC generator with complex numbers:"
   ]
  },
  {
   "cell_type": "code",
   "execution_count": 24,
   "metadata": {},
   "outputs": [
    {
     "name": "stdout",
     "output_type": "stream",
     "text": [
      "[\u001b[35minfo\u001b[0m] [0.000] Elaborating design...\n"
     ]
    },
    {
     "ename": "",
     "evalue": "",
     "output_type": "error",
     "traceback": [
      "\u001b[31mjava.lang.NullPointerException\u001b[39m\n  ammonite.$sess.cmd16$Helper$Mac.<init>(\u001b[32mcmd16.sc\u001b[39m:\u001b[32m4\u001b[39m)\n  ammonite.$sess.cmd23$Helper$$anonfun$1.apply(\u001b[32mcmd23.sc\u001b[39m:\u001b[32m1\u001b[39m)\n  ammonite.$sess.cmd23$Helper$$anonfun$1.apply(\u001b[32mcmd23.sc\u001b[39m:\u001b[32m1\u001b[39m)\n  chisel3.core.Module$.do_apply(\u001b[32mModule.scala\u001b[39m:\u001b[32m49\u001b[39m)\n  chisel3.Driver$$anonfun$elaborate$1.apply(\u001b[32mDriver.scala\u001b[39m:\u001b[32m93\u001b[39m)\n  chisel3.Driver$$anonfun$elaborate$1.apply(\u001b[32mDriver.scala\u001b[39m:\u001b[32m93\u001b[39m)\n  chisel3.internal.Builder$$anonfun$build$1.apply(\u001b[32mBuilder.scala\u001b[39m:\u001b[32m297\u001b[39m)\n  chisel3.internal.Builder$$anonfun$build$1.apply(\u001b[32mBuilder.scala\u001b[39m:\u001b[32m295\u001b[39m)\n  scala.util.DynamicVariable.withValue(\u001b[32mDynamicVariable.scala\u001b[39m:\u001b[32m58\u001b[39m)\n  chisel3.internal.Builder$.build(\u001b[32mBuilder.scala\u001b[39m:\u001b[32m295\u001b[39m)\n  chisel3.Driver$.elaborate(\u001b[32mDriver.scala\u001b[39m:\u001b[32m93\u001b[39m)\n  chisel3.Driver$.execute(\u001b[32mDriver.scala\u001b[39m:\u001b[32m140\u001b[39m)\n  chisel3.Driver$.execute(\u001b[32mDriver.scala\u001b[39m:\u001b[32m202\u001b[39m)\n  ammonite.$file.dummy.source.load$minusivy$Helper.getVerilog(\u001b[32mMain.sc\u001b[39m:\u001b[32m9\u001b[39m)\n  ammonite.$sess.cmd23$Helper.<init>(\u001b[32mcmd23.sc\u001b[39m:\u001b[32m1\u001b[39m)\n  ammonite.$sess.cmd23$.<init>(\u001b[32mcmd23.sc\u001b[39m:\u001b[32m7\u001b[39m)\n  ammonite.$sess.cmd23$.<clinit>(\u001b[32mcmd23.sc\u001b[39m:\u001b[32m-1\u001b[39m)"
     ]
    }
   ],
   "source": [
    "println(getVerilog(new Mac(DspComplex(SInt(4.W), SInt(4.W)), DspComplex(SInt(6.W), SInt(6.W))) ))"
   ]
  },
  {
   "cell_type": "markdown",
   "metadata": {},
   "source": [
    "<span style=\"color:red\">**Exercise: Sign-magnitude Numbers**</span><br>\n",
    "Suppose you wanted to use a sign-magnitude representation and want to reuse all of your DSP generators.\n",
    "Typeclasses enable this kind of ad-hoc polymorphism.\n",
    "The following example gives the beggining of an implementation of a SignMagnitude type as well as an implementation of a `Ring` typeclass that will allow the type to be used with the Mac generator.\n",
    "\n",
    "Fill in implementations for `+` and `*`.\n",
    "You should pattern them after the implementation for `unary_-()`.\n",
    "The next block contains a test that checks the correctness of a `Mac` that uses `SignMagnitude`."
   ]
  },
  {
   "cell_type": "code",
   "execution_count": 24,
   "metadata": {},
   "outputs": [
    {
     "name": "stderr",
     "output_type": "stream",
     "text": [
      "cmd24.sc:7: type mismatch;\n",
      " found   : Unit\n",
      " required: Helper.this.SignMagnitude\n",
      " Note: implicit object SignMagnitudeRingImpl is not applicable here because it comes after the application point and it lacks an explicit result type\n",
      "    def +(that: SignMagnitude): SignMagnitude = {\n",
      "                                                ^cmd24.sc:19: type mismatch;\n",
      " found   : Unit\n",
      " required: Helper.this.SignMagnitude\n",
      " Note: implicit object SignMagnitudeRingImpl is not applicable here because it comes after the application point and it lacks an explicit result type\n",
      "    def *(that: SignMagnitude): SignMagnitude = {\n",
      "                                                ^Compilation Failed"
     ]
    },
    {
     "ename": "",
     "evalue": "",
     "output_type": "error",
     "traceback": [
      "Compilation Failed"
     ]
    }
   ],
   "source": [
    "class SignMagnitude(val magnitudeWidth: Option[Int] = None) extends Bundle {\n",
    "    val sign = Bool()\n",
    "    val magnitude = magnitudeWidth match {\n",
    "        case Some(w) => UInt(w.W)\n",
    "        case None    => UInt()\n",
    "    }\n",
    "    def +(that: SignMagnitude): SignMagnitude = {\n",
    "        // Implement this!\n",
    "    }\n",
    "    def -(that: SignMagnitude): SignMagnitude = {\n",
    "        this.+(-that)\n",
    "    }\n",
    "    def unary_-(): SignMagnitude = {\n",
    "        val result = Wire(new SignMagnitude())\n",
    "        result.sign := !this.sign\n",
    "        result.magnitude := this.magnitude\n",
    "        result\n",
    "    }\n",
    "    def *(that: SignMagnitude): SignMagnitude = {\n",
    "        // Implement this!\n",
    "    }\n",
    "    override def cloneType: this.type = new SignMagnitude(magnitudeWidth).asInstanceOf[this.type]\n",
    "}\n",
    "trait SignMagnitudeRing extends Ring[SignMagnitude] {\n",
    "    def plus(f: SignMagnitude, g: SignMagnitude): SignMagnitude = {\n",
    "        f + g\n",
    "    }\n",
    "    def times(f: SignMagnitude, g: SignMagnitude): SignMagnitude = {\n",
    "        f * g\n",
    "    }\n",
    "    def one: SignMagnitude = {\n",
    "        val one = Wire(new SignMagnitude(Some(1)))\n",
    "        one.sign := false.B\n",
    "        one.magnitude := 1.U\n",
    "        one\n",
    "    }\n",
    "    def zero: SignMagnitude = {\n",
    "        val zero = Wire(new SignMagnitude(Some(0)))\n",
    "        zero.sign := false.B\n",
    "        zero.magnitude := 0.U\n",
    "        zero\n",
    "    }\n",
    "    def negate(f: SignMagnitude): SignMagnitude = {\n",
    "        -f\n",
    "    }\n",
    "    \n",
    "    // Leave unimplemented for this example\n",
    "    def minusContext(f: SignMagnitude, g: SignMagnitude): SignMagnitude = ???\n",
    "    def negateContext(f: SignMagnitude): SignMagnitude = ???\n",
    "    def plusContext(f: SignMagnitude,g: SignMagnitude): SignMagnitude = ???\n",
    "    def timesContext(f: SignMagnitude,g: SignMagnitude): SignMagnitude = ???\n",
    "}\n",
    "implicit object SignMagnitudeRingImpl extends SignMagnitudeRing"
   ]
  },
  {
   "cell_type": "code",
   "execution_count": null,
   "metadata": {},
   "outputs": [],
   "source": [
    "class SignMagnitudeMACTester(c: Mac[SignMagnitude]) extends PeekPokeTester(c) {\n",
    "    // 3 * 3 + 2 = 11\n",
    "    poke(c.io.a.sign, 0)\n",
    "    poke(c.io.a.magnitude, 3)\n",
    "    poke(c.io.b.sign, 0)\n",
    "    poke(c.io.b.magnitude, 3)\n",
    "    poke(c.io.c.sign, 0)\n",
    "    poke(c.io.c.magnitude, 2)\n",
    "    expect(c.io.out.sign, 0)\n",
    "    expect(c.io.out.magnitude, 11)\n",
    "    // 3 * 3 - 2 = 7\n",
    "    poke(c.io.c.sign, 1)\n",
    "    expect(c.io.out.sign, 0)\n",
    "    expect(c.io.out.magnitude, 7)\n",
    "    // 3 * (-3) - 2 = -11\n",
    "    poke(c.io.b.sign, 1)\n",
    "    expect(c.io.out.sign, 1)\n",
    "    expect(c.io.out.magnitude, 11)\n",
    "}\n",
    "val works = iotesters.Driver(() => new Mac(new SignMagnitude(Some(4)), new SignMagnitude(Some(5)))) {\n",
    "  c => new SignMagnitudeMACTester(c)\n",
    "}\n",
    "assert(works) // Scala Code: if works == false, will throw an error\n",
    "println(\"SUCCESS!!\") // Scala Code: if we get here, our tests passed!"
   ]
  },
  {
   "cell_type": "markdown",
   "metadata": {},
   "source": [
    "Look at the verilog to see if the output looks reasonable:"
   ]
  },
  {
   "cell_type": "code",
   "execution_count": null,
   "metadata": {},
   "outputs": [],
   "source": [
    "println(getVerilog(new Mac(new SignMagnitude(Some(4)), new SignMagnitude(Some(5)))))"
   ]
  },
  {
   "cell_type": "markdown",
   "metadata": {},
   "source": [
    "`SignMagnitude` even works with `DspComplex`!"
   ]
  },
  {
   "cell_type": "code",
   "execution_count": null,
   "metadata": {},
   "outputs": [],
   "source": [
    "println(getVerilog(new Mac(DspComplex(new SignMagnitude(Some(4)), new SignMagnitude(Some(4))), DspComplex(new SignMagnitude(Some(5)), new SignMagnitude(Some(5))))))"
   ]
  },
  {
   "cell_type": "markdown",
   "metadata": {},
   "source": [
    "<div id=\"container\"><section id=\"accordion\"><div>\n",
    "<input type=\"checkbox\" id=\"check-3\" />\n",
    "<label for=\"check-3\"><strong>Solution</strong> (click to toggle displaying)</label>\n",
    "<article>\n",
    "<pre style=\"background-color:#f7f7f7\">\n",
    "    // implementations for class SignMagnitude\n",
    "\n",
    "    def +(that: SignMagnitude): SignMagnitude = {\n",
    "      val result = Wire(new SignMagnitude())\n",
    "      val signsTheSame = this.sign === that.sign\n",
    "      when (signsTheSame) {\n",
    "        result.sign      := this.sign\n",
    "        result.magnitude := this.magnitude + that.magnitude\n",
    "      } .otherwise {\n",
    "        when (this.magnitude > that.magnitude) {\n",
    "          result.sign      := this.sign\n",
    "          result.magnitude := this.magnitude - that.magnitude\n",
    "        } .otherwise {\n",
    "          result.sign      := that.sign\n",
    "          result.magnitude := that.magnitude - this.magnitude\n",
    "        }   \n",
    "      }   \n",
    "      result\n",
    "    }\n",
    "    def \\*(that: SignMagnitude): SignMagnitude = {\n",
    "        val result = Wire(new SignMagnitude())\n",
    "        result.sign := this.sign ^ that.sign\n",
    "        result.magnitude := this.magnitude \\* that.magnitude\n",
    "        result\n",
    "    }\n",
    "\n",
    "\n",
    "</pre></article></div></section></div>"
   ]
  }
 ],
 "metadata": {
  "kernelspec": {
   "display_name": "Scala",
   "language": "scala",
   "name": "scala"
  },
  "language_info": {
   "codemirror_mode": "text/x-scala",
   "file_extension": ".scala",
   "mimetype": "text/x-scala",
   "name": "scala",
   "nbconvert_exporter": "script",
   "version": "2.11.12"
  }
 },
 "nbformat": 4,
 "nbformat_minor": 1
}
